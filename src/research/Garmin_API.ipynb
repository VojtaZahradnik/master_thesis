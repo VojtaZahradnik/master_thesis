{
 "cells": [
  {
   "cell_type": "code",
   "execution_count": 21,
   "outputs": [],
   "source": [
    "import sys\n",
    "import pandas as pd \n",
    "sys.path.insert(0,'/home/zahradnik/PycharmProjects/master_thesis')"
   ],
   "metadata": {
    "collapsed": false,
    "ExecuteTime": {
     "end_time": "2023-08-29T19:15:25.482513664Z",
     "start_time": "2023-08-29T19:15:25.441988882Z"
    }
   }
  },
  {
   "cell_type": "code",
   "execution_count": 2,
   "outputs": [
    {
     "name": "stdout",
     "output_type": "stream",
     "text": [
      "/home/zahradnik/PycharmProjects/master_thesis/src/modules/__init__.py\n",
      "/home/zahradnik/PycharmProjects/master_thesis\n"
     ]
    }
   ],
   "source": [
    "import os\n",
    "import datetime\n",
    "from garminconnect import (\n",
    "    Garmin,\n",
    "    GarminConnectConnectionError,\n",
    "    GarminConnectTooManyRequestsError,\n",
    "    GarminConnectAuthenticationError,\n",
    ")\n",
    "from src._Garmin_API import _GarminAPI\n",
    "from src.modules import conf, fit, raw_data, preprocess, df_columns"
   ],
   "metadata": {
    "collapsed": false,
    "ExecuteTime": {
     "end_time": "2023-08-29T18:49:54.886314456Z",
     "start_time": "2023-08-29T18:49:52.419388307Z"
    }
   }
  },
  {
   "cell_type": "code",
   "execution_count": 3,
   "outputs": [],
   "source": [
    "%load_ext autoreload\n",
    "%autoreload 2"
   ],
   "metadata": {
    "collapsed": false,
    "ExecuteTime": {
     "end_time": "2023-08-29T18:49:55.040990282Z",
     "start_time": "2023-08-29T18:49:54.873281543Z"
    }
   }
  },
  {
   "cell_type": "code",
   "execution_count": 4,
   "outputs": [
    {
     "name": "stdout",
     "output_type": "stream",
     "text": [
      "Requesting activities by date from 2022-08-29 to 2023-08-29\n"
     ]
    },
    {
     "name": "stderr",
     "output_type": "stream",
     "text": [
      "100%|██████████| 531/531 [03:58<00:00,  2.23it/s]\n"
     ]
    }
   ],
   "source": [
    "garmin = _GarminAPI(athlete_name=conf['Athlete']['name'])\n",
    "garmin.set_range(days_to_past=365)\n",
    "garmin.download_data()"
   ],
   "metadata": {
    "collapsed": false,
    "ExecuteTime": {
     "end_time": "2023-08-29T18:54:10.281300569Z",
     "start_time": "2023-08-29T18:49:54.935051910Z"
    }
   }
  },
  {
   "cell_type": "code",
   "execution_count": 5,
   "outputs": [
    {
     "name": "stderr",
     "output_type": "stream",
     "text": [
      "100%|██████████| 531/531 [00:02<00:00, 224.82it/s]\n"
     ]
    }
   ],
   "source": [
    "raw_data.unpack(path_to_load=conf['Paths']['raw'],\n",
    "                path_to_save=conf['Paths']['fit'],\n",
    "                athlete_name=conf['Athlete']['name'])"
   ],
   "metadata": {
    "collapsed": false,
    "ExecuteTime": {
     "end_time": "2023-08-29T18:54:12.835736913Z",
     "start_time": "2023-08-29T18:54:10.240164018Z"
    }
   }
  },
  {
   "cell_type": "code",
   "execution_count": 6,
   "outputs": [
    {
     "name": "stderr",
     "output_type": "stream",
     "text": [
      "100%|██████████| 531/531 [09:32<00:00,  1.08s/it]\n"
     ]
    }
   ],
   "source": [
    "raw_data.sort_activities(athlete_name=conf['Athlete']['name'],\n",
    "                         path_to_save=conf['Paths']['fit'])"
   ],
   "metadata": {
    "collapsed": false,
    "ExecuteTime": {
     "end_time": "2023-08-29T19:03:45.207985996Z",
     "start_time": "2023-08-29T18:54:12.698524545Z"
    }
   }
  },
  {
   "cell_type": "code",
   "execution_count": 7,
   "outputs": [
    {
     "name": "stderr",
     "output_type": "stream",
     "text": [
      " 41%|████▏     | 162/391 [04:08<08:25,  2.21s/it]"
     ]
    },
    {
     "name": "stdout",
     "output_type": "stream",
     "text": [
      "WARN: 2022-09-05 06:00:00 has basic weather values\n"
     ]
    },
    {
     "name": "stderr",
     "output_type": "stream",
     "text": [
      "100%|██████████| 391/391 [09:49<00:00,  1.51s/it]\n"
     ]
    }
   ],
   "source": [
    "dfs = preprocess.preprocessing(\n",
    "    activity_type='running',\n",
    "    athlete_name='zahradnik',\n",
    "    df_columns = ['timestamp','heart_rate','distance','enhanced_altitude','cadence','enhanced_speed'])"
   ],
   "metadata": {
    "collapsed": false,
    "ExecuteTime": {
     "end_time": "2023-08-29T19:13:34.966880262Z",
     "start_time": "2023-08-29T19:03:45.198852699Z"
    }
   }
  },
  {
   "cell_type": "code",
   "execution_count": 10,
   "outputs": [
    {
     "name": "stderr",
     "output_type": "stream",
     "text": [
      "100%|██████████| 385/385 [00:00<00:00, 790.52it/s]\n"
     ]
    }
   ],
   "source": [
    "data = fit.load_pcls(\n",
    "        'zahradnik',\n",
    "        'running',\n",
    "        conf[\"Paths\"][\"pcl\"],\n",
    "    )"
   ],
   "metadata": {
    "collapsed": false,
    "ExecuteTime": {
     "end_time": "2023-08-29T19:14:17.685672318Z",
     "start_time": "2023-08-29T19:14:17.177944412Z"
    }
   }
  },
  {
   "cell_type": "code",
   "execution_count": 17,
   "outputs": [],
   "source": [
    "train_df,test_df = fit.get_train_test_df(data)"
   ],
   "metadata": {
    "collapsed": false,
    "ExecuteTime": {
     "end_time": "2023-08-29T19:15:00.436818858Z",
     "start_time": "2023-08-29T19:14:53.394275988Z"
    }
   }
  },
  {
   "cell_type": "code",
   "execution_count": null,
   "outputs": [],
   "source": [],
   "metadata": {
    "collapsed": false
   }
  }
 ],
 "metadata": {
  "kernelspec": {
   "name": "python3",
   "language": "python",
   "display_name": "Python 3 (ipykernel)"
  },
  "language_info": {
   "codemirror_mode": {
    "name": "ipython",
    "version": 2
   },
   "file_extension": ".py",
   "mimetype": "text/x-python",
   "name": "python",
   "nbconvert_exporter": "python",
   "pygments_lexer": "ipython2",
   "version": "2.7.6"
  }
 },
 "nbformat": 4,
 "nbformat_minor": 0
}
