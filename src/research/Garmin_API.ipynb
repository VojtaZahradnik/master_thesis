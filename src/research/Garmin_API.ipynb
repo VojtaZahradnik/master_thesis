{
 "cells": [
  {
   "cell_type": "code",
   "execution_count": 1,
   "outputs": [],
   "source": [
    "import os\n",
    "import datetime\n",
    "from garminconnect import (\n",
    "    Garmin,\n",
    "    GarminConnectConnectionError,\n",
    "    GarminConnectTooManyRequestsError,\n",
    "    GarminConnectAuthenticationError,\n",
    ")\n",
    "from src._Garmin_API import _GarminAPI\n",
    "from src.modules import conf, fit, raw_data, preprocess, df_columns"
   ],
   "metadata": {
    "collapsed": false,
    "pycharm": {
     "name": "#%%\n"
    }
   }
  },
  {
   "cell_type": "code",
   "execution_count": 2,
   "outputs": [],
   "source": [
    "%load_ext autoreload\n",
    "%autoreload 2"
   ],
   "metadata": {
    "collapsed": false,
    "pycharm": {
     "name": "#%%\n"
    }
   }
  },
  {
   "cell_type": "code",
   "execution_count": 3,
   "outputs": [
    {
     "name": "stdout",
     "output_type": "stream",
     "text": [
      "Requesting activities by date from 2021-10-13 to 2022-10-13\n"
     ]
    },
    {
     "name": "stderr",
     "output_type": "stream",
     "text": [
      "100%|██████████| 578/578 [05:03<00:00,  1.90it/s]\n"
     ]
    }
   ],
   "source": [
    "garmin = _GarminAPI(athlete_name='test')\n",
    "garmin.set_range(days_to_past=365)\n",
    "garmin.download_data()"
   ],
   "metadata": {
    "collapsed": false,
    "pycharm": {
     "name": "#%%\n"
    }
   }
  },
  {
   "cell_type": "code",
   "execution_count": 9,
   "outputs": [
    {
     "name": "stderr",
     "output_type": "stream",
     "text": [
      "100%|██████████| 11/11 [00:00<00:00, 601.62it/s]\n"
     ]
    }
   ],
   "source": [
    "raw_data.unpack(path_to_load=conf['Paths']['raw'],\n",
    "                path_to_save=conf['Paths']['fit'],\n",
    "                athlete_name='test')"
   ],
   "metadata": {
    "collapsed": false,
    "pycharm": {
     "name": "#%%\n"
    }
   }
  },
  {
   "cell_type": "code",
   "execution_count": 11,
   "outputs": [
    {
     "name": "stderr",
     "output_type": "stream",
     "text": [
      "  0%|          | 0/3 [00:00<?, ?it/s]"
     ]
    },
    {
     "name": "stdout",
     "output_type": "stream",
     "text": [
      "0.0\n",
      "0.015999999945051968\n"
     ]
    },
    {
     "name": "stderr",
     "output_type": "stream",
     "text": [
      " 67%|██████▋   | 2/3 [00:01<00:00,  1.45it/s]"
     ]
    },
    {
     "name": "stdout",
     "output_type": "stream",
     "text": [
      "1.4690000000409782\n",
      "1.4690000000409782\n",
      "1.4690000000409782\n",
      "1.4690000000409782\n",
      "1.4849999999860302\n",
      "1.625\n",
      "1.625\n",
      "1.625\n",
      "1.625\n",
      "1.625\n"
     ]
    },
    {
     "name": "stderr",
     "output_type": "stream",
     "text": [
      "100%|██████████| 3/3 [00:02<00:00,  1.47it/s]"
     ]
    },
    {
     "name": "stdout",
     "output_type": "stream",
     "text": [
      "2.047000000020489\n",
      "2.047000000020489\n",
      "2.047000000020489\n"
     ]
    },
    {
     "name": "stderr",
     "output_type": "stream",
     "text": [
      "\n"
     ]
    }
   ],
   "source": [
    "raw_data.sort_activities(athlete_name='test',\n",
    "                         path_to_save=conf['Paths']['fit'])"
   ],
   "metadata": {
    "collapsed": false,
    "pycharm": {
     "name": "#%%\n"
    }
   }
  },
  {
   "cell_type": "code",
   "execution_count": 4,
   "outputs": [
    {
     "name": "stderr",
     "output_type": "stream",
     "text": [
      "100%|██████████| 381/381 [08:47<00:00,  1.38s/it]\n"
     ]
    }
   ],
   "source": [
    "dfs = preprocess.preprocessing('running','zahradnik',df_columns)"
   ],
   "metadata": {
    "collapsed": false,
    "pycharm": {
     "name": "#%%\n"
    }
   }
  },
  {
   "cell_type": "code",
   "execution_count": 5,
   "outputs": [
    {
     "name": "stderr",
     "output_type": "stream",
     "text": [
      "100%|██████████| 363/363 [00:00<00:00, 790.93it/s]\n"
     ]
    }
   ],
   "source": [
    "preprocess.save_pcls(dfs, 'running','zahradnik',conf['Paths']['pcl'])"
   ],
   "metadata": {
    "collapsed": false,
    "pycharm": {
     "name": "#%%\n"
    }
   }
  },
  {
   "cell_type": "code",
   "execution_count": 53,
   "outputs": [
    {
     "name": "stderr",
     "output_type": "stream",
     "text": [
      "100%|██████████| 8/8 [00:00<00:00, 999.95it/s]\n"
     ]
    }
   ],
   "source": [
    "data = fit.load_pcls(\n",
    "        'zahradnik',\n",
    "        'running',\n",
    "        conf[\"Paths\"][\"pcl\"],\n",
    "    )"
   ],
   "metadata": {
    "collapsed": false,
    "pycharm": {
     "name": "#%%\n"
    }
   }
  },
  {
   "cell_type": "code",
   "execution_count": 54,
   "outputs": [],
   "source": [
    "train_df = fit.get_train_df(data)\n",
    "test_df = fit.get_test_df(data)"
   ],
   "metadata": {
    "collapsed": false,
    "pycharm": {
     "name": "#%%\n"
    }
   }
  },
  {
   "cell_type": "code",
   "execution_count": 55,
   "outputs": [
    {
     "data": {
      "text/plain": "                     heart_rate  enhanced_speed  distance  enhanced_altitude  \\\ntimestamp                                                                      \n2022-10-04 18:20:44       111.0          8.7012      4.63              248.6   \n2022-10-04 18:20:45       117.0          9.4392      7.25              248.6   \n2022-10-04 18:20:46       120.0         11.3544     10.40              248.2   \n2022-10-04 18:20:47       120.0         13.4028     14.13              248.0   \n2022-10-04 18:20:48       122.0         14.7816     18.24              247.8   \n...                         ...             ...       ...                ...   \n2022-10-08 11:01:15       167.0         12.2616   1022.84              355.8   \n2022-10-08 11:01:16       168.0         12.3264   1027.19              355.8   \n2022-10-08 11:01:17       168.0         12.3264   1030.26              355.6   \n2022-10-08 11:01:18       168.0         12.2940   1035.36              355.4   \n2022-10-08 11:01:19       168.0         12.2616   1038.34              355.4   \n\n                     cadence  temp  wind_speed  wind_direct  rain  dist_diff  \\\ntimestamp                                                                      \n2022-10-04 18:20:44     83.0  13.2         7.9        298.0   0.0       2.42   \n2022-10-04 18:20:45     87.0  13.2         7.9        298.0   0.0       2.62   \n2022-10-04 18:20:46     88.0  13.2         7.9        298.0   0.0       3.15   \n2022-10-04 18:20:47     88.0  13.2         7.9        298.0   0.0       3.73   \n2022-10-04 18:20:48     90.0  13.2         7.9        298.0   0.0       4.11   \n...                      ...   ...         ...          ...   ...        ...   \n2022-10-08 11:01:15     86.0  13.2        16.4        239.0   0.1       4.04   \n2022-10-08 11:01:16     86.0  13.2        16.4        239.0   0.1       4.35   \n2022-10-08 11:01:17     86.0  13.2        16.4        239.0   0.1       3.07   \n2022-10-08 11:01:18     86.0  13.2        16.4        239.0   0.1       5.10   \n2022-10-08 11:01:19     86.0  13.2        16.4        239.0   0.1       2.98   \n\n                     ...  tan_slope_ascent  diff_slope_ascent  \\\ntimestamp            ...                                        \n2022-10-04 18:20:44  ...               0.0                0.0   \n2022-10-04 18:20:45  ...               0.0                0.0   \n2022-10-04 18:20:46  ...               0.0                0.0   \n2022-10-04 18:20:47  ...               0.0                0.0   \n2022-10-04 18:20:48  ...               0.0                0.0   \n...                  ...               ...                ...   \n2022-10-08 11:01:15  ...               0.0                0.0   \n2022-10-08 11:01:16  ...               0.0                0.0   \n2022-10-08 11:01:17  ...               0.0                0.0   \n2022-10-08 11:01:18  ...               0.0                0.0   \n2022-10-08 11:01:19  ...               0.0                0.0   \n\n                     sin_slope_descent  cos_slope_descent  tan_slope_descent  \\\ntimestamp                                                                      \n2022-10-04 18:20:44           0.000000           1.000000           0.000000   \n2022-10-04 18:20:45           0.000000           1.000000           0.000000   \n2022-10-04 18:20:46           0.389418           0.921061           0.422793   \n2022-10-04 18:20:47           0.198669           0.980067           0.202710   \n2022-10-04 18:20:48           0.198669           0.980067           0.202710   \n...                                ...                ...                ...   \n2022-10-08 11:01:15           0.198669           0.980067           0.202710   \n2022-10-08 11:01:16           0.000000           1.000000           0.000000   \n2022-10-08 11:01:17           0.198669           0.980067           0.202710   \n2022-10-08 11:01:18           0.198669           0.980067           0.202710   \n2022-10-08 11:01:19           0.000000           1.000000           0.000000   \n\n                     diff_slope_descent  sin_slope_steep  cos_slope_steep  \\\ntimestamp                                                                   \n2022-10-04 18:20:44        0.000000e+00         0.000000         1.000000   \n2022-10-04 18:20:45        0.000000e+00         0.000000         1.000000   \n2022-10-04 18:20:46        4.000000e-01         0.131659         0.991295   \n2022-10-04 18:20:47       -2.000000e-01        -0.796361         0.604821   \n2022-10-04 18:20:48        0.000000e+00        -0.988197         0.153186   \n...                                 ...              ...              ...   \n2022-10-08 11:01:15        2.000000e-01        -0.971786         0.235863   \n2022-10-08 11:01:16       -2.000000e-01         0.000000         1.000000   \n2022-10-08 11:01:17        2.000000e-01         0.229411         0.973330   \n2022-10-08 11:01:18        1.136868e-13        -0.703262        -0.710930   \n2022-10-08 11:01:19       -2.000000e-01         0.000000         1.000000   \n\n                     tan_slope_steep  diff_slope_steep  \ntimestamp                                               \n2022-10-04 18:20:44         0.000000          0.000000  \n2022-10-04 18:20:45         0.000000          0.000000  \n2022-10-04 18:20:46         0.132815         12.698413  \n2022-10-04 18:20:47        -1.316689         -7.336482  \n2022-10-04 18:20:48        -6.450983         -0.495750  \n...                              ...               ...  \n2022-10-08 11:01:15        -4.120139          4.950495  \n2022-10-08 11:01:16         0.000000         -4.950495  \n2022-10-08 11:01:17         0.235697          6.514658  \n2022-10-08 11:01:18         0.989214         -2.593089  \n2022-10-08 11:01:19         0.000000         -3.921569  \n\n[12987 rows x 78 columns]",
      "text/html": "<div>\n<style scoped>\n    .dataframe tbody tr th:only-of-type {\n        vertical-align: middle;\n    }\n\n    .dataframe tbody tr th {\n        vertical-align: top;\n    }\n\n    .dataframe thead th {\n        text-align: right;\n    }\n</style>\n<table border=\"1\" class=\"dataframe\">\n  <thead>\n    <tr style=\"text-align: right;\">\n      <th></th>\n      <th>heart_rate</th>\n      <th>enhanced_speed</th>\n      <th>distance</th>\n      <th>enhanced_altitude</th>\n      <th>cadence</th>\n      <th>temp</th>\n      <th>wind_speed</th>\n      <th>wind_direct</th>\n      <th>rain</th>\n      <th>dist_diff</th>\n      <th>...</th>\n      <th>tan_slope_ascent</th>\n      <th>diff_slope_ascent</th>\n      <th>sin_slope_descent</th>\n      <th>cos_slope_descent</th>\n      <th>tan_slope_descent</th>\n      <th>diff_slope_descent</th>\n      <th>sin_slope_steep</th>\n      <th>cos_slope_steep</th>\n      <th>tan_slope_steep</th>\n      <th>diff_slope_steep</th>\n    </tr>\n    <tr>\n      <th>timestamp</th>\n      <th></th>\n      <th></th>\n      <th></th>\n      <th></th>\n      <th></th>\n      <th></th>\n      <th></th>\n      <th></th>\n      <th></th>\n      <th></th>\n      <th></th>\n      <th></th>\n      <th></th>\n      <th></th>\n      <th></th>\n      <th></th>\n      <th></th>\n      <th></th>\n      <th></th>\n      <th></th>\n      <th></th>\n    </tr>\n  </thead>\n  <tbody>\n    <tr>\n      <th>2022-10-04 18:20:44</th>\n      <td>111.0</td>\n      <td>8.7012</td>\n      <td>4.63</td>\n      <td>248.6</td>\n      <td>83.0</td>\n      <td>13.2</td>\n      <td>7.9</td>\n      <td>298.0</td>\n      <td>0.0</td>\n      <td>2.42</td>\n      <td>...</td>\n      <td>0.0</td>\n      <td>0.0</td>\n      <td>0.000000</td>\n      <td>1.000000</td>\n      <td>0.000000</td>\n      <td>0.000000e+00</td>\n      <td>0.000000</td>\n      <td>1.000000</td>\n      <td>0.000000</td>\n      <td>0.000000</td>\n    </tr>\n    <tr>\n      <th>2022-10-04 18:20:45</th>\n      <td>117.0</td>\n      <td>9.4392</td>\n      <td>7.25</td>\n      <td>248.6</td>\n      <td>87.0</td>\n      <td>13.2</td>\n      <td>7.9</td>\n      <td>298.0</td>\n      <td>0.0</td>\n      <td>2.62</td>\n      <td>...</td>\n      <td>0.0</td>\n      <td>0.0</td>\n      <td>0.000000</td>\n      <td>1.000000</td>\n      <td>0.000000</td>\n      <td>0.000000e+00</td>\n      <td>0.000000</td>\n      <td>1.000000</td>\n      <td>0.000000</td>\n      <td>0.000000</td>\n    </tr>\n    <tr>\n      <th>2022-10-04 18:20:46</th>\n      <td>120.0</td>\n      <td>11.3544</td>\n      <td>10.40</td>\n      <td>248.2</td>\n      <td>88.0</td>\n      <td>13.2</td>\n      <td>7.9</td>\n      <td>298.0</td>\n      <td>0.0</td>\n      <td>3.15</td>\n      <td>...</td>\n      <td>0.0</td>\n      <td>0.0</td>\n      <td>0.389418</td>\n      <td>0.921061</td>\n      <td>0.422793</td>\n      <td>4.000000e-01</td>\n      <td>0.131659</td>\n      <td>0.991295</td>\n      <td>0.132815</td>\n      <td>12.698413</td>\n    </tr>\n    <tr>\n      <th>2022-10-04 18:20:47</th>\n      <td>120.0</td>\n      <td>13.4028</td>\n      <td>14.13</td>\n      <td>248.0</td>\n      <td>88.0</td>\n      <td>13.2</td>\n      <td>7.9</td>\n      <td>298.0</td>\n      <td>0.0</td>\n      <td>3.73</td>\n      <td>...</td>\n      <td>0.0</td>\n      <td>0.0</td>\n      <td>0.198669</td>\n      <td>0.980067</td>\n      <td>0.202710</td>\n      <td>-2.000000e-01</td>\n      <td>-0.796361</td>\n      <td>0.604821</td>\n      <td>-1.316689</td>\n      <td>-7.336482</td>\n    </tr>\n    <tr>\n      <th>2022-10-04 18:20:48</th>\n      <td>122.0</td>\n      <td>14.7816</td>\n      <td>18.24</td>\n      <td>247.8</td>\n      <td>90.0</td>\n      <td>13.2</td>\n      <td>7.9</td>\n      <td>298.0</td>\n      <td>0.0</td>\n      <td>4.11</td>\n      <td>...</td>\n      <td>0.0</td>\n      <td>0.0</td>\n      <td>0.198669</td>\n      <td>0.980067</td>\n      <td>0.202710</td>\n      <td>0.000000e+00</td>\n      <td>-0.988197</td>\n      <td>0.153186</td>\n      <td>-6.450983</td>\n      <td>-0.495750</td>\n    </tr>\n    <tr>\n      <th>...</th>\n      <td>...</td>\n      <td>...</td>\n      <td>...</td>\n      <td>...</td>\n      <td>...</td>\n      <td>...</td>\n      <td>...</td>\n      <td>...</td>\n      <td>...</td>\n      <td>...</td>\n      <td>...</td>\n      <td>...</td>\n      <td>...</td>\n      <td>...</td>\n      <td>...</td>\n      <td>...</td>\n      <td>...</td>\n      <td>...</td>\n      <td>...</td>\n      <td>...</td>\n      <td>...</td>\n    </tr>\n    <tr>\n      <th>2022-10-08 11:01:15</th>\n      <td>167.0</td>\n      <td>12.2616</td>\n      <td>1022.84</td>\n      <td>355.8</td>\n      <td>86.0</td>\n      <td>13.2</td>\n      <td>16.4</td>\n      <td>239.0</td>\n      <td>0.1</td>\n      <td>4.04</td>\n      <td>...</td>\n      <td>0.0</td>\n      <td>0.0</td>\n      <td>0.198669</td>\n      <td>0.980067</td>\n      <td>0.202710</td>\n      <td>2.000000e-01</td>\n      <td>-0.971786</td>\n      <td>0.235863</td>\n      <td>-4.120139</td>\n      <td>4.950495</td>\n    </tr>\n    <tr>\n      <th>2022-10-08 11:01:16</th>\n      <td>168.0</td>\n      <td>12.3264</td>\n      <td>1027.19</td>\n      <td>355.8</td>\n      <td>86.0</td>\n      <td>13.2</td>\n      <td>16.4</td>\n      <td>239.0</td>\n      <td>0.1</td>\n      <td>4.35</td>\n      <td>...</td>\n      <td>0.0</td>\n      <td>0.0</td>\n      <td>0.000000</td>\n      <td>1.000000</td>\n      <td>0.000000</td>\n      <td>-2.000000e-01</td>\n      <td>0.000000</td>\n      <td>1.000000</td>\n      <td>0.000000</td>\n      <td>-4.950495</td>\n    </tr>\n    <tr>\n      <th>2022-10-08 11:01:17</th>\n      <td>168.0</td>\n      <td>12.3264</td>\n      <td>1030.26</td>\n      <td>355.6</td>\n      <td>86.0</td>\n      <td>13.2</td>\n      <td>16.4</td>\n      <td>239.0</td>\n      <td>0.1</td>\n      <td>3.07</td>\n      <td>...</td>\n      <td>0.0</td>\n      <td>0.0</td>\n      <td>0.198669</td>\n      <td>0.980067</td>\n      <td>0.202710</td>\n      <td>2.000000e-01</td>\n      <td>0.229411</td>\n      <td>0.973330</td>\n      <td>0.235697</td>\n      <td>6.514658</td>\n    </tr>\n    <tr>\n      <th>2022-10-08 11:01:18</th>\n      <td>168.0</td>\n      <td>12.2940</td>\n      <td>1035.36</td>\n      <td>355.4</td>\n      <td>86.0</td>\n      <td>13.2</td>\n      <td>16.4</td>\n      <td>239.0</td>\n      <td>0.1</td>\n      <td>5.10</td>\n      <td>...</td>\n      <td>0.0</td>\n      <td>0.0</td>\n      <td>0.198669</td>\n      <td>0.980067</td>\n      <td>0.202710</td>\n      <td>1.136868e-13</td>\n      <td>-0.703262</td>\n      <td>-0.710930</td>\n      <td>0.989214</td>\n      <td>-2.593089</td>\n    </tr>\n    <tr>\n      <th>2022-10-08 11:01:19</th>\n      <td>168.0</td>\n      <td>12.2616</td>\n      <td>1038.34</td>\n      <td>355.4</td>\n      <td>86.0</td>\n      <td>13.2</td>\n      <td>16.4</td>\n      <td>239.0</td>\n      <td>0.1</td>\n      <td>2.98</td>\n      <td>...</td>\n      <td>0.0</td>\n      <td>0.0</td>\n      <td>0.000000</td>\n      <td>1.000000</td>\n      <td>0.000000</td>\n      <td>-2.000000e-01</td>\n      <td>0.000000</td>\n      <td>1.000000</td>\n      <td>0.000000</td>\n      <td>-3.921569</td>\n    </tr>\n  </tbody>\n</table>\n<p>12987 rows × 78 columns</p>\n</div>"
     },
     "execution_count": 55,
     "metadata": {},
     "output_type": "execute_result"
    }
   ],
   "source": [
    "train_df"
   ],
   "metadata": {
    "collapsed": false,
    "pycharm": {
     "name": "#%%\n"
    }
   }
  }
 ],
 "metadata": {
  "kernelspec": {
   "name": "venv",
   "language": "python",
   "display_name": "venv"
  },
  "language_info": {
   "codemirror_mode": {
    "name": "ipython",
    "version": 2
   },
   "file_extension": ".py",
   "mimetype": "text/x-python",
   "name": "python",
   "nbconvert_exporter": "python",
   "pygments_lexer": "ipython2",
   "version": "2.7.6"
  }
 },
 "nbformat": 4,
 "nbformat_minor": 0
}