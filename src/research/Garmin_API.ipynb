{
 "cells": [
  {
   "cell_type": "code",
   "execution_count": 1,
   "outputs": [],
   "source": [
    "import sys\n",
    "import pandas as pd \n",
    "sys.path.insert(0,'/home/zahradnik/PycharmProjects/master_thesis')"
   ],
   "metadata": {
    "collapsed": false,
    "ExecuteTime": {
     "end_time": "2023-10-29T18:36:38.538926449Z",
     "start_time": "2023-10-29T18:36:38.274055657Z"
    }
   }
  },
  {
   "cell_type": "code",
   "execution_count": 2,
   "outputs": [
    {
     "name": "stdout",
     "output_type": "stream",
     "text": [
      "/home/zahradnik/PycharmProjects/master_thesis/src/modules/__init__.py\n",
      "/home/zahradnik/PycharmProjects/master_thesis\n"
     ]
    }
   ],
   "source": [
    "import os\n",
    "import datetime\n",
    "from garminconnect import (\n",
    "    Garmin,\n",
    "    GarminConnectConnectionError,\n",
    "    GarminConnectTooManyRequestsError,\n",
    "    GarminConnectAuthenticationError,\n",
    ")\n",
    "from src._Garmin_API import _GarminAPI\n",
    "from src.modules import conf, fit, raw_data, preprocess, df_columns"
   ],
   "metadata": {
    "collapsed": false,
    "ExecuteTime": {
     "end_time": "2023-10-29T18:36:39.360346552Z",
     "start_time": "2023-10-29T18:36:38.540226032Z"
    }
   }
  },
  {
   "cell_type": "code",
   "execution_count": 3,
   "outputs": [],
   "source": [
    "%load_ext autoreload\n",
    "%autoreload 2"
   ],
   "metadata": {
    "collapsed": false,
    "ExecuteTime": {
     "end_time": "2023-10-29T18:36:39.393332429Z",
     "start_time": "2023-10-29T18:36:39.363833824Z"
    }
   }
  },
  {
   "cell_type": "code",
   "execution_count": 4,
   "outputs": [
    {
     "name": "stdout",
     "output_type": "stream",
     "text": [
      "Requesting activities by date from 2022-08-29 to 2023-08-29\n"
     ]
    },
    {
     "name": "stderr",
     "output_type": "stream",
     "text": [
      "100%|██████████| 531/531 [03:58<00:00,  2.23it/s]\n"
     ]
    }
   ],
   "source": [
    "garmin = _GarminAPI(athlete_name=conf['Athlete']['name'])\n",
    "garmin.set_range(days_to_past=365)\n",
    "garmin.download_data()"
   ],
   "metadata": {
    "collapsed": false,
    "ExecuteTime": {
     "end_time": "2023-08-29T18:54:10.281300569Z",
     "start_time": "2023-08-29T18:49:54.935051910Z"
    }
   }
  },
  {
   "cell_type": "code",
   "execution_count": 5,
   "outputs": [
    {
     "name": "stderr",
     "output_type": "stream",
     "text": [
      "100%|██████████| 531/531 [00:02<00:00, 224.82it/s]\n"
     ]
    }
   ],
   "source": [
    "raw_data.unpack(path_to_load=conf['Paths']['raw'],\n",
    "                path_to_save=conf['Paths']['fit'],\n",
    "                athlete_name=conf['Athlete']['name'])"
   ],
   "metadata": {
    "collapsed": false,
    "ExecuteTime": {
     "end_time": "2023-08-29T18:54:12.835736913Z",
     "start_time": "2023-08-29T18:54:10.240164018Z"
    }
   }
  },
  {
   "cell_type": "code",
   "execution_count": 6,
   "outputs": [
    {
     "name": "stderr",
     "output_type": "stream",
     "text": [
      "100%|██████████| 531/531 [09:32<00:00,  1.08s/it]\n"
     ]
    }
   ],
   "source": [
    "raw_data.sort_activities(athlete_name=conf['Athlete']['name'],\n",
    "                         path_to_save=conf['Paths']['fit'])"
   ],
   "metadata": {
    "collapsed": false,
    "ExecuteTime": {
     "end_time": "2023-08-29T19:03:45.207985996Z",
     "start_time": "2023-08-29T18:54:12.698524545Z"
    }
   }
  },
  {
   "cell_type": "code",
   "execution_count": null,
   "outputs": [
    {
     "name": "stderr",
     "output_type": "stream",
     "text": [
      " 29%|██▉       | 114/391 [05:40<44:35,  9.66s/it]"
     ]
    }
   ],
   "source": [
    "dfs = preprocess.preprocessing(\n",
    "    activity_type='running',\n",
    "    athlete_name='zahradnik',\n",
    "    df_columns = ['timestamp','heart_rate','distance','enhanced_altitude','cadence','enhanced_speed'])"
   ],
   "metadata": {
    "collapsed": false,
    "is_executing": true,
    "ExecuteTime": {
     "start_time": "2023-10-29T19:22:03.514906043Z"
    }
   }
  },
  {
   "cell_type": "code",
   "execution_count": 12,
   "outputs": [
    {
     "name": "stderr",
     "output_type": "stream",
     "text": [
      "100%|██████████| 386/386 [00:00<00:00, 452.75it/s]\n"
     ]
    }
   ],
   "source": [
    "data = fit.load_pcls(\n",
    "        'zahradnik',\n",
    "        'running',\n",
    "        conf[\"Paths\"][\"pcl\"],\n",
    "    )"
   ],
   "metadata": {
    "collapsed": false,
    "ExecuteTime": {
     "end_time": "2023-10-29T19:06:06.623341226Z",
     "start_time": "2023-10-29T19:06:05.744743566Z"
    }
   }
  },
  {
   "cell_type": "code",
   "execution_count": 15,
   "outputs": [],
   "source": [
    "train_df,test_df = fit.get_train_test_df(data)"
   ],
   "metadata": {
    "collapsed": false,
    "ExecuteTime": {
     "end_time": "2023-10-29T19:07:25.747514402Z",
     "start_time": "2023-10-29T19:07:18.526338950Z"
    }
   }
  },
  {
   "cell_type": "code",
   "execution_count": 8,
   "outputs": [
    {
     "data": {
      "text/plain": "['heart_rate',\n 'distance',\n 'enhanced_altitude',\n 'cadence',\n 'enhanced_speed',\n 'temp',\n 'humidity',\n 'rain',\n 'snow',\n 'wind_speed',\n 'dist_diff',\n 'slope_ascent',\n 'slope_descent',\n 'slope_steep',\n 'bx_heart_rate',\n 'bx_cadence',\n 'sum_heart_rate_cadence',\n 'mean_heart_rate_cadence',\n 'min_heart_rate_cadence',\n 'max_heart_rate_cadence',\n 'peak',\n 'enhanced_altitude_delayed',\n 'cadence_altitude_delayed',\n 'hr_zone',\n 'date_month',\n 'date_week',\n 'date_hour',\n 'date_minute',\n 'date_second',\n 'slope_steep_window_1_mean',\n 'slope_ascent_window_1_mean',\n 'slope_descent_window_1_mean',\n 'heart_rate_window_1_mean',\n 'cadence_window_1_mean',\n 'slope_steep_window_2_mean',\n 'slope_ascent_window_2_mean',\n 'slope_descent_window_2_mean',\n 'heart_rate_window_2_mean',\n 'cadence_window_2_mean',\n 'slope_steep_window_3_mean',\n 'slope_ascent_window_3_mean',\n 'slope_descent_window_3_mean',\n 'heart_rate_window_3_mean',\n 'cadence_window_3_mean',\n 'slope_steep_window_4_mean',\n 'slope_ascent_window_4_mean',\n 'slope_descent_window_4_mean',\n 'heart_rate_window_4_mean',\n 'cadence_window_4_mean',\n 'slope_steep_window_5_mean',\n 'slope_ascent_window_5_mean',\n 'slope_descent_window_5_mean',\n 'heart_rate_window_5_mean',\n 'cadence_window_5_mean',\n 'slope_steep_window_6_mean',\n 'slope_ascent_window_6_mean',\n 'slope_descent_window_6_mean',\n 'heart_rate_window_6_mean',\n 'cadence_window_6_mean',\n 'slope_steep_window_7_mean',\n 'slope_ascent_window_7_mean',\n 'slope_descent_window_7_mean',\n 'heart_rate_window_7_mean',\n 'cadence_window_7_mean',\n 'slope_steep_window_8_mean',\n 'slope_ascent_window_8_mean',\n 'slope_descent_window_8_mean',\n 'heart_rate_window_8_mean',\n 'cadence_window_8_mean',\n 'slope_steep_window_9_mean',\n 'slope_ascent_window_9_mean',\n 'slope_descent_window_9_mean',\n 'heart_rate_window_9_mean',\n 'cadence_window_9_mean',\n 'slope_steep_window_10_mean',\n 'slope_ascent_window_10_mean',\n 'slope_descent_window_10_mean',\n 'heart_rate_window_10_mean',\n 'cadence_window_10_mean',\n 'slope_steep_window_11_mean',\n 'slope_ascent_window_11_mean',\n 'slope_descent_window_11_mean',\n 'heart_rate_window_11_mean',\n 'cadence_window_11_mean',\n 'slope_steep_window_12_mean',\n 'slope_ascent_window_12_mean',\n 'slope_descent_window_12_mean',\n 'heart_rate_window_12_mean',\n 'cadence_window_12_mean',\n 'slope_steep_window_13_mean',\n 'slope_ascent_window_13_mean',\n 'slope_descent_window_13_mean',\n 'heart_rate_window_13_mean',\n 'cadence_window_13_mean',\n 'slope_steep_window_14_mean',\n 'slope_ascent_window_14_mean',\n 'slope_descent_window_14_mean',\n 'heart_rate_window_14_mean',\n 'cadence_window_14_mean',\n 'slope_steep_window_15_mean',\n 'slope_ascent_window_15_mean',\n 'slope_descent_window_15_mean',\n 'heart_rate_window_15_mean',\n 'cadence_window_15_mean',\n 'slope_steep_window_16_mean',\n 'slope_ascent_window_16_mean',\n 'slope_descent_window_16_mean',\n 'heart_rate_window_16_mean',\n 'cadence_window_16_mean',\n 'slope_steep_window_17_mean',\n 'slope_ascent_window_17_mean',\n 'slope_descent_window_17_mean',\n 'heart_rate_window_17_mean',\n 'cadence_window_17_mean',\n 'moved_heart_rate_10',\n 'moved_heart_rate_20',\n 'moved_heart_rate_30',\n 'moved_heart_rate_40',\n 'moved_heart_rate_50',\n 'moved_heart_rate_60',\n 'moved_heart_rate_70',\n 'moved_heart_rate_80',\n 'moved_heart_rate_90',\n 'moved_heart_rate_100',\n 'moved_cadence_10',\n 'moved_cadence_20',\n 'moved_cadence_30',\n 'moved_cadence_40',\n 'moved_cadence_50',\n 'moved_cadence_60',\n 'moved_cadence_70',\n 'moved_cadence_80',\n 'moved_cadence_90',\n 'moved_cadence_100']"
     },
     "execution_count": 8,
     "metadata": {},
     "output_type": "execute_result"
    }
   ],
   "source": [
    "list(train_df.columns)"
   ],
   "metadata": {
    "collapsed": false,
    "ExecuteTime": {
     "end_time": "2023-10-29T18:52:23.823098342Z",
     "start_time": "2023-10-29T18:52:23.792395562Z"
    }
   }
  }
 ],
 "metadata": {
  "kernelspec": {
   "name": "python3",
   "language": "python",
   "display_name": "Python 3 (ipykernel)"
  },
  "language_info": {
   "codemirror_mode": {
    "name": "ipython",
    "version": 2
   },
   "file_extension": ".py",
   "mimetype": "text/x-python",
   "name": "python",
   "nbconvert_exporter": "python",
   "pygments_lexer": "ipython2",
   "version": "2.7.6"
  }
 },
 "nbformat": 4,
 "nbformat_minor": 0
}
