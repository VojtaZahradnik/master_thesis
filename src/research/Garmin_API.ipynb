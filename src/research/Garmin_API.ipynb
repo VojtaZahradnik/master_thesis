{
 "cells": [
  {
   "cell_type": "code",
   "execution_count": 1,
   "outputs": [],
   "source": [
    "import sys\n",
    "import pandas as pd \n",
    "sys.path.insert(0,'/home/zahradnik/PycharmProjects/master_thesis')"
   ],
   "metadata": {
    "collapsed": false,
    "ExecuteTime": {
     "end_time": "2023-11-11T09:32:31.732536655Z",
     "start_time": "2023-11-11T09:32:31.429819431Z"
    }
   }
  },
  {
   "cell_type": "code",
   "execution_count": 2,
   "outputs": [
    {
     "name": "stdout",
     "output_type": "stream",
     "text": [
      "/home/zahradnik/PycharmProjects/master_thesis/src/modules/__init__.py\n",
      "/home/zahradnik/PycharmProjects/master_thesis\n"
     ]
    }
   ],
   "source": [
    "import os\n",
    "import datetime\n",
    "from garminconnect import (\n",
    "    Garmin,\n",
    "    GarminConnectConnectionError,\n",
    "    GarminConnectTooManyRequestsError,\n",
    "    GarminConnectAuthenticationError,\n",
    ")\n",
    "from src._Garmin_API import _GarminAPI\n",
    "from src.modules import conf, fit, raw_data, preprocess, df_columns"
   ],
   "metadata": {
    "collapsed": false,
    "ExecuteTime": {
     "end_time": "2023-11-11T09:32:32.474255189Z",
     "start_time": "2023-11-11T09:32:31.732856881Z"
    }
   }
  },
  {
   "cell_type": "code",
   "execution_count": 3,
   "outputs": [],
   "source": [
    "%load_ext autoreload\n",
    "%autoreload 2"
   ],
   "metadata": {
    "collapsed": false,
    "ExecuteTime": {
     "end_time": "2023-11-11T09:32:32.494563272Z",
     "start_time": "2023-11-11T09:32:32.475278222Z"
    }
   }
  },
  {
   "cell_type": "code",
   "execution_count": 4,
   "outputs": [
    {
     "name": "stdout",
     "output_type": "stream",
     "text": [
      "Requesting activities by date from 2023-11-10 to 2023-11-11\n"
     ]
    },
    {
     "ename": "GarminConnectConnectionError",
     "evalue": "402 Client Error: Payment Required for url: https://connect.garmin.com/modern/proxy/activitylist-service/activities/search/activities?startDate=2023-11-10&endDate=2023-11-11&start=0&limit=20",
     "output_type": "error",
     "traceback": [
      "\u001B[0;31m---------------------------------------------------------------------------\u001B[0m",
      "\u001B[0;31mHTTPError\u001B[0m                                 Traceback (most recent call last)",
      "File \u001B[0;32m~/PycharmProjects/master_thesis/venv/lib/python3.10/site-packages/garminconnect/__init__.py:68\u001B[0m, in \u001B[0;36mApiClient.get\u001B[0;34m(self, addurl, aditional_headers, params)\u001B[0m\n\u001B[1;32m     67\u001B[0m response \u001B[38;5;241m=\u001B[39m \u001B[38;5;28mself\u001B[39m\u001B[38;5;241m.\u001B[39msession\u001B[38;5;241m.\u001B[39mget(url, headers\u001B[38;5;241m=\u001B[39mtotal_headers, params\u001B[38;5;241m=\u001B[39mparams)\n\u001B[0;32m---> 68\u001B[0m \u001B[43mresponse\u001B[49m\u001B[38;5;241;43m.\u001B[39;49m\u001B[43mraise_for_status\u001B[49m\u001B[43m(\u001B[49m\u001B[43m)\u001B[49m\n\u001B[1;32m     69\u001B[0m \u001B[38;5;66;03m# logger.debug(\"Response: %s\", response.content)\u001B[39;00m\n",
      "File \u001B[0;32m~/PycharmProjects/master_thesis/venv/lib/python3.10/site-packages/requests/models.py:1021\u001B[0m, in \u001B[0;36mResponse.raise_for_status\u001B[0;34m(self)\u001B[0m\n\u001B[1;32m   1020\u001B[0m \u001B[38;5;28;01mif\u001B[39;00m http_error_msg:\n\u001B[0;32m-> 1021\u001B[0m     \u001B[38;5;28;01mraise\u001B[39;00m HTTPError(http_error_msg, response\u001B[38;5;241m=\u001B[39m\u001B[38;5;28mself\u001B[39m)\n",
      "\u001B[0;31mHTTPError\u001B[0m: 402 Client Error: Payment Required for url: https://connect.garmin.com/modern/proxy/activitylist-service/activities/search/activities?startDate=2023-11-10&endDate=2023-11-11&start=0&limit=20",
      "\nThe above exception was the direct cause of the following exception:\n",
      "\u001B[0;31mGarminConnectConnectionError\u001B[0m              Traceback (most recent call last)",
      "Cell \u001B[0;32mIn[4], line 3\u001B[0m\n\u001B[1;32m      1\u001B[0m garmin \u001B[38;5;241m=\u001B[39m _GarminAPI(athlete_name\u001B[38;5;241m=\u001B[39mconf[\u001B[38;5;124m'\u001B[39m\u001B[38;5;124mAthlete\u001B[39m\u001B[38;5;124m'\u001B[39m][\u001B[38;5;124m'\u001B[39m\u001B[38;5;124mname\u001B[39m\u001B[38;5;124m'\u001B[39m])\n\u001B[1;32m      2\u001B[0m garmin\u001B[38;5;241m.\u001B[39mset_range(days_to_past\u001B[38;5;241m=\u001B[39m\u001B[38;5;241m1\u001B[39m)\n\u001B[0;32m----> 3\u001B[0m \u001B[43mgarmin\u001B[49m\u001B[38;5;241;43m.\u001B[39;49m\u001B[43mdownload_data\u001B[49m\u001B[43m(\u001B[49m\u001B[43m)\u001B[49m\n",
      "File \u001B[0;32m~/PycharmProjects/master_thesis/src/_Garmin_API.py:50\u001B[0m, in \u001B[0;36m_GarminAPI.download_data\u001B[0;34m(self)\u001B[0m\n\u001B[1;32m     46\u001B[0m \u001B[38;5;28;01mdef\u001B[39;00m \u001B[38;5;21mdownload_data\u001B[39m(\u001B[38;5;28mself\u001B[39m):\n\u001B[1;32m     47\u001B[0m \u001B[38;5;250m    \u001B[39m\u001B[38;5;124;03m\"\"\"\u001B[39;00m\n\u001B[1;32m     48\u001B[0m \u001B[38;5;124;03m    Function to download fit files from Garmin, going through all activities in date range\u001B[39;00m\n\u001B[1;32m     49\u001B[0m \u001B[38;5;124;03m    \"\"\"\u001B[39;00m\n\u001B[0;32m---> 50\u001B[0m     activities \u001B[38;5;241m=\u001B[39m \u001B[38;5;28;43mself\u001B[39;49m\u001B[38;5;241;43m.\u001B[39;49m\u001B[43mapi\u001B[49m\u001B[38;5;241;43m.\u001B[39;49m\u001B[43mget_activities_by_date\u001B[49m\u001B[43m(\u001B[49m\u001B[38;5;28;43mself\u001B[39;49m\u001B[38;5;241;43m.\u001B[39;49m\u001B[43mstart_date\u001B[49m\u001B[43m,\u001B[49m\u001B[43m \u001B[49m\u001B[38;5;28;43mself\u001B[39;49m\u001B[38;5;241;43m.\u001B[39;49m\u001B[43mend_date\u001B[49m\u001B[43m)\u001B[49m\n\u001B[1;32m     51\u001B[0m     \u001B[38;5;28;01mfor\u001B[39;00m activity \u001B[38;5;129;01min\u001B[39;00m tqdm(activities):\n\u001B[1;32m     52\u001B[0m         activity_id \u001B[38;5;241m=\u001B[39m activity[\u001B[38;5;124m\"\u001B[39m\u001B[38;5;124mactivityId\u001B[39m\u001B[38;5;124m\"\u001B[39m]\n",
      "File \u001B[0;32m~/PycharmProjects/master_thesis/venv/lib/python3.10/site-packages/garminconnect/__init__.py:618\u001B[0m, in \u001B[0;36mGarmin.get_activities_by_date\u001B[0;34m(self, startdate, enddate, activitytype)\u001B[0m\n\u001B[1;32m    616\u001B[0m params[\u001B[38;5;124m\"\u001B[39m\u001B[38;5;124mstart\u001B[39m\u001B[38;5;124m\"\u001B[39m] \u001B[38;5;241m=\u001B[39m \u001B[38;5;28mstr\u001B[39m(start)\n\u001B[1;32m    617\u001B[0m logger\u001B[38;5;241m.\u001B[39mdebug(\u001B[38;5;124mf\u001B[39m\u001B[38;5;124m\"\u001B[39m\u001B[38;5;124mRequesting activities \u001B[39m\u001B[38;5;132;01m{\u001B[39;00mstart\u001B[38;5;132;01m}\u001B[39;00m\u001B[38;5;124m to \u001B[39m\u001B[38;5;132;01m{\u001B[39;00mstart\u001B[38;5;241m+\u001B[39mlimit\u001B[38;5;132;01m}\u001B[39;00m\u001B[38;5;124m\"\u001B[39m)\n\u001B[0;32m--> 618\u001B[0m act \u001B[38;5;241m=\u001B[39m \u001B[38;5;28;43mself\u001B[39;49m\u001B[38;5;241;43m.\u001B[39;49m\u001B[43mmodern_rest_client\u001B[49m\u001B[38;5;241;43m.\u001B[39;49m\u001B[43mget\u001B[49m\u001B[43m(\u001B[49m\u001B[43murl\u001B[49m\u001B[43m,\u001B[49m\u001B[43m \u001B[49m\u001B[43mparams\u001B[49m\u001B[38;5;241;43m=\u001B[39;49m\u001B[43mparams\u001B[49m\u001B[43m)\u001B[49m\u001B[38;5;241m.\u001B[39mjson()\n\u001B[1;32m    619\u001B[0m \u001B[38;5;28;01mif\u001B[39;00m act:\n\u001B[1;32m    620\u001B[0m     activities\u001B[38;5;241m.\u001B[39mextend(act)\n",
      "File \u001B[0;32m~/PycharmProjects/master_thesis/venv/lib/python3.10/site-packages/garminconnect/__init__.py:80\u001B[0m, in \u001B[0;36mApiClient.get\u001B[0;34m(self, addurl, aditional_headers, params)\u001B[0m\n\u001B[1;32m     77\u001B[0m \u001B[38;5;28;01mif\u001B[39;00m response\u001B[38;5;241m.\u001B[39mstatus_code \u001B[38;5;241m==\u001B[39m \u001B[38;5;241m403\u001B[39m:\n\u001B[1;32m     78\u001B[0m     \u001B[38;5;28;01mraise\u001B[39;00m GarminConnectConnectionError(\u001B[38;5;124mf\u001B[39m\u001B[38;5;124m\"\u001B[39m\u001B[38;5;124mForbidden url: \u001B[39m\u001B[38;5;132;01m{\u001B[39;00murl\u001B[38;5;132;01m}\u001B[39;00m\u001B[38;5;124m\"\u001B[39m) \u001B[38;5;28;01mfrom\u001B[39;00m \u001B[38;5;21;01merr\u001B[39;00m\n\u001B[0;32m---> 80\u001B[0m \u001B[38;5;28;01mraise\u001B[39;00m GarminConnectConnectionError(err) \u001B[38;5;28;01mfrom\u001B[39;00m \u001B[38;5;21;01merr\u001B[39;00m\n",
      "\u001B[0;31mGarminConnectConnectionError\u001B[0m: 402 Client Error: Payment Required for url: https://connect.garmin.com/modern/proxy/activitylist-service/activities/search/activities?startDate=2023-11-10&endDate=2023-11-11&start=0&limit=20"
     ]
    }
   ],
   "source": [
    "garmin = _GarminAPI(athlete_name=conf['Athlete']['name'])\n",
    "garmin.set_range(days_to_past=1)\n",
    "garmin.download_data()"
   ],
   "metadata": {
    "collapsed": false,
    "ExecuteTime": {
     "end_time": "2023-11-11T09:32:37.241729529Z",
     "start_time": "2023-11-11T09:32:32.494745575Z"
    }
   }
  },
  {
   "cell_type": "code",
   "execution_count": 5,
   "outputs": [
    {
     "name": "stderr",
     "output_type": "stream",
     "text": [
      "100%|██████████| 531/531 [00:02<00:00, 224.82it/s]\n"
     ]
    }
   ],
   "source": [
    "raw_data.unpack(path_to_load=conf['Paths']['raw'],\n",
    "                path_to_save=conf['Paths']['fit'],\n",
    "                athlete_name=conf['Athlete']['name'])"
   ],
   "metadata": {
    "collapsed": false,
    "ExecuteTime": {
     "end_time": "2023-08-29T18:54:12.835736913Z",
     "start_time": "2023-08-29T18:54:10.240164018Z"
    }
   }
  },
  {
   "cell_type": "code",
   "execution_count": 6,
   "outputs": [
    {
     "name": "stderr",
     "output_type": "stream",
     "text": [
      "100%|██████████| 7350/7350 [05:26<00:00, 22.50it/s] \n"
     ]
    }
   ],
   "source": [
    "raw_data.sort_activities(athlete_name=\"zimola\",\n",
    "                         path_to_save=conf['Paths']['fit'])"
   ],
   "metadata": {
    "collapsed": false,
    "ExecuteTime": {
     "end_time": "2023-11-09T20:46:46.579291826Z",
     "start_time": "2023-11-09T20:41:19.894621404Z"
    }
   }
  },
  {
   "cell_type": "code",
   "execution_count": 11,
   "outputs": [
    {
     "name": "stderr",
     "output_type": "stream",
     "text": [
      " 13%|█▎        | 26/203 [00:30<04:36,  1.56s/it]"
     ]
    },
    {
     "name": "stdout",
     "output_type": "stream",
     "text": [
      "WARN: 2023-09-03 03:00:00 has basic weather values\n"
     ]
    },
    {
     "name": "stderr",
     "output_type": "stream",
     "text": [
      " 66%|██████▌   | 134/203 [02:22<01:16,  1.11s/it]"
     ]
    },
    {
     "name": "stdout",
     "output_type": "stream",
     "text": [
      "WARN: 2023-09-02 18:00:00 has basic weather values\n"
     ]
    },
    {
     "name": "stderr",
     "output_type": "stream",
     "text": [
      " 96%|█████████▌| 195/203 [03:57<00:21,  2.63s/it]"
     ]
    },
    {
     "name": "stdout",
     "output_type": "stream",
     "text": [
      "WARN: 2023-09-02 09:00:00 has basic weather values\n"
     ]
    },
    {
     "name": "stderr",
     "output_type": "stream",
     "text": [
      "100%|██████████| 203/203 [04:04<00:00,  1.20s/it]\n"
     ]
    }
   ],
   "source": [
    "dfs = preprocess.preprocessing(\n",
    "    activity_type='running',\n",
    "    athlete_name='zimola',\n",
    "    df_columns = ['timestamp','heart_rate','distance','enhanced_altitude','cadence','enhanced_speed'])"
   ],
   "metadata": {
    "collapsed": false,
    "ExecuteTime": {
     "end_time": "2023-11-11T09:41:06.621632535Z",
     "start_time": "2023-11-11T09:37:02.128129300Z"
    }
   }
  },
  {
   "cell_type": "code",
   "execution_count": 10,
   "outputs": [
    {
     "name": "stderr",
     "output_type": "stream",
     "text": [
      "100%|██████████| 202/202 [00:00<00:00, 502.90it/s]\n"
     ]
    }
   ],
   "source": [
    "data = fit.load_pcls(\n",
    "        'zimola',\n",
    "        'running',\n",
    "        conf[\"Paths\"][\"pcl\"],\n",
    "    )"
   ],
   "metadata": {
    "collapsed": false,
    "ExecuteTime": {
     "end_time": "2023-11-11T09:36:57.881619660Z",
     "start_time": "2023-11-11T09:36:57.459953255Z"
    }
   }
  },
  {
   "cell_type": "code",
   "execution_count": null,
   "outputs": [],
   "source": [],
   "metadata": {
    "collapsed": false
   }
  },
  {
   "cell_type": "code",
   "execution_count": 17,
   "outputs": [],
   "source": [
    "train_df,test_df = fit.get_train_test_df(data)"
   ],
   "metadata": {
    "collapsed": false,
    "ExecuteTime": {
     "end_time": "2023-11-09T21:05:12.006228900Z",
     "start_time": "2023-11-09T21:05:09.958586280Z"
    }
   }
  },
  {
   "cell_type": "code",
   "execution_count": null,
   "outputs": [],
   "source": [],
   "metadata": {
    "collapsed": false
   }
  },
  {
   "cell_type": "code",
   "execution_count": 18,
   "outputs": [
    {
     "data": {
      "text/plain": "timestamp\n2022-03-08 15:13:02    0.0\n2022-03-08 15:13:03    0.0\n2022-03-08 15:13:05    0.0\n2022-03-08 15:13:08    0.0\n2022-03-08 15:13:11    0.0\n                      ... \n2023-10-04 15:36:44    0.0\n2023-10-04 15:36:45    0.0\n2023-10-04 15:36:46    0.0\n2023-10-04 15:36:47    0.0\n2023-10-04 15:36:48    0.0\nName: peak, Length: 352179, dtype: float64"
     },
     "execution_count": 18,
     "metadata": {},
     "output_type": "execute_result"
    }
   ],
   "source": [
    "train_df.peak"
   ],
   "metadata": {
    "collapsed": false,
    "ExecuteTime": {
     "end_time": "2023-11-09T21:05:16.295057526Z",
     "start_time": "2023-11-09T21:05:16.273174200Z"
    }
   }
  },
  {
   "cell_type": "code",
   "execution_count": 11,
   "outputs": [
    {
     "data": {
      "text/plain": "['heart_rate',\n 'distance',\n 'enhanced_altitude',\n 'cadence',\n 'enhanced_speed',\n 'temp',\n 'humidity',\n 'rain',\n 'snow',\n 'wind_speed',\n 'dist_diff',\n 'slope_ascent',\n 'slope_descent',\n 'slope_steep',\n 'sum_heart_rate_cadence',\n 'mean_heart_rate_cadence',\n 'min_heart_rate_cadence',\n 'max_heart_rate_cadence',\n 'enhanced_altitude_delayed',\n 'cadence_altitude_delayed',\n 'hr_zone',\n 'date_month',\n 'date_week',\n 'date_hour',\n 'date_minute',\n 'date_second',\n 'slope_steep_window_1_mean',\n 'slope_ascent_window_1_mean',\n 'slope_descent_window_1_mean',\n 'heart_rate_window_1_mean',\n 'cadence_window_1_mean',\n 'slope_steep_window_2_mean',\n 'slope_ascent_window_2_mean',\n 'slope_descent_window_2_mean',\n 'heart_rate_window_2_mean',\n 'cadence_window_2_mean',\n 'slope_steep_window_3_mean',\n 'slope_ascent_window_3_mean',\n 'slope_descent_window_3_mean',\n 'heart_rate_window_3_mean',\n 'cadence_window_3_mean',\n 'slope_steep_window_4_mean',\n 'slope_ascent_window_4_mean',\n 'slope_descent_window_4_mean',\n 'heart_rate_window_4_mean',\n 'cadence_window_4_mean',\n 'slope_steep_window_5_mean',\n 'slope_ascent_window_5_mean',\n 'slope_descent_window_5_mean',\n 'heart_rate_window_5_mean',\n 'cadence_window_5_mean',\n 'slope_steep_window_6_mean',\n 'slope_ascent_window_6_mean',\n 'slope_descent_window_6_mean',\n 'heart_rate_window_6_mean',\n 'cadence_window_6_mean',\n 'slope_steep_window_7_mean',\n 'slope_ascent_window_7_mean',\n 'slope_descent_window_7_mean',\n 'heart_rate_window_7_mean',\n 'cadence_window_7_mean',\n 'slope_steep_window_8_mean',\n 'slope_ascent_window_8_mean',\n 'slope_descent_window_8_mean',\n 'heart_rate_window_8_mean',\n 'cadence_window_8_mean',\n 'slope_steep_window_9_mean',\n 'slope_ascent_window_9_mean',\n 'slope_descent_window_9_mean',\n 'heart_rate_window_9_mean',\n 'cadence_window_9_mean',\n 'slope_steep_window_10_mean',\n 'slope_ascent_window_10_mean',\n 'slope_descent_window_10_mean',\n 'heart_rate_window_10_mean',\n 'cadence_window_10_mean',\n 'slope_steep_window_11_mean',\n 'slope_ascent_window_11_mean',\n 'slope_descent_window_11_mean',\n 'heart_rate_window_11_mean',\n 'cadence_window_11_mean',\n 'slope_steep_window_12_mean',\n 'slope_ascent_window_12_mean',\n 'slope_descent_window_12_mean',\n 'heart_rate_window_12_mean',\n 'cadence_window_12_mean',\n 'slope_steep_window_13_mean',\n 'slope_ascent_window_13_mean',\n 'slope_descent_window_13_mean',\n 'heart_rate_window_13_mean',\n 'cadence_window_13_mean',\n 'slope_steep_window_14_mean',\n 'slope_ascent_window_14_mean',\n 'slope_descent_window_14_mean',\n 'heart_rate_window_14_mean',\n 'cadence_window_14_mean',\n 'slope_steep_window_15_mean',\n 'slope_ascent_window_15_mean',\n 'slope_descent_window_15_mean',\n 'heart_rate_window_15_mean',\n 'cadence_window_15_mean',\n 'slope_steep_window_16_mean',\n 'slope_ascent_window_16_mean',\n 'slope_descent_window_16_mean',\n 'heart_rate_window_16_mean',\n 'cadence_window_16_mean',\n 'slope_steep_window_17_mean',\n 'slope_ascent_window_17_mean',\n 'slope_descent_window_17_mean',\n 'heart_rate_window_17_mean',\n 'cadence_window_17_mean',\n 'moved_heart_rate_10',\n 'moved_heart_rate_20',\n 'moved_heart_rate_30',\n 'moved_heart_rate_40',\n 'moved_heart_rate_50',\n 'moved_heart_rate_60',\n 'moved_heart_rate_70',\n 'moved_heart_rate_80',\n 'moved_heart_rate_90',\n 'moved_heart_rate_100',\n 'moved_cadence_10',\n 'moved_cadence_20',\n 'moved_cadence_30',\n 'moved_cadence_40',\n 'moved_cadence_50',\n 'moved_cadence_60',\n 'moved_cadence_70',\n 'moved_cadence_80',\n 'moved_cadence_90',\n 'moved_cadence_100']"
     },
     "execution_count": 11,
     "metadata": {},
     "output_type": "execute_result"
    }
   ],
   "source": [
    "list(train_df.columns)"
   ],
   "metadata": {
    "collapsed": false,
    "ExecuteTime": {
     "end_time": "2023-11-09T20:56:15.779399474Z",
     "start_time": "2023-11-09T20:56:15.757078021Z"
    }
   }
  },
  {
   "cell_type": "code",
   "execution_count": 13,
   "outputs": [
    {
     "data": {
      "text/plain": "352179"
     },
     "execution_count": 13,
     "metadata": {},
     "output_type": "execute_result"
    }
   ],
   "source": [
    "len(train_df)"
   ],
   "metadata": {
    "collapsed": false,
    "ExecuteTime": {
     "end_time": "2023-11-09T20:56:28.260590326Z",
     "start_time": "2023-11-09T20:56:28.239773697Z"
    }
   }
  }
 ],
 "metadata": {
  "kernelspec": {
   "name": "python3",
   "language": "python",
   "display_name": "Python 3 (ipykernel)"
  },
  "language_info": {
   "codemirror_mode": {
    "name": "ipython",
    "version": 2
   },
   "file_extension": ".py",
   "mimetype": "text/x-python",
   "name": "python",
   "nbconvert_exporter": "python",
   "pygments_lexer": "ipython2",
   "version": "2.7.6"
  }
 },
 "nbformat": 4,
 "nbformat_minor": 0
}
