{
 "cells": [
  {
   "cell_type": "code",
   "execution_count": 1,
   "metadata": {},
   "outputs": [
    {
     "ename": "ModuleNotFoundError",
     "evalue": "No module named 'ossour'",
     "output_type": "error",
     "traceback": [
      "\u001B[0;31m---------------------------------------------------------------------------\u001B[0m",
      "\u001B[0;31mModuleNotFoundError\u001B[0m                       Traceback (most recent call last)",
      "Cell \u001B[0;32mIn [1], line 3\u001B[0m\n\u001B[1;32m      1\u001B[0m \u001B[38;5;28;01mimport\u001B[39;00m \u001B[38;5;21;01mpandas\u001B[39;00m \u001B[38;5;28;01mas\u001B[39;00m \u001B[38;5;21;01mpd\u001B[39;00m\n\u001B[1;32m      2\u001B[0m \u001B[38;5;28;01mimport\u001B[39;00m \u001B[38;5;21;01mnumpy\u001B[39;00m \u001B[38;5;28;01mas\u001B[39;00m \u001B[38;5;21;01mnp\u001B[39;00m\n\u001B[0;32m----> 3\u001B[0m \u001B[38;5;28;01mimport\u001B[39;00m \u001B[38;5;21;01mossour\u001B[39;00m\n\u001B[1;32m      4\u001B[0m \u001B[38;5;28;01mfrom\u001B[39;00m \u001B[38;5;21;01mpathlib\u001B[39;00m \u001B[38;5;28;01mimport\u001B[39;00m Path\n\u001B[1;32m      5\u001B[0m \u001B[38;5;28;01mimport\u001B[39;00m \u001B[38;5;21;01msys\u001B[39;00m\n",
      "\u001B[0;31mModuleNotFoundError\u001B[0m: No module named 'ossour'"
     ]
    }
   ],
   "source": [
    "import pandas as pd\n",
    "import numpy as np\n",
    "import ossour\n",
    "from pathlib import Path\n",
    "import sys\n",
    "from src.modules import conf, fit, spec"
   ]
  },
  {
   "cell_type": "code",
   "execution_count": 118,
   "metadata": {},
   "outputs": [
    {
     "name": "stdout",
     "output_type": "stream",
     "text": [
      "The autoreload extension is already loaded. To reload it, use:\n",
      "  %reload_ext autoreload\n"
     ]
    }
   ],
   "source": [
    "%load_ext autoreload\n",
    "%autoreload 2"
   ]
  },
  {
   "cell_type": "code",
   "execution_count": 120,
   "outputs": [
    {
     "name": "stderr",
     "output_type": "stream",
     "text": [
      "100%|██████████| 363/363 [00:00<00:00, 1034.20it/s]\n"
     ]
    }
   ],
   "source": [
    "data = fit.load_pcls(\n",
    "        conf[\"Athlete\"][\"name\"],\n",
    "        conf[\"Athlete\"][\"activity_type\"],\n",
    "        conf[\"Paths\"][\"pcl\"],\n",
    "    )"
   ],
   "metadata": {
    "collapsed": false
   }
  },
  {
   "cell_type": "code",
   "execution_count": 124,
   "outputs": [],
   "source": [
    "train_df, test_df = fit.get_train_test_df(data=data)"
   ],
   "metadata": {
    "collapsed": false
   }
  },
  {
   "cell_type": "code",
   "execution_count": 125,
   "outputs": [
    {
     "data": {
      "text/plain": "(545908, 135574)"
     },
     "execution_count": 125,
     "metadata": {},
     "output_type": "execute_result"
    }
   ],
   "source": [
    "len(train_df),len(test_df)"
   ],
   "metadata": {
    "collapsed": false
   }
  },
  {
   "cell_type": "code",
   "execution_count": 36,
   "outputs": [],
   "source": [
    "concated_data = pd.concat(data)\n",
    "# train_df = fit.get_train_df(data)\n",
    "# test_df = fit.get_test_df(data)"
   ],
   "metadata": {
    "collapsed": false
   }
  },
  {
   "cell_type": "code",
   "execution_count": 126,
   "outputs": [
    {
     "data": {
      "text/plain": "(681482, 545186, 136296)"
     },
     "execution_count": 126,
     "metadata": {},
     "output_type": "execute_result"
    }
   ],
   "source": [
    "ratio=0.8\n",
    "len(concated_data),round(len(concated_data)*ratio),round(len(concated_data)*0.2)"
   ],
   "metadata": {
    "collapsed": false
   }
  },
  {
   "cell_type": "code",
   "execution_count": 50,
   "outputs": [],
   "source": [
    "train_df = concated_data[0:round(len(concated_data)*ratio)]"
   ],
   "metadata": {
    "collapsed": false
   }
  },
  {
   "cell_type": "code",
   "execution_count": 69,
   "outputs": [
    {
     "data": {
      "text/plain": "                     heart_rate  enhanced_speed  distance  enhanced_altitude  \\\ntimestamp                                                                      \n2022-08-29 15:27:44       126.0          8.6004    122.43              246.6   \n\n                     cadence  temp  wind_speed  wind_direct  rain  dist_diff  \\\ntimestamp                                                                      \n2022-08-29 15:27:44     84.0  18.5         4.8        314.0   0.0       2.44   \n\n                     ...  tan_slope_ascent  diff_slope_ascent  \\\ntimestamp            ...                                        \n2022-08-29 15:27:44  ...               0.0                0.0   \n\n                     sin_slope_descent  cos_slope_descent  tan_slope_descent  \\\ntimestamp                                                                      \n2022-08-29 15:27:44                0.0                1.0                0.0   \n\n                     diff_slope_descent  sin_slope_steep  cos_slope_steep  \\\ntimestamp                                                                   \n2022-08-29 15:27:44                 0.0              0.0              1.0   \n\n                     tan_slope_steep  diff_slope_steep  \ntimestamp                                               \n2022-08-29 15:27:44              0.0               0.0  \n\n[1 rows x 77 columns]",
      "text/html": "<div>\n<style scoped>\n    .dataframe tbody tr th:only-of-type {\n        vertical-align: middle;\n    }\n\n    .dataframe tbody tr th {\n        vertical-align: top;\n    }\n\n    .dataframe thead th {\n        text-align: right;\n    }\n</style>\n<table border=\"1\" class=\"dataframe\">\n  <thead>\n    <tr style=\"text-align: right;\">\n      <th></th>\n      <th>heart_rate</th>\n      <th>enhanced_speed</th>\n      <th>distance</th>\n      <th>enhanced_altitude</th>\n      <th>cadence</th>\n      <th>temp</th>\n      <th>wind_speed</th>\n      <th>wind_direct</th>\n      <th>rain</th>\n      <th>dist_diff</th>\n      <th>...</th>\n      <th>tan_slope_ascent</th>\n      <th>diff_slope_ascent</th>\n      <th>sin_slope_descent</th>\n      <th>cos_slope_descent</th>\n      <th>tan_slope_descent</th>\n      <th>diff_slope_descent</th>\n      <th>sin_slope_steep</th>\n      <th>cos_slope_steep</th>\n      <th>tan_slope_steep</th>\n      <th>diff_slope_steep</th>\n    </tr>\n    <tr>\n      <th>timestamp</th>\n      <th></th>\n      <th></th>\n      <th></th>\n      <th></th>\n      <th></th>\n      <th></th>\n      <th></th>\n      <th></th>\n      <th></th>\n      <th></th>\n      <th></th>\n      <th></th>\n      <th></th>\n      <th></th>\n      <th></th>\n      <th></th>\n      <th></th>\n      <th></th>\n      <th></th>\n      <th></th>\n      <th></th>\n    </tr>\n  </thead>\n  <tbody>\n    <tr>\n      <th>2022-08-29 15:27:44</th>\n      <td>126.0</td>\n      <td>8.6004</td>\n      <td>122.43</td>\n      <td>246.6</td>\n      <td>84.0</td>\n      <td>18.5</td>\n      <td>4.8</td>\n      <td>314.0</td>\n      <td>0.0</td>\n      <td>2.44</td>\n      <td>...</td>\n      <td>0.0</td>\n      <td>0.0</td>\n      <td>0.0</td>\n      <td>1.0</td>\n      <td>0.0</td>\n      <td>0.0</td>\n      <td>0.0</td>\n      <td>1.0</td>\n      <td>0.0</td>\n      <td>0.0</td>\n    </tr>\n  </tbody>\n</table>\n<p>1 rows × 77 columns</p>\n</div>"
     },
     "execution_count": 69,
     "metadata": {},
     "output_type": "execute_result"
    }
   ],
   "source": [
    "train_df[-1:]"
   ],
   "metadata": {
    "collapsed": false
   }
  },
  {
   "cell_type": "code",
   "execution_count": 90,
   "outputs": [
    {
     "name": "stdout",
     "output_type": "stream",
     "text": [
      "722\n"
     ]
    }
   ],
   "source": [
    "break_day = concated_data[len(train_df):].index[0].date()\n",
    "\n",
    "counter = 0\n",
    "for x in concated_data[len(train_df):].index:\n",
    "    if(x.date() == break_day):\n",
    "        counter +=1\n",
    "    else:break"
   ],
   "metadata": {
    "collapsed": false
   }
  },
  {
   "cell_type": "code",
   "execution_count": 91,
   "outputs": [],
   "source": [
    "train_df = train_df + concated_data[0:len(train_df)+counter]"
   ],
   "metadata": {
    "collapsed": false
   }
  },
  {
   "cell_type": "code",
   "execution_count": 93,
   "outputs": [],
   "source": [
    "test_df=concated_data[len(train_df):]"
   ],
   "metadata": {
    "collapsed": false
   }
  },
  {
   "cell_type": "code",
   "execution_count": 97,
   "outputs": [
    {
     "data": {
      "text/plain": "(545908, 135574, 681482)"
     },
     "execution_count": 97,
     "metadata": {},
     "output_type": "execute_result"
    }
   ],
   "source": [
    "len(train_df),len(test_df),len(concated_data)"
   ],
   "metadata": {
    "collapsed": false
   }
  },
  {
   "cell_type": "code",
   "execution_count": 7,
   "outputs": [],
   "source": [
    "full_columns = train_df.columns"
   ],
   "metadata": {
    "collapsed": false
   }
  }
 ],
 "metadata": {
  "kernelspec": {
   "name": "python3",
   "language": "python",
   "display_name": "Python 3 (ipykernel)"
  },
  "language_info": {
   "codemirror_mode": {
    "name": "ipython",
    "version": 3
   },
   "file_extension": ".py",
   "mimetype": "text/x-python",
   "name": "python",
   "nbconvert_exporter": "python",
   "pygments_lexer": "ipython3",
   "version": "3.10.7"
  }
 },
 "nbformat": 4,
 "nbformat_minor": 1
}
