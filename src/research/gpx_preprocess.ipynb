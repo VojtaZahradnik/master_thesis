{
 "cells": [
  {
   "cell_type": "code",
   "execution_count": 199,
   "outputs": [],
   "source": [
    "import random\n",
    "import sys\n",
    "sys.path.insert(0,'/home/zahradnik/PycharmProjects/master_thesis')"
   ],
   "metadata": {
    "collapsed": false
   }
  },
  {
   "cell_type": "code",
   "execution_count": 200,
   "outputs": [],
   "source": [
    "from src.modules import conf, fit, df_columns, evl, preprocess\n",
    "import pandas as pd\n",
    "import warnings\n",
    "import matplotlib.pyplot as plt\n",
    "import numpy as np\n",
    "import haversine as hs\n",
    "from gpx_converter import Converter\n",
    "from datetime import datetime\n",
    "import statsmodels.api as sm\n",
    "warnings.simplefilter(\"ignore\")"
   ],
   "metadata": {
    "collapsed": false
   }
  },
  {
   "cell_type": "code",
   "execution_count": 201,
   "outputs": [
    {
     "name": "stdout",
     "output_type": "stream",
     "text": [
      "The autoreload extension is already loaded. To reload it, use:\n",
      "  %reload_ext autoreload\n"
     ]
    }
   ],
   "source": [
    "%load_ext autoreload\n",
    "%autoreload 2"
   ],
   "metadata": {
    "collapsed": false
   }
  },
  {
   "cell_type": "code",
   "execution_count": 202,
   "outputs": [],
   "source": [
    "# race_day = datetime.strptime('2022-10-08-10-30', '%Y-%m-%d-%H-%M') # Hradec\n",
    "race_day = datetime.strptime('2022-12-31-10-00', '%Y-%m-%d-%H-%M') # Hradec"
   ],
   "metadata": {
    "collapsed": false
   }
  },
  {
   "cell_type": "code",
   "execution_count": 203,
   "outputs": [
    {
     "name": "stderr",
     "output_type": "stream",
     "text": [
      "100%|██████████| 386/386 [00:00<00:00, 1779.89it/s]\n"
     ]
    }
   ],
   "source": [
    "data = fit.load_pcls(\n",
    "        athlete_name='zahradnik',\n",
    "        activity_type='running',\n",
    "        path_to_load=conf[\"Paths\"][\"pcl\"],\n",
    "    )"
   ],
   "metadata": {
    "collapsed": false
   }
  },
  {
   "cell_type": "code",
   "execution_count": 204,
   "outputs": [],
   "source": [
    "simillar_race_index = race_index = fit.get_race_index(data, \"2022-08-17-16-46\")"
   ],
   "metadata": {
    "collapsed": false
   }
  },
  {
   "cell_type": "code",
   "execution_count": 205,
   "outputs": [],
   "source": [
    "stadion_df=data[simillar_race_index]"
   ],
   "metadata": {
    "collapsed": false
   }
  },
  {
   "cell_type": "code",
   "execution_count": 206,
   "outputs": [],
   "source": [
    "df = Converter(input_file='silvestrak.gpx').gpx_to_dataframe()\n",
    "df['enhanced_altitude'] = df.altitude\n",
    "df.drop(\"altitude\",axis=1,inplace=True)"
   ],
   "metadata": {
    "collapsed": false
   }
  },
  {
   "cell_type": "code",
   "execution_count": 207,
   "outputs": [],
   "source": [
    "def calc_dist(pos1: tuple,pos2: tuple) -> int:\n",
    "    return hs.haversine(pos1, pos2, unit=hs.Unit.METERS)"
   ],
   "metadata": {
    "collapsed": false
   }
  },
  {
   "cell_type": "code",
   "execution_count": 208,
   "outputs": [],
   "source": [
    "## DISTANCE\n",
    "df['dist_diff'] = [0] + [calc_dist(\n",
    "    (df['latitude'].iloc[x], df['longitude'].iloc[x]),\n",
    "    (df['latitude'].iloc[x+1], df['longitude'].iloc[x+1])) for x in range(len(df)-1)]\n",
    "\n",
    "df['distance'] = df['dist_diff'].cumsum()"
   ],
   "metadata": {
    "collapsed": false
   }
  },
  {
   "cell_type": "code",
   "execution_count": 209,
   "outputs": [],
   "source": [
    "df[\"temp\"], df[\"wind_speed\"], df[\"wind_direct\"], df[\"rain\"] = preprocess.get_meteo(\n",
    "    df.latitude.iloc[0],\n",
    "    df.longitude.iloc[0],\n",
    "    df.enhanced_altitude.iloc[0],\n",
    "    race_day\n",
    ")\n",
    "df.drop(['latitude','longitude'],axis=1,inplace=True)"
   ],
   "metadata": {
    "collapsed": false
   }
  },
  {
   "cell_type": "code",
   "execution_count": 210,
   "outputs": [],
   "source": [
    "df[\"slope_ascent\"], df[\"slope_descent\"] = preprocess.calc_ascent_descent(df)\n",
    "\n",
    "df[\"slope_steep\"] = preprocess.calc_slope_steep(df)\n",
    "\n",
    "df['cadence'] = round(np.mean(stadion_df.cadence))"
   ],
   "metadata": {
    "collapsed": false
   }
  }
 ],
 "metadata": {
  "kernelspec": {
   "display_name": "Python 3",
   "language": "python",
   "name": "python3"
  },
  "language_info": {
   "codemirror_mode": {
    "name": "ipython",
    "version": 2
   },
   "file_extension": ".py",
   "mimetype": "text/x-python",
   "name": "python",
   "nbconvert_exporter": "python",
   "pygments_lexer": "ipython2",
   "version": "2.7.6"
  }
 },
 "nbformat": 4,
 "nbformat_minor": 0
}
