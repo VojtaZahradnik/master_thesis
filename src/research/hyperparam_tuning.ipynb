{
 "cells": [
  {
   "cell_type": "code",
   "execution_count": 1,
   "outputs": [],
   "source": [
    "import sys\n",
    "sys.path.insert(0,'/home/zahradnik/PycharmProjects/master_thesis')"
   ],
   "metadata": {
    "collapsed": false,
    "ExecuteTime": {
     "end_time": "2023-12-08T18:59:21.993552598Z",
     "start_time": "2023-12-08T18:59:21.955627346Z"
    }
   },
   "id": "45defe5c6e1386eb"
  },
  {
   "cell_type": "code",
   "execution_count": 2,
   "id": "initial_id",
   "metadata": {
    "collapsed": true,
    "ExecuteTime": {
     "end_time": "2023-12-08T18:59:23.607507632Z",
     "start_time": "2023-12-08T18:59:21.963796046Z"
    }
   },
   "outputs": [
    {
     "name": "stdout",
     "output_type": "stream",
     "text": [
      "/home/zahradnik/PycharmProjects/master_thesis/src/modules/__init__.py\n",
      "/home/zahradnik/PycharmProjects/master_thesis\n"
     ]
    }
   ],
   "source": [
    "import numpy as np\n",
    "import pandas as pd\n",
    "import os\n",
    "from src.modules import conf, fit, df_columns, evl, preprocess\n",
    "from sklearn.model_selection import train_test_split\n",
    "from datetime import datetime\n",
    "from xgboost import XGBRegressor"
   ]
  },
  {
   "cell_type": "code",
   "execution_count": 3,
   "outputs": [],
   "source": [
    "%load_ext autoreload\n",
    "%autoreload 2"
   ],
   "metadata": {
    "collapsed": false,
    "ExecuteTime": {
     "end_time": "2023-12-08T18:59:23.641574848Z",
     "start_time": "2023-12-08T18:59:23.609586315Z"
    }
   },
   "id": "b810cbb1c9761a0f"
  },
  {
   "cell_type": "code",
   "execution_count": 4,
   "outputs": [],
   "source": [
    "race_day = '2023-12-03-11-30'"
   ],
   "metadata": {
    "collapsed": false,
    "ExecuteTime": {
     "end_time": "2023-12-08T18:59:23.653131490Z",
     "start_time": "2023-12-08T18:59:23.631674002Z"
    }
   },
   "id": "e2598f0f215a8c54"
  },
  {
   "cell_type": "code",
   "execution_count": 5,
   "outputs": [
    {
     "name": "stderr",
     "output_type": "stream",
     "text": [
      "100%|██████████| 386/386 [00:00<00:00, 493.66it/s]"
     ]
    },
    {
     "name": "stdout",
     "output_type": "stream",
     "text": []
    },
    {
     "name": "stderr",
     "output_type": "stream",
     "text": [
      "\n"
     ]
    }
   ],
   "source": [
    "data = fit.load_pcls(\n",
    "        'zahradnik',\n",
    "        'running',\n",
    "        conf[\"Paths\"][\"pcl\"],\n",
    "        datetime.strptime(race_day, \"%Y-%m-%d-%H-%M\")\n",
    "    )\n",
    "test_df = data[31]\n",
    "data.pop(31)\n",
    "print(\"\")"
   ],
   "metadata": {
    "collapsed": false,
    "ExecuteTime": {
     "end_time": "2023-12-08T18:59:24.509174837Z",
     "start_time": "2023-12-08T18:59:23.696277641Z"
    }
   },
   "id": "83c14d7cdd0bd145"
  },
  {
   "cell_type": "code",
   "execution_count": 6,
   "outputs": [],
   "source": [
    "cad_test = test_df[\"cadence\"]\n",
    "hr_test = test_df[\"heart_rate\"]\n",
    "speed_test = test_df[\"enhanced_speed\"]\n",
    "cols_to_drop = [\"cadence\",\"heart_rate\",\"enhanced_speed\"]\n",
    "for x in cols_to_drop:\n",
    "    cols_drop = test_df.filter(like=x).columns\n",
    "    test_df.drop(columns=cols_drop,inplace=True)"
   ],
   "metadata": {
    "collapsed": false,
    "ExecuteTime": {
     "end_time": "2023-12-08T18:59:24.510893403Z",
     "start_time": "2023-12-08T18:59:24.508776099Z"
    }
   },
   "id": "20c1641e0406585c"
  },
  {
   "cell_type": "code",
   "execution_count": 7,
   "outputs": [
    {
     "data": {
      "text/plain": "(144, 241)"
     },
     "execution_count": 7,
     "metadata": {},
     "output_type": "execute_result"
    }
   ],
   "source": [
    "low_dist, high_dist = preprocess.segment_data(data)\n",
    "len(low_dist),len(high_dist)"
   ],
   "metadata": {
    "collapsed": false,
    "ExecuteTime": {
     "end_time": "2023-12-08T18:59:24.596160243Z",
     "start_time": "2023-12-08T18:59:24.509138841Z"
    }
   },
   "id": "1b5575211bba3867"
  },
  {
   "cell_type": "code",
   "execution_count": 8,
   "outputs": [
    {
     "data": {
      "text/plain": "681291"
     },
     "execution_count": 8,
     "metadata": {},
     "output_type": "execute_result"
    }
   ],
   "source": [
    "if max(test_df.distance) > 10000:\n",
    "    train_df = fit.clean_data(pd.concat(high_dist))\n",
    "else:\n",
    "    train_df = fit.clean_data(pd.concat(low_dist))\n",
    "len(train_df)"
   ],
   "metadata": {
    "collapsed": false,
    "ExecuteTime": {
     "end_time": "2023-12-08T18:59:31.077417403Z",
     "start_time": "2023-12-08T18:59:24.588789450Z"
    }
   },
   "id": "8646e9f0e097c77"
  },
  {
   "cell_type": "code",
   "execution_count": 21,
   "outputs": [],
   "source": [
    "# Objective function for XGBoost regression\n",
    "def objective_function(params):\n",
    "    # Extract hyperparameters\n",
    "    learning_rate, max_depth, min_child_weight = params\n",
    "    \n",
    "    # Train XGBoost model\n",
    "    model = xgb.XGBRegressor(learning_rate=abs(learning_rate), max_depth=round(max_depth), min_child_weight=min_child_weight, random_state=42)\n",
    "    model.fit(X_train, y_train)\n",
    "\n",
    "    # Predict on the validation set\n",
    "    y_pred = model.predict(X_valid)\n",
    "\n",
    "    # Calculate mean squared error (you can replace this with your own evaluation metric)\n",
    "    mae = mean_absolute_error(y_valid, y_pred)\n",
    "\n",
    "    # Return mae since we are maximizing the objective\n",
    "    return mae"
   ],
   "metadata": {
    "collapsed": false,
    "ExecuteTime": {
     "end_time": "2023-12-08T19:30:39.201985356Z",
     "start_time": "2023-12-08T19:30:39.180302632Z"
    }
   },
   "id": "d695516b246f2038"
  },
  {
   "cell_type": "markdown",
   "source": [
    "# Random shooting"
   ],
   "metadata": {
    "collapsed": false
   },
   "id": "3e2ee29fbb87c218"
  },
  {
   "cell_type": "code",
   "execution_count": 13,
   "outputs": [],
   "source": [
    "import numpy as np\n",
    "from sklearn.metrics import mean_absolute_error\n",
    "import xgboost as xgb\n",
    "from tqdm import tqdm\n",
    "\n",
    "def random_search(iterations, search_range):\n",
    "    # Initialize best parameters and score\n",
    "    best_params = None\n",
    "    best_score = float('-inf')\n",
    "\n",
    "    for iteration in tqdm(range(iterations)):\n",
    "        # Sample random hyperparameters in the specified search range\n",
    "        current_params = [np.random.uniform(low, high) for low, high in search_range]\n",
    "\n",
    "        # Evaluate the objective function at the current point\n",
    "        current_score = objective_function(current_params)\n",
    "\n",
    "        # Update the best point if the current point is better\n",
    "        if current_score > best_score:\n",
    "            best_params = current_params\n",
    "            best_score = current_score\n",
    "\n",
    "    return best_params, best_score\n",
    "# Example usage\n",
    "iterations = 2\n",
    "search_range = [(0.001, 0.2), (3, 10), (1, 5)]"
   ],
   "metadata": {
    "collapsed": false,
    "ExecuteTime": {
     "end_time": "2023-12-03T10:25:15.312645644Z",
     "start_time": "2023-12-03T10:25:15.285003249Z"
    }
   },
   "id": "b59ccbf4aa719f5"
  },
  {
   "cell_type": "code",
   "execution_count": 26,
   "outputs": [
    {
     "name": "stderr",
     "output_type": "stream",
     "text": [
      "100%|██████████| 2/2 [00:38<00:00, 19.47s/it]"
     ]
    },
    {
     "name": "stdout",
     "output_type": "stream",
     "text": [
      "Best Parameters: [0.08677608898855552, 8.36217724971346, 4.669438530333382]\n",
      "Best Score for Cadence (Mean Absolute Error): 0.9476478259575504\n"
     ]
    },
    {
     "name": "stderr",
     "output_type": "stream",
     "text": [
      "\n"
     ]
    }
   ],
   "source": [
    "# Split the training data into training and validation sets\n",
    "X_train, X_valid, y_train, y_valid = train_df[test_df.columns], test_df, train_df[\"cadence\"], cad_test \n",
    "\n",
    "best_params, best_score = random_search(iterations, search_range)\n",
    "\n",
    "print(\"Best Parameters:\", best_params)\n",
    "print(\"Best Score for Cadence (Mean Absolute Error):\", best_score)\n",
    "\n",
    "test_df[\"cadence\"] = cad_test\n",
    "test_df= preprocess.calc_windows(df=test_df,\n",
    "          lagged=15,\n",
    "          cols=[\"cadence\"])\n",
    "test_df = preprocess.calc_moving(df=test_df, max_range=110, col=\"cadence\")"
   ],
   "metadata": {
    "collapsed": false,
    "ExecuteTime": {
     "end_time": "2023-12-03T10:31:25.433636607Z",
     "start_time": "2023-12-03T10:30:46.243205614Z"
    }
   },
   "id": "d2dbd4371deb2813"
  },
  {
   "cell_type": "code",
   "execution_count": 27,
   "outputs": [
    {
     "name": "stderr",
     "output_type": "stream",
     "text": [
      "100%|██████████| 2/2 [00:41<00:00, 20.52s/it]"
     ]
    },
    {
     "name": "stdout",
     "output_type": "stream",
     "text": [
      "Best Parameters: [0.1306719659914615, 7.174196967658485, 1.9274628940600311]\n",
      "Best Score for Heart rate (Mean Absolute Error): 5.387001972396233\n"
     ]
    },
    {
     "name": "stderr",
     "output_type": "stream",
     "text": [
      "\n"
     ]
    }
   ],
   "source": [
    "# Split the training data into training and validation sets\n",
    "X_train, X_valid, y_train, y_valid = train_df[test_df.columns], test_df, train_df[\"heart_rate\"], hr_test \n",
    "\n",
    "best_params, best_score = random_search(iterations, search_range)\n",
    "\n",
    "print(\"Best Parameters:\", best_params)\n",
    "print(\"Best Score for Cadence (Mean Absolute Error):\", best_score)\n",
    "\n",
    "\n",
    "from feature_engine.creation import MathFeatures\n",
    "test_df[\"heart_rate\"] = hr_test\n",
    "for fce in [\"sum\", \"mean\", \"min\", \"max\"]:\n",
    "    test_df = MathFeatures(variables=[\"heart_rate\", \"cadence\"], func=fce).fit(test_df).transform(test_df)\n",
    "    \n",
    "test_df= preprocess.calc_windows(df=test_df,\n",
    "          lagged=12,\n",
    "          cols=[\"heart_rate\"])\n",
    "test_df = preprocess.calc_moving(df=test_df, max_range=110, col=\"heart_rate\")"
   ],
   "metadata": {
    "collapsed": false,
    "ExecuteTime": {
     "end_time": "2023-12-03T10:32:06.796332497Z",
     "start_time": "2023-12-03T10:31:25.436779Z"
    }
   },
   "id": "b5cb34b76e6e5f8e"
  },
  {
   "cell_type": "code",
   "execution_count": 28,
   "outputs": [
    {
     "name": "stderr",
     "output_type": "stream",
     "text": [
      "100%|██████████| 2/2 [00:36<00:00, 18.06s/it]"
     ]
    },
    {
     "name": "stdout",
     "output_type": "stream",
     "text": [
      "Best Parameters: [0.19829379266243014, 9.750791581598133, 1.4681710785859101]\n",
      "Best Score for Speed (Mean Absolute Error): 0.9730259437348425\n"
     ]
    },
    {
     "name": "stderr",
     "output_type": "stream",
     "text": [
      "\n"
     ]
    }
   ],
   "source": [
    "# Split the training data into training and validation sets\n",
    "X_train, X_valid, y_train, y_valid = train_df[test_df.columns], test_df, train_df[\"enhanced_speed\"], speed_test \n",
    "\n",
    "best_params, best_score = random_search(iterations, search_range)\n",
    "\n",
    "print(\"Best Parameters:\", best_params)\n",
    "print(\"Best Score for Speed (Mean Absolute Error):\", best_score)"
   ],
   "metadata": {
    "collapsed": false,
    "ExecuteTime": {
     "end_time": "2023-12-03T10:32:43.159284083Z",
     "start_time": "2023-12-03T10:32:06.796590729Z"
    }
   },
   "id": "9e6ec393e3f2e1e7"
  },
  {
   "cell_type": "markdown",
   "source": [
    "## Genetics optimization with DEAP"
   ],
   "metadata": {
    "collapsed": false
   },
   "id": "ed8fc8ff9453573a"
  },
  {
   "cell_type": "code",
   "execution_count": 66,
   "outputs": [
    {
     "name": "stdout",
     "output_type": "stream",
     "text": [
      "(0.001, 0.2)\n",
      "(3, 10)\n",
      "(1, 5)\n"
     ]
    },
    {
     "data": {
      "text/plain": "[functools.partial(<bound method Random.uniform of <random.Random object at 0x5636caf04b10>>, 0.001, 0.2),\n functools.partial(<bound method Random.randint of <random.Random object at 0x5636caf04b10>>, 3, 10),\n functools.partial(<bound method Random.randint of <random.Random object at 0x5636caf04b10>>, 1, 5)]"
     },
     "execution_count": 66,
     "metadata": {},
     "output_type": "execute_result"
    }
   ],
   "source": [
    "from deap import base, creator, tools, algorithms\n",
    "toolbox = base.Toolbox()\n",
    "import random\n",
    "attr_set = []\n",
    "search_space = [(0.001, 0.2), (3, 10), (1, 5)]\n",
    "\n",
    "for key,counter in zip(search_space,range(len(search_space))):\n",
    "    print(key)\n",
    "    if isinstance(key[0],float):\n",
    "        toolbox.register(f\"attr_{counter}\", random.uniform, key[0], key[1])\n",
    "    elif isinstance(key[0],int):\n",
    "        toolbox.register(f\"attr_{counter}\", random.randint, key[0], key[1])\n",
    "\n",
    "    attr_set.append(getattr(toolbox, (f\"attr_{counter}\")))\n",
    "attr_set"
   ],
   "metadata": {
    "collapsed": false,
    "ExecuteTime": {
     "end_time": "2023-12-03T11:00:16.286100549Z",
     "start_time": "2023-12-03T11:00:16.254795249Z"
    }
   },
   "id": "4245f90e641c0bbd"
  },
  {
   "cell_type": "code",
   "execution_count": 94,
   "outputs": [],
   "source": [
    "import numpy as np\n",
    "import xgboost as xgb\n",
    "from deap import base, creator, tools, algorithms\n",
    "\n",
    "def genetic_opt(pop_size: int, genetic_iterations: int, search_space: list):\n",
    "    # Define individual and population\n",
    "    creator.create(\"FitnessMax\", base.Fitness, weights=(1.0,))\n",
    "    creator.create(\"Individual\", list, fitness=creator.FitnessMax)\n",
    "    \n",
    "    toolbox = base.Toolbox()\n",
    "    toolbox.register(\"attr_float\", np.random.uniform, abs(search_space[0][0]), abs(search_space[0][1]))\n",
    "    toolbox.register(\"attr_int1\", np.random.randint, search_space[1][0], search_space[1][1])\n",
    "    toolbox.register(\"attr_int2\", np.random.randint, search_space[2][0], search_space[2][1])\n",
    "    toolbox.register(\"individual\", tools.initCycle, creator.Individual, attr_set, n=1)\n",
    "    toolbox.register(\"population\", tools.initRepeat, list, toolbox.individual)\n",
    "    \n",
    "    # Register genetic operators\n",
    "    toolbox.register(\"mate\", tools.cxBlend, alpha=0.5)\n",
    "    toolbox.register(\"mutate\", tools.mutGaussian, mu=0, sigma=1, indpb=0.2)\n",
    "    toolbox.register(\"select\", tools.selTournament, tournsize=3)\n",
    "    \n",
    "    # Evaluation function\n",
    "    toolbox.register(\"evaluate\", objective_function)\n",
    "    \n",
    "    # Main genetic algorithm loop\n",
    "    population = toolbox.population(n=pop_size)\n",
    "    \n",
    "    for gen in tqdm(range(genetic_iterations)):\n",
    "        offspring = algorithms.varAnd(population, toolbox, cxpb=0.7, mutpb=0.2)\n",
    "        fits = toolbox.map(toolbox.evaluate, offspring)\n",
    "        \n",
    "        for ind, fit in zip(offspring, fits):\n",
    "            ind.fitness.values = [fit]\n",
    "    \n",
    "        population = toolbox.select(offspring, k=len(population))\n",
    "    best_individual = tools.selBest(population, k=1)[0]\n",
    "    return tools.selBest(population, k=1)[0],  best_individual[0]\n",
    "    \n",
    "# Genetic algorithm parameters\n",
    "pop_size = 5\n",
    "genetic_iterations = 2\n",
    "search_space = [(0.001, 0.2), (3, 10), (1, 5)]  # Search range for learning_rate, max_depth, and min_child_weight "
   ],
   "metadata": {
    "collapsed": false,
    "ExecuteTime": {
     "end_time": "2023-12-03T12:54:08.029852509Z",
     "start_time": "2023-12-03T12:54:07.974778579Z"
    }
   },
   "id": "89c7e292209434e"
  },
  {
   "cell_type": "code",
   "execution_count": 95,
   "outputs": [
    {
     "name": "stderr",
     "output_type": "stream",
     "text": [
      "RuntimeWarning: A class named 'FitnessMax' has already been created and it will be overwritten. Consider deleting previous creation of that class or rename it.\n",
      "RuntimeWarning: A class named 'Individual' has already been created and it will be overwritten. Consider deleting previous creation of that class or rename it.\n",
      "  0%|          | 0/2 [00:00<?, ?it/s]"
     ]
    },
    {
     "name": "stdout",
     "output_type": "stream",
     "text": [
      "Training: [0.0003635077937490464, 8.09030446018643, 0.7402927430822448]\n",
      "Training: [0.02159084217795138, 7.603431790105426, 6.495445670820286]\n",
      "Training: [0.03235802349277395, 3, 4]\n",
      "Training: [0.07197449905347374, 6, 1]\n",
      "Training: [0.6571753049738144, 10, 4]\n"
     ]
    },
    {
     "name": "stderr",
     "output_type": "stream",
     "text": [
      " 50%|█████     | 1/2 [05:42<05:42, 342.57s/it]"
     ]
    },
    {
     "name": "stdout",
     "output_type": "stream",
     "text": [
      "Training: [0.6571753049738144, 10.0, 4.0]\n",
      "Training: [0.6571753049738144, 10.0, 4.0]\n",
      "Training: [-0.26828264389743367, 10.69886067623877, 4.0]\n",
      "Training: [0.9578159723640219, 2.3011393237612316, 4.0]\n",
      "Training: [0.6571753049738144, 10, 4]\n"
     ]
    },
    {
     "name": "stderr",
     "output_type": "stream",
     "text": [
      "100%|██████████| 2/2 [12:00<00:00, 360.18s/it]"
     ]
    },
    {
     "name": "stdout",
     "output_type": "stream",
     "text": [
      "Best Parameters: -0.26828264389743367\n",
      "Best Score (Mean Absolute Error): -1.2923004818439856\n"
     ]
    },
    {
     "name": "stderr",
     "output_type": "stream",
     "text": [
      "\n"
     ]
    }
   ],
   "source": [
    "X_train, X_valid, y_train, y_valid = train_df[test_df.columns], test_df, train_df[\"cadence\"], cad_test \n",
    "\n",
    "# Get the best individual from the final population\n",
    "best_individual, best_params = genetic_opt(pop_size, genetic_iterations, search_space)\n",
    "\n",
    "print(\"Best Parameters:\", best_params)\n",
    "print(\"Best Score (Mean Absolute Error):\", -best_individual.fitness.values[0])\n",
    "\n",
    "test_df[\"cadence\"] = cad_test\n",
    "test_df= preprocess.calc_windows(df=test_df,\n",
    "          lagged=15,\n",
    "          cols=[\"cadence\"])\n",
    "test_df = preprocess.calc_moving(df=test_df, max_range=110, col=\"cadence\")"
   ],
   "metadata": {
    "collapsed": false,
    "ExecuteTime": {
     "end_time": "2023-12-03T13:06:10.641342839Z",
     "start_time": "2023-12-03T12:54:10.040176111Z"
    }
   },
   "id": "6211a0c324610bed"
  },
  {
   "cell_type": "code",
   "execution_count": 96,
   "outputs": [
    {
     "name": "stderr",
     "output_type": "stream",
     "text": [
      "RuntimeWarning: A class named 'FitnessMax' has already been created and it will be overwritten. Consider deleting previous creation of that class or rename it.\n",
      "RuntimeWarning: A class named 'Individual' has already been created and it will be overwritten. Consider deleting previous creation of that class or rename it.\n",
      "  0%|          | 0/2 [00:00<?, ?it/s]"
     ]
    },
    {
     "name": "stdout",
     "output_type": "stream",
     "text": [
      "Training: [0.0667557457343446, 8.55171987612435, 1.8754143892186315]\n",
      "Training: [0.04955287691688726, 1.4482801238756493, 3.1245856107813683]\n",
      "Training: [0.04970787744152876, 2.946086916373445, 4.0]\n",
      "Training: [0.20908222595742815, 10.053913083626554, 4.0]\n",
      "Training: [0.06107347120121371, 8, 3]\n"
     ]
    },
    {
     "name": "stderr",
     "output_type": "stream",
     "text": [
      " 50%|█████     | 1/2 [05:13<05:13, 313.48s/it]"
     ]
    },
    {
     "name": "stdout",
     "output_type": "stream",
     "text": [
      "Training: [0.18482394252982265, 4.041646443176392, 4.0]\n",
      "Training: [0.07396616086913428, 8.958353556823607, 4.0]\n",
      "Training: [-0.10119428461194085, 6.2721716393496125, 5.273811871754961]\n",
      "Training: [-0.010088494145591959, 5.2300215681525914, 3.6777477980110627]\n",
      "Training: [0.04955287691688726, 1.4482801238756493, 3.1245856107813683]\n"
     ]
    },
    {
     "name": "stderr",
     "output_type": "stream",
     "text": [
      "100%|██████████| 2/2 [09:10<00:00, 275.41s/it]"
     ]
    },
    {
     "name": "stdout",
     "output_type": "stream",
     "text": [
      "Best Parameters for heart_rate: [-0.010088494145591959, 5.2300215681525914, 3.6777477980110627]\n",
      "Best Score for heart_rate (Mean Absolute Error): -0.010088494145591959\n"
     ]
    },
    {
     "name": "stderr",
     "output_type": "stream",
     "text": [
      "\n"
     ]
    }
   ],
   "source": [
    "X_train, X_valid, y_train, y_valid = train_df[test_df.columns], test_df, train_df[\"heart_rate\"], hr_test \n",
    "best_params, best_score = genetic_opt(pop_size, genetic_iterations, search_space)\n",
    "print(\"Best Parameters for heart_rate:\", best_params)\n",
    "print(\"Best Score for heart_rate (Mean Absolute Error):\",best_score)\n",
    "\n",
    "from feature_engine.creation import MathFeatures\n",
    "test_df[\"heart_rate\"] = hr_test\n",
    "for fce in [\"sum\", \"mean\", \"min\", \"max\"]:\n",
    "    test_df = MathFeatures(variables=[\"heart_rate\", \"cadence\"], func=fce).fit(test_df).transform(test_df)\n",
    "    \n",
    "test_df= preprocess.calc_windows(df=test_df,\n",
    "          lagged=12,\n",
    "          cols=[\"heart_rate\"])\n",
    "test_df = preprocess.calc_moving(df=test_df, max_range=110, col=\"heart_rate\")"
   ],
   "metadata": {
    "collapsed": false,
    "ExecuteTime": {
     "end_time": "2023-12-03T13:15:21.805476930Z",
     "start_time": "2023-12-03T13:06:10.644518255Z"
    }
   },
   "id": "fb6ea3cb50c88c77"
  },
  {
   "cell_type": "code",
   "execution_count": 97,
   "outputs": [
    {
     "name": "stderr",
     "output_type": "stream",
     "text": [
      "RuntimeWarning: A class named 'FitnessMax' has already been created and it will be overwritten. Consider deleting previous creation of that class or rename it.\n",
      "RuntimeWarning: A class named 'Individual' has already been created and it will be overwritten. Consider deleting previous creation of that class or rename it.\n",
      "  0%|          | 0/2 [00:00<?, ?it/s]"
     ]
    },
    {
     "name": "stdout",
     "output_type": "stream",
     "text": [
      "Training: [0.06957408921686217, 3.7702798144844314, 1.1441528080553276]\n",
      "Training: [0.04414249853719565, 3.2297201855155686, 5.855847191944672]\n",
      "Training: [0.11225700408119613, 7.0, 3.9480862644362573]\n",
      "Training: [0.11475660073441396, 7.0, 1.0519137355637427]\n",
      "Training: [-0.5425037351938867, 8, 3]\n"
     ]
    },
    {
     "name": "stderr",
     "output_type": "stream",
     "text": [
      " 50%|█████     | 1/2 [04:45<04:45, 285.11s/it]"
     ]
    },
    {
     "name": "stdout",
     "output_type": "stream",
     "text": [
      "Training: [-0.4575236238066777, 8.341211587748305, 2.528154272332778]\n",
      "Training: [0.027276892693987115, 6.658788412251695, 4.419931992103479]\n",
      "Training: [-0.44124013075880253, 8.373002833814741, 4.093921391473539]\n",
      "Training: [0.010993399646111901, 6.626997166185259, 2.854164872962719]\n",
      "Training: [-0.5425037351938867, 8, 3]\n"
     ]
    },
    {
     "name": "stderr",
     "output_type": "stream",
     "text": [
      "100%|██████████| 2/2 [10:52<00:00, 326.30s/it]"
     ]
    },
    {
     "name": "stdout",
     "output_type": "stream",
     "text": [
      "Best Parameters for enhanced_speed: [0.010993399646111901, 6.626997166185259, 2.854164872962719]\n",
      "Best Score for enhanced_speed (Mean Absolute Error): 0.010993399646111901\n"
     ]
    },
    {
     "name": "stderr",
     "output_type": "stream",
     "text": [
      "\n"
     ]
    }
   ],
   "source": [
    "X_train, X_valid, y_train, y_valid = train_df[test_df.columns], test_df, train_df[\"enhanced_speed\"], speed_test \n",
    "best_params, best_score = genetic_opt(pop_size, genetic_iterations, search_space)\n",
    "print(\"Best Parameters for enhanced_speed:\", best_params)\n",
    "print(\"Best Score for enhanced_speed (Mean Absolute Error):\",best_score)"
   ],
   "metadata": {
    "collapsed": false,
    "ExecuteTime": {
     "end_time": "2023-12-03T13:26:14.594691339Z",
     "start_time": "2023-12-03T13:15:21.806767176Z"
    }
   },
   "id": "419c0497f56c8e34"
  },
  {
   "cell_type": "markdown",
   "source": [
    "# Simulated Annealing"
   ],
   "metadata": {
    "collapsed": false
   },
   "id": "aaccb6185851694e"
  },
  {
   "cell_type": "code",
   "execution_count": 43,
   "outputs": [],
   "source": [
    "import math\n",
    "import numpy as np\n",
    "import xgboost as xgb\n",
    "import random\n",
    "from sklearn.metrics import mean_absolute_error\n",
    "from tqdm import tqdm\n",
    "def simulated_annealing(initial_params, objective_function, temperature, cooling_rate, num_iterations):\n",
    "    current_params = np.array(initial_params)\n",
    "    current_cost = objective_function(current_params)\n",
    "\n",
    "    best_params = current_params\n",
    "    best_cost = current_cost\n",
    "    all_params = []\n",
    "    obj_values= []\n",
    "    all_params.append(current_params)\n",
    "    for iteration in tqdm(range(num_iterations)):\n",
    "        # Generate a neighboring solution\n",
    "        new_params = current_params + np.random.uniform(-0.1, 0.1, size=len(current_params))\n",
    "\n",
    "        # Evaluate the objective function for the new solution\n",
    "        new_cost = objective_function(new_params)\n",
    "\n",
    "        # Accept the new solution if it's better or with a certain probability if it's worse\n",
    "        if new_cost < current_cost or random.uniform(0, 1) < math.exp((current_cost - new_cost) / temperature):\n",
    "            current_params = new_params\n",
    "            current_cost = new_cost\n",
    "\n",
    "        # Update the best solution if needed\n",
    "        if current_cost < best_cost:\n",
    "            best_params = current_params\n",
    "            best_cost = current_cost\n",
    "\n",
    "        # Reduce the temperature\n",
    "        temperature *= cooling_rate\n",
    "        obj_values.append(current_cost)\n",
    "        all_params.append(current_params)\n",
    "\n",
    "    return best_params, best_cost, all_params, obj_values"
   ],
   "metadata": {
    "collapsed": false,
    "ExecuteTime": {
     "end_time": "2023-12-08T20:09:32.578347803Z",
     "start_time": "2023-12-08T20:09:32.558634681Z"
    }
   },
   "id": "98899f6d73940a6f"
  },
  {
   "cell_type": "code",
   "execution_count": 45,
   "outputs": [],
   "source": [
    "import matplotlib.pyplot as plt\n",
    "\n",
    "def visualize_optimization(iterations, parameter_values, objective_values):\n",
    "    # Plotting the values of each parameter over iterations\n",
    "    plt.figure(figsize=(10, 6))\n",
    "    for param_idx in range(len(parameter_values[0])):\n",
    "        plt.plot(range(iterations+1), [params[param_idx] for params in parameter_values], label=f'Parameter {param_idx + 1}')\n",
    "\n",
    "    plt.title('Optimization Process - Parameter Values')\n",
    "    plt.xlabel('Iteration')\n",
    "    plt.ylabel('Parameter Value')\n",
    "    plt.legend()\n",
    "    plt.show()\n",
    "\n",
    "    # Plotting the objective function values over iterations\n",
    "    plt.figure(figsize=(10, 6))\n",
    "    plt.plot(range(iterations), objective_values, label='Objective Function Value', color='red')\n",
    "\n",
    "    plt.title('Optimization Process - Objective Function')\n",
    "    plt.xlabel('Iteration')\n",
    "    plt.ylabel('Objective Function Value')\n",
    "    plt.legend()\n",
    "    plt.show()"
   ],
   "metadata": {
    "collapsed": false,
    "ExecuteTime": {
     "end_time": "2023-12-08T20:09:58.900144662Z",
     "start_time": "2023-12-08T20:09:58.856635296Z"
    }
   },
   "id": "ea88b093ee4339c3"
  },
  {
   "cell_type": "code",
   "execution_count": null,
   "outputs": [
    {
     "name": "stderr",
     "output_type": "stream",
     "text": [
      " 48%|████▊     | 48/100 [11:45<11:36, 13.40s/it]"
     ]
    }
   ],
   "source": [
    "\n",
    "# Example usage\n",
    "X_train, X_valid, y_train, y_valid = train_df[test_df.columns], test_df, train_df[\"cadence\"], cad_test \n",
    "\n",
    "initial_params = [0.1, 5, 3]  # Initial values for learning_rate, max_depth, min_child_weight\n",
    "temperature = 1.0\n",
    "cooling_rate = 0.95\n",
    "num_iterations = 100\n",
    "\n",
    "best_params, best_cost,all_params,obj_values = simulated_annealing(initial_params, objective_function, temperature, cooling_rate, num_iterations)\n",
    "\n",
    "print(\"Best Parameters:\", best_params)\n",
    "print(\"Best Score (Mean Absolute Error):\", best_cost)\n",
    "test_df[\"cadence\"]= cad_test\n",
    "test_df= preprocess.calc_windows(df=test_df,\n",
    "          lagged=15,\n",
    "          cols=[\"cadence\"])\n",
    "test_df = preprocess.calc_moving(df=test_df, max_range=110, col=\"cadence\")\n",
    "# Example usage:\n",
    "# Assuming you have recorded parameter_values and objective_values during optimization\n",
    "visualize_optimization(num_iterations, all_params[:10], obj_values[:10])"
   ],
   "metadata": {
    "collapsed": false,
    "is_executing": true,
    "ExecuteTime": {
     "start_time": "2023-12-08T20:10:00.899227867Z"
    }
   },
   "id": "506c27950f740a3c"
  },
  {
   "cell_type": "code",
   "execution_count": null,
   "outputs": [],
   "source": [
    "# Example usage\n",
    "X_train, X_valid, y_train, y_valid = train_df[test_df.columns], test_df, train_df[\"heart_rate\"], cad_test \n",
    "\n",
    "initial_params = [0.1, 5, 3]  # Initial values for learning_rate, max_depth, min_child_weight\n",
    "temperature = 1.0\n",
    "cooling_rate = 0.95\n",
    "num_iterations = 100\n",
    "\n",
    "best_params, best_cost = simulated_annealing(initial_params, objective_function, temperature, cooling_rate, num_iterations)\n",
    "\n",
    "print(\"Best Parameters:\", best_params)\n",
    "print(\"Best Score (Mean Absolute Error):\", best_cost)\n",
    "\n",
    "test_df[\"heart_rate\"]=hr_test\n",
    "from feature_engine.creation import MathFeatures\n",
    "test_df[\"heart_rate\"] = hr_test\n",
    "for fce in [\"sum\", \"mean\", \"min\", \"max\"]:\n",
    "    test_df = MathFeatures(variables=[\"heart_rate\", \"cadence\"], func=fce).fit(test_df).transform(test_df)\n",
    "    \n",
    "test_df= preprocess.calc_windows(df=test_df,\n",
    "          lagged=12,\n",
    "          cols=[\"heart_rate\"])\n",
    "test_df = preprocess.calc_moving(df=test_df, max_range=110, col=\"heart_rate\")\n",
    "# Example usage:\n",
    "# Assuming you have recorded parameter_values and objective_values during optimization\n",
    "visualize_optimization(num_iterations, all_params, obj_values)"
   ],
   "metadata": {
    "collapsed": false,
    "is_executing": true
   },
   "id": "e4b6ee6a5aad6213"
  },
  {
   "cell_type": "code",
   "execution_count": null,
   "outputs": [],
   "source": [
    "# Example usage\n",
    "X_train, X_valid, y_train, y_valid = train_df[test_df.columns], test_df, train_df[\"enhanced_speed\"], cad_test \n",
    "\n",
    "initial_params = [0.1, 5, 3]  # Initial values for learning_rate, max_depth, min_child_weight\n",
    "temperature = 1.0\n",
    "cooling_rate = 0.95\n",
    "num_iterations = 100\n",
    "\n",
    "best_params, best_cost, all_params, obj_values = simulated_annealing(initial_params, objective_function, temperature, cooling_rate, num_iterations)\n",
    "\n",
    "print(\"Best Parameters:\", best_params)\n",
    "print(\"Best Score (Mean Absolute Error):\", best_cost)\n",
    "# Example usage:\n",
    "# Assuming you have recorded parameter_values and objective_values during optimization\n",
    "visualize_optimization(num_iterations, all_params[:10], obj_values[:10])"
   ],
   "metadata": {
    "collapsed": false,
    "is_executing": true
   },
   "id": "c4e629ab48d96905"
  }
 ],
 "metadata": {
  "kernelspec": {
   "display_name": "Python 3",
   "language": "python",
   "name": "python3"
  },
  "language_info": {
   "codemirror_mode": {
    "name": "ipython",
    "version": 2
   },
   "file_extension": ".py",
   "mimetype": "text/x-python",
   "name": "python",
   "nbconvert_exporter": "python",
   "pygments_lexer": "ipython2",
   "version": "2.7.6"
  }
 },
 "nbformat": 4,
 "nbformat_minor": 5
}
