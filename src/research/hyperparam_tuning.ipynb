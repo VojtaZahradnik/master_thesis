{
 "cells": [
  {
   "cell_type": "code",
   "execution_count": 5,
   "outputs": [],
   "source": [
    "import sys\n",
    "sys.path.insert(0,'/home/zahradnik/PycharmProjects/master_thesis')"
   ],
   "metadata": {
    "collapsed": false,
    "ExecuteTime": {
     "end_time": "2023-10-29T20:03:25.644223226Z",
     "start_time": "2023-10-29T20:03:25.613667100Z"
    }
   },
   "id": "45defe5c6e1386eb"
  },
  {
   "cell_type": "code",
   "execution_count": 6,
   "id": "initial_id",
   "metadata": {
    "collapsed": true,
    "ExecuteTime": {
     "end_time": "2023-10-29T20:03:26.752350794Z",
     "start_time": "2023-10-29T20:03:25.658020910Z"
    }
   },
   "outputs": [
    {
     "name": "stdout",
     "output_type": "stream",
     "text": [
      "/home/zahradnik/PycharmProjects/master_thesis/src/modules/__init__.py\n",
      "/home/zahradnik/PycharmProjects/master_thesis\n"
     ]
    }
   ],
   "source": [
    "import numpy as np\n",
    "import pandas as pd\n",
    "import os\n",
    "from src.modules import conf, fit, df_columns, evl, preprocess\n",
    "from sklearn.model_selection import train_test_split"
   ]
  },
  {
   "cell_type": "code",
   "execution_count": 7,
   "outputs": [],
   "source": [
    "%load_ext autoreload\n",
    "%autoreload 2"
   ],
   "metadata": {
    "collapsed": false,
    "ExecuteTime": {
     "end_time": "2023-10-29T20:03:26.753826825Z",
     "start_time": "2023-10-29T20:03:26.669420144Z"
    }
   },
   "id": "b810cbb1c9761a0f"
  },
  {
   "cell_type": "code",
   "execution_count": 58,
   "outputs": [
    {
     "name": "stderr",
     "output_type": "stream",
     "text": [
      "100%|██████████| 1/1 [00:02<00:00,  2.05s/it]\n"
     ]
    }
   ],
   "source": [
    "preprocess.preprocessing(        \n",
    "    athlete_name='zahradnik',\n",
    "    activity_type='running',\n",
    "    df_columns = ['timestamp','heart_rate','distance','enhanced_altitude','cadence','enhanced_speed'],\n",
    "    path_to_load = os.path.join(\"src\",\"test_activities\"),\n",
    "    name=\"bechovice\"\n",
    ")"
   ],
   "metadata": {
    "collapsed": false,
    "ExecuteTime": {
     "end_time": "2023-10-29T20:21:10.821292273Z",
     "start_time": "2023-10-29T20:21:08.688664457Z"
    }
   },
   "id": "149dc85c84482e13"
  },
  {
   "cell_type": "code",
   "execution_count": 75,
   "outputs": [],
   "source": [
    "test_df = pd.read_pickle(os.path.join(\"src\",\"test_activities\", \"zahradnik\",\"running\", \"bechovice.pcl\")).drop([\"enhanced_speed\", \"cadence\", \"heart_rate\"],axis=1)\n",
    "cad_cols = [x for x in test_df.columns if \"cadence\" in x]\n",
    "test_df.drop(cad_cols,inplace=True,axis=1)\n",
    "hr_cols = [x for x in test_df.columns if \"heart_rate\" in x]\n",
    "test_df.drop(hr_cols,inplace=True,axis=1)"
   ],
   "metadata": {
    "collapsed": false,
    "ExecuteTime": {
     "end_time": "2023-10-29T20:35:12.158252855Z",
     "start_time": "2023-10-29T20:35:12.126906475Z"
    }
   },
   "id": "1102cbe43d2989df"
  },
  {
   "cell_type": "code",
   "execution_count": 63,
   "outputs": [
    {
     "name": "stderr",
     "output_type": "stream",
     "text": [
      "100%|██████████| 386/386 [00:00<00:00, 608.66it/s]\n"
     ]
    }
   ],
   "source": [
    "data = fit.load_pcls(\n",
    "        athlete_name='zahradnik',\n",
    "        activity_type='running',\n",
    "        path_to_load=conf[\"Paths\"][\"pcl\"],\n",
    "    )"
   ],
   "metadata": {
    "collapsed": false,
    "ExecuteTime": {
     "end_time": "2023-10-29T20:21:52.231607207Z",
     "start_time": "2023-10-29T20:21:51.575905326Z"
    }
   },
   "id": "83c14d7cdd0bd145"
  },
  {
   "cell_type": "code",
   "execution_count": 64,
   "outputs": [
    {
     "data": {
      "text/plain": "(144, 242)"
     },
     "execution_count": 64,
     "metadata": {},
     "output_type": "execute_result"
    }
   ],
   "source": [
    "low_dist = []\n",
    "high_dist = []\n",
    "for act in data:\n",
    "    if np.max(act.distance) > 10000:\n",
    "        high_dist.append(act)\n",
    "    else:\n",
    "        low_dist.append(act)\n",
    "len(low_dist),len(high_dist)"
   ],
   "metadata": {
    "collapsed": false,
    "ExecuteTime": {
     "end_time": "2023-10-29T20:21:56.021378974Z",
     "start_time": "2023-10-29T20:21:55.848680324Z"
    }
   },
   "id": "8646e9f0e097c77"
  },
  {
   "cell_type": "code",
   "execution_count": 65,
   "outputs": [
    {
     "data": {
      "text/plain": "681291"
     },
     "execution_count": 65,
     "metadata": {},
     "output_type": "execute_result"
    }
   ],
   "source": [
    "train_df = fit.clean_data(pd.concat(high_dist))\n",
    "len(train_df)"
   ],
   "metadata": {
    "collapsed": false,
    "ExecuteTime": {
     "end_time": "2023-10-29T20:22:02.300619862Z",
     "start_time": "2023-10-29T20:21:56.010180515Z"
    }
   },
   "id": "5a7fee9d59eb8b4f"
  },
  {
   "cell_type": "code",
   "execution_count": 66,
   "outputs": [],
   "source": [
    "speed_train = train_df.enhanced_speed\n",
    "heart_train = train_df.heart_rate\n",
    "cad_train = train_df.cadence\n",
    "\n",
    "train_df.drop(\"enhanced_speed\", axis=1, inplace=True)\n",
    "train_df.drop(\"heart_rate\", axis=1, inplace=True)\n",
    "train_df.drop(\"cadence\", axis=1, inplace=True)"
   ],
   "metadata": {
    "collapsed": false,
    "ExecuteTime": {
     "end_time": "2023-10-29T20:22:02.727075015Z",
     "start_time": "2023-10-29T20:22:02.302206907Z"
    }
   },
   "id": "b0d98f4ebdce827c"
  },
  {
   "cell_type": "markdown",
   "source": [
    "# Grid search - cad"
   ],
   "metadata": {
    "collapsed": false
   },
   "id": "aaf6d5beead9b120"
  },
  {
   "cell_type": "code",
   "execution_count": 67,
   "outputs": [],
   "source": [
    "from xgboost import XGBRegressor"
   ],
   "metadata": {
    "collapsed": false,
    "ExecuteTime": {
     "end_time": "2023-10-29T20:22:02.751578807Z",
     "start_time": "2023-10-29T20:22:02.728282130Z"
    }
   },
   "id": "e787a6352d215b8b"
  },
  {
   "cell_type": "code",
   "execution_count": 68,
   "outputs": [],
   "source": [
    "param_grid = {\n",
    "    'n_estimators': [100, 200],\n",
    "    'learning_rate': [0.01, 0.1],\n",
    "    'max_depth': [3, 4],\n",
    "    'min_child_weight': [1, 3]\n",
    "}"
   ],
   "metadata": {
    "collapsed": false,
    "ExecuteTime": {
     "end_time": "2023-10-29T20:22:02.777230512Z",
     "start_time": "2023-10-29T20:22:02.751333037Z"
    }
   },
   "id": "5e048f37fa7c36a3"
  },
  {
   "cell_type": "code",
   "execution_count": 69,
   "outputs": [
    {
     "name": "stdout",
     "output_type": "stream",
     "text": [
      "Best Parameters:  {'learning_rate': 0.1, 'max_depth': 3, 'min_child_weight': 1, 'n_estimators': 100}\n"
     ]
    }
   ],
   "source": [
    "from sklearn.model_selection import GridSearchCV\n",
    "\n",
    "# Create an XGBoostRegressor instance\n",
    "clf = XGBRegressor()\n",
    "\n",
    "# Instantiate GridSearchCV with the XGBoostRegressor, parameter grid, and cross-validation strategy\n",
    "grid_search = GridSearchCV(estimator=clf, param_grid=param_grid, cv=2, scoring='neg_root_mean_squared_error', n_jobs=-1)\n",
    "\n",
    "# Perform Grid Search on the training data\n",
    "grid_search.fit(train_df[test_df.columns], cad_train)\n",
    "\n",
    "# Get the best parameters and best estimator from Grid Search\n",
    "best_params = grid_search.best_params_\n",
    "best_clf = grid_search.best_estimator_\n",
    "\n",
    "# Print the best parameters found by Grid Search\n",
    "print(\"Best Parameters: \", best_params)\n",
    "\n",
    "train_df['cadence'] = cad_train"
   ],
   "metadata": {
    "collapsed": false,
    "ExecuteTime": {
     "end_time": "2023-10-29T20:24:01.168370697Z",
     "start_time": "2023-10-29T20:22:02.774335449Z"
    }
   },
   "id": "f73af073a6ff2af9"
  },
  {
   "cell_type": "code",
   "execution_count": 78,
   "outputs": [],
   "source": [
    "test_df[\"cadence\"] = 1\n",
    "test_df= preprocess.calc_windows(df=test_df,\n",
    "          lagged=15,\n",
    "          cols=[\"cadence\"])\n",
    "test_df = preprocess.calc_moving(df=test_df, max_range=110, col=\"cadence\")"
   ],
   "metadata": {
    "collapsed": false,
    "ExecuteTime": {
     "end_time": "2023-10-29T20:35:37.104948186Z",
     "start_time": "2023-10-29T20:35:37.016124197Z"
    }
   },
   "id": "112e263a609e6259"
  },
  {
   "cell_type": "markdown",
   "source": [
    "# grid search - heart"
   ],
   "metadata": {
    "collapsed": false
   },
   "id": "b1eb81375e4fe41d"
  },
  {
   "cell_type": "code",
   "execution_count": 79,
   "outputs": [
    {
     "name": "stdout",
     "output_type": "stream",
     "text": [
      "Best Parameters:  {'learning_rate': 0.1, 'max_depth': 3, 'min_child_weight': 3, 'n_estimators': 100}\n"
     ]
    }
   ],
   "source": [
    "# Create an XGBoostRegressor instance\n",
    "clf = XGBRegressor()\n",
    "\n",
    "# Instantiate GridSearchCV with the XGBoostRegressor, parameter grid, and cross-validation strategy\n",
    "grid_search = GridSearchCV(estimator=clf, param_grid=param_grid, cv=2, scoring='neg_root_mean_squared_error', n_jobs=-1)\n",
    "\n",
    "# Perform Grid Search on the training data\n",
    "grid_search.fit(train_df[test_df.columns], heart_train)\n",
    "\n",
    "# Get the best parameters and best estimator from Grid Search\n",
    "best_params = grid_search.best_params_\n",
    "best_clf = grid_search.best_estimator_\n",
    "\n",
    "# Print the best parameters found by Grid Search\n",
    "print(\"Best Parameters: \", best_params)\n",
    "\n",
    "train_df['heart_rate'] = heart_train"
   ],
   "metadata": {
    "collapsed": false,
    "ExecuteTime": {
     "end_time": "2023-10-29T20:38:45.949420342Z",
     "start_time": "2023-10-29T20:35:55.915105618Z"
    }
   },
   "id": "9adf0cadf08bc1c7"
  },
  {
   "cell_type": "code",
   "execution_count": 81,
   "outputs": [],
   "source": [
    "test_df['heart_rate'] = 1\n",
    "test_df= preprocess.calc_windows(df=test_df,\n",
    "          lagged=15,\n",
    "          cols=[\"heart_rate\"])\n",
    "test_df = preprocess.calc_moving(df=test_df, max_range=110, col=\"heart_rate\")"
   ],
   "metadata": {
    "collapsed": false,
    "ExecuteTime": {
     "end_time": "2023-10-29T20:52:04.351203734Z",
     "start_time": "2023-10-29T20:52:04.222646049Z"
    }
   },
   "id": "732ec9f615c7236"
  },
  {
   "cell_type": "markdown",
   "source": [
    "# grid search - speed"
   ],
   "metadata": {
    "collapsed": false
   },
   "id": "5d1aafb9237b970a"
  },
  {
   "cell_type": "code",
   "execution_count": 82,
   "outputs": [
    {
     "name": "stdout",
     "output_type": "stream",
     "text": [
      "Best Parameters:  {'learning_rate': 0.1, 'max_depth': 4, 'min_child_weight': 3, 'n_estimators': 100}\n"
     ]
    }
   ],
   "source": [
    "\n",
    "# Create an XGBoostRegressor instance\n",
    "clf = XGBRegressor()\n",
    "\n",
    "# Instantiate GridSearchCV with the XGBoostRegressor, parameter grid, and cross-validation strategy\n",
    "grid_search = GridSearchCV(estimator=clf, param_grid=param_grid, cv=2, scoring='neg_root_mean_squared_error', n_jobs=-1)\n",
    "\n",
    "# Perform Grid Search on the training data\n",
    "grid_search.fit(train_df[test_df.columns], speed_train)\n",
    "\n",
    "# Get the best parameters and best estimator from Grid Search\n",
    "best_params = grid_search.best_params_\n",
    "best_clf = grid_search.best_estimator_\n",
    "\n",
    "# Print the best parameters found by Grid Search\n",
    "print(\"Best Parameters: \", best_params)\n",
    "\n",
    "# Predict using the best estimator\n",
    "y_pred_cad = best_clf.predict(test_df[test_df.columns])"
   ],
   "metadata": {
    "collapsed": false,
    "ExecuteTime": {
     "end_time": "2023-10-29T20:55:48.410303946Z",
     "start_time": "2023-10-29T20:52:06.101087142Z"
    }
   },
   "id": "5e5f1b98acc29191"
  },
  {
   "cell_type": "markdown",
   "source": [
    "# TPE - cad"
   ],
   "metadata": {
    "collapsed": false
   },
   "id": "d93ee79d5d69417e"
  },
  {
   "cell_type": "code",
   "execution_count": 16,
   "outputs": [],
   "source": [
    "import optuna\n",
    "import xgboost as xgb\n",
    "from sklearn.model_selection import train_test_split\n",
    "from sklearn.metrics import mean_squared_error\n",
    "\n",
    "def objective(trial):\n",
    "    # Define the hyperparameter search space\n",
    "    params = {\n",
    "        'n_estimators': trial.suggest_int('n_estimators', 100, 1000),\n",
    "        'max_depth': trial.suggest_int('max_depth', 3, 10),\n",
    "        'learning_rate': trial.suggest_loguniform('learning_rate', 0.001, 0.1),\n",
    "        'subsample': trial.suggest_uniform('subsample', 0.6, 1.0),\n",
    "        'colsample_bytree': trial.suggest_uniform('colsample_bytree', 0.6, 1.0),\n",
    "    }\n",
    "\n",
    "    # Create an XGBoostRegressor with the current hyperparameters\n",
    "    xgb_reg = XGBRegressor(**params, random_state=42)\n",
    "\n",
    "    # Fit the model on the training data\n",
    "    xgb_reg.fit(X_train, y_train)\n",
    "\n",
    "    # Make predictions on the validation set\n",
    "    y_pred = xgb_reg.predict(X_valid)\n",
    "\n",
    "    # Calculate the mean squared error (you can use other metrics as well)\n",
    "    mse = mean_squared_error(y_valid, y_pred)\n",
    "\n",
    "    return mse"
   ],
   "metadata": {
    "collapsed": false,
    "ExecuteTime": {
     "end_time": "2023-10-22T18:58:12.802686490Z",
     "start_time": "2023-10-22T18:58:12.775008065Z"
    }
   },
   "id": "5dd1cbfa007bef77"
  },
  {
   "cell_type": "code",
   "execution_count": 17,
   "outputs": [
    {
     "name": "stderr",
     "output_type": "stream",
     "text": [
      "[I 2023-10-22 20:58:15,190] A new study created in memory with name: no-name-2c7c10d7-9943-4db7-885d-81b3987c6a72\n",
      "[I 2023-10-22 21:02:57,430] Trial 0 finished with value: 0.1966899770924631 and parameters: {'n_estimators': 786, 'max_depth': 9, 'learning_rate': 0.0037793030819395857, 'subsample': 0.6617899553347325, 'colsample_bytree': 0.9997721073176253}. Best is trial 0 with value: 0.1966899770924631.\n"
     ]
    },
    {
     "name": "stdout",
     "output_type": "stream",
     "text": [
      "Best Hyperparameters: {'n_estimators': 786, 'max_depth': 9, 'learning_rate': 0.0037793030819395857, 'subsample': 0.6617899553347325, 'colsample_bytree': 0.9997721073176253}\n",
      "Best Mean Squared Error: 0.1966899770924631\n"
     ]
    }
   ],
   "source": [
    "# cad\n",
    "X = train_df\n",
    "y = cad_train\n",
    "\n",
    "# Split the data into training and validation sets\n",
    "X_train, X_valid, y_train, y_valid = train_test_split(X, y, test_size=0.2, random_state=42)\n",
    "\n",
    "# Create a study object and optimize the objective function using TPE\n",
    "study = optuna.create_study(direction='minimize')\n",
    "study.optimize(objective, n_trials=1)  # You can adjust the number of trials\n",
    "\n",
    "# Print the best hyperparameters and best objective value\n",
    "best_params = study.best_params\n",
    "best_mse = study.best_value\n",
    "\n",
    "print(f\"Best Hyperparameters: {best_params}\")\n",
    "print(f\"Best Mean Squared Error: {best_mse}\")\n",
    "\n",
    "train_df['cadence'] = cad_train\n",
    "test_df= preprocess.calc_windows(df=test_df,\n",
    "          lagged=15,\n",
    "          cols=[\"cadence\"])\n",
    "test_df = preprocess.calc_moving(df=test_df, max_range=110, col=\"cadence\")"
   ],
   "metadata": {
    "collapsed": false,
    "ExecuteTime": {
     "end_time": "2023-10-22T19:02:57.600606530Z",
     "start_time": "2023-10-22T18:58:13.898169207Z"
    }
   },
   "id": "462a5562e405bf0b"
  },
  {
   "cell_type": "code",
   "execution_count": 18,
   "outputs": [
    {
     "name": "stderr",
     "output_type": "stream",
     "text": [
      "[I 2023-10-22 21:02:59,457] A new study created in memory with name: no-name-2733d086-273a-4fa1-acde-9e9cf39e88d6\n",
      "[I 2023-10-22 21:06:39,814] Trial 0 finished with value: 22.056738793793166 and parameters: {'n_estimators': 933, 'max_depth': 5, 'learning_rate': 0.0014819093630162221, 'subsample': 0.9916603544787748, 'colsample_bytree': 0.6536177660141926}. Best is trial 0 with value: 22.056738793793166.\n"
     ]
    },
    {
     "name": "stdout",
     "output_type": "stream",
     "text": [
      "Best Hyperparameters: {'n_estimators': 933, 'max_depth': 5, 'learning_rate': 0.0014819093630162221, 'subsample': 0.9916603544787748, 'colsample_bytree': 0.6536177660141926}\n",
      "Best Mean Squared Error: 22.056738793793166\n"
     ]
    }
   ],
   "source": [
    "# HR\n",
    "X = train_df\n",
    "y = heart_train\n",
    "\n",
    "# Split the data into training and validation sets\n",
    "X_train, X_valid, y_train, y_valid = train_test_split(X, y, test_size=0.2, random_state=42)\n",
    "\n",
    "# Create a study object and optimize the objective function using TPE\n",
    "study = optuna.create_study(direction='minimize')\n",
    "study.optimize(objective, n_trials=1)  # You can adjust the number of trials\n",
    "\n",
    "# Print the best hyperparameters and best objective value\n",
    "best_params = study.best_params\n",
    "best_mse = study.best_value\n",
    "\n",
    "print(f\"Best Hyperparameters: {best_params}\")\n",
    "print(f\"Best Mean Squared Error: {best_mse}\")\n",
    "train_df['heart_rate'] = cad_train\n",
    "test_df= preprocess.calc_windows(df=test_df,\n",
    "          lagged=15,\n",
    "          cols=[\"heart_rate\"])\n",
    "test_df = preprocess.calc_moving(df=test_df, max_range=110, col=\"heart_rate\")"
   ],
   "metadata": {
    "collapsed": false,
    "ExecuteTime": {
     "end_time": "2023-10-22T19:06:40.000044060Z",
     "start_time": "2023-10-22T19:02:57.603629387Z"
    }
   },
   "id": "9deb5156a27ea013"
  },
  {
   "cell_type": "code",
   "execution_count": 19,
   "outputs": [
    {
     "name": "stderr",
     "output_type": "stream",
     "text": [
      "[I 2023-10-22 21:06:42,514] A new study created in memory with name: no-name-a68bdb9f-0506-43a2-8f6e-2ea59ba23851\n",
      "[I 2023-10-22 21:07:43,037] Trial 0 finished with value: 3.220358235676995 and parameters: {'n_estimators': 437, 'max_depth': 3, 'learning_rate': 0.0014680073509838298, 'subsample': 0.8208225253868622, 'colsample_bytree': 0.758230896331077}. Best is trial 0 with value: 3.220358235676995.\n"
     ]
    },
    {
     "name": "stdout",
     "output_type": "stream",
     "text": [
      "Best Hyperparameters: {'n_estimators': 437, 'max_depth': 3, 'learning_rate': 0.0014680073509838298, 'subsample': 0.8208225253868622, 'colsample_bytree': 0.758230896331077}\n",
      "Best Mean Squared Error: 3.220358235676995\n"
     ]
    }
   ],
   "source": [
    "# speed\n",
    "X = train_df\n",
    "y = speed_train\n",
    "\n",
    "# Split the data into training and validation sets\n",
    "X_train, X_valid, y_train, y_valid = train_test_split(X, y, test_size=0.2, random_state=42)\n",
    "\n",
    "# Create a study object and optimize the objective function using TPE\n",
    "study = optuna.create_study(direction='minimize')\n",
    "study.optimize(objective, n_trials=1)  # You can adjust the number of trials\n",
    "\n",
    "# Print the best hyperparameters and best objective value\n",
    "best_params = study.best_params\n",
    "best_mse = study.best_value\n",
    "\n",
    "print(f\"Best Hyperparameters: {best_params}\")\n",
    "print(f\"Best Mean Squared Error: {best_mse}\")\n"
   ],
   "metadata": {
    "collapsed": false,
    "ExecuteTime": {
     "end_time": "2023-10-22T19:07:43.060740781Z",
     "start_time": "2023-10-22T19:06:40.005097004Z"
    }
   },
   "id": "6fb7d7b1cfe6491f"
  },
  {
   "cell_type": "markdown",
   "source": [
    "# Random search"
   ],
   "metadata": {
    "collapsed": false
   },
   "id": "8707343e586871e8"
  },
  {
   "cell_type": "code",
   "execution_count": 21,
   "outputs": [
    {
     "name": "stdout",
     "output_type": "stream",
     "text": [
      "Best Hyperparameters:  {'colsample_bytree': 0.7933755828319241, 'gamma': 0.965255307264138, 'learning_rate': 0.1921102743060054, 'max_depth': 9, 'min_child_weight': 1, 'n_estimators': 138, 'subsample': 0.9934434683002586}\n",
      "Mean Squared Error with Best Hyperparameters:  0.29000487587217594\n"
     ]
    }
   ],
   "source": [
    "import xgboost as xgb\n",
    "from sklearn.model_selection import RandomizedSearchCV\n",
    "from scipy.stats import uniform, randint\n",
    "\n",
    "# Load your training data (X_train, y_train) and test data (X_test, y_test) here\n",
    "\n",
    "# Define the XGBoostRegressor model\n",
    "xgb_regressor = xgb.XGBRegressor()\n",
    "  \n",
    "# Define the hyperparameters and their ranges\n",
    "param_dist = {\n",
    "    'learning_rate': uniform(0.001, 0.1),  # Continuous uniform distribution between 0.01 and 0.3\n",
    "    'n_estimators': randint(10, 1000),  # Discrete uniform distribution between 50 and 200\n",
    "    'max_depth': randint(3, 10),  # Discrete uniform distribution between 1 and 10\n",
    "    'subsample': uniform(0.6, 1.0),  # Continuous uniform distribution between 0.5 and 1\n",
    "    'colsample_bytree': uniform(0.6, 1.0),  # Continuous uniform distribution between 0.5 and 1\n",
    "}\n",
    "\n",
    "# Perform RandomizedSearchCV with 5-fold cross-validation\n",
    "random_search = RandomizedSearchCV(\n",
    "    estimator=xgb_regressor,\n",
    "    param_distributions=param_dist,\n",
    "    n_iter=10,  # Number of parameter settings that are sampled\n",
    "    cv=5,  # 5-fold cross-validation\n",
    "    n_jobs=-1,  # Use all available CPUs\n",
    "    random_state=42\n",
    ")\n",
    "\n",
    "# Fit the random search to the training data\n",
    "random_search.fit(X_train, y_train)\n",
    "\n",
    "# Print the best hyperparameters found by RandomizedSearchCV\n",
    "print(\"Best Hyperparameters: \", random_search.best_params_)\n",
    "\n",
    "# Evaluate the model with the best hyperparameters on the test data\n",
    "best_xgb_regressor = random_search.best_estimator_\n",
    "mse = mean_squared_error(y_valid, best_xgb_regressor.predict(X_valid))\n",
    "print(\"Mean Squared Error with Best Hyperparameters: \", mse)\n"
   ],
   "metadata": {
    "collapsed": false,
    "ExecuteTime": {
     "end_time": "2023-10-22T19:27:36.655760721Z",
     "start_time": "2023-10-22T19:14:36.314450859Z"
    }
   },
   "id": "86ba4190ae2d4ef0"
  },
  {
   "cell_type": "code",
   "execution_count": 24,
   "outputs": [
    {
     "name": "stdout",
     "output_type": "stream",
     "text": [
      "100%|██████████| 10/10 [07:07<00:00, 42.79s/trial, best loss: 1.2913439365000634]\n",
      "Best Hyperparameters:  {'gamma': 0.0735050709385231, 'learning_rate': 0.024401343807493238, 'max_depth': 6.0, 'n_estimators': 186.0, 'subsample': 0.8335996774702147}\n"
     ]
    },
    {
     "data": {
      "text/plain": "XGBRegressor(base_score=None, booster=None, callbacks=None,\n             colsample_bylevel=None, colsample_bynode=None,\n             colsample_bytree=None, device=None, early_stopping_rounds=None,\n             enable_categorical=False, eval_metric=None, feature_types=None,\n             gamma=0.0735050709385231, grow_policy=None, importance_type=None,\n             interaction_constraints=None, learning_rate=0.024401343807493238,\n             max_bin=None, max_cat_threshold=None, max_cat_to_onehot=None,\n             max_delta_step=None, max_depth=6, max_leaves=None,\n             min_child_weight=None, missing=nan, monotone_constraints=None,\n             multi_strategy=None, n_estimators=186, n_jobs=None,\n             num_parallel_tree=None, random_state=None, ...)",
      "text/html": "<style>#sk-container-id-1 {color: black;}#sk-container-id-1 pre{padding: 0;}#sk-container-id-1 div.sk-toggleable {background-color: white;}#sk-container-id-1 label.sk-toggleable__label {cursor: pointer;display: block;width: 100%;margin-bottom: 0;padding: 0.3em;box-sizing: border-box;text-align: center;}#sk-container-id-1 label.sk-toggleable__label-arrow:before {content: \"▸\";float: left;margin-right: 0.25em;color: #696969;}#sk-container-id-1 label.sk-toggleable__label-arrow:hover:before {color: black;}#sk-container-id-1 div.sk-estimator:hover label.sk-toggleable__label-arrow:before {color: black;}#sk-container-id-1 div.sk-toggleable__content {max-height: 0;max-width: 0;overflow: hidden;text-align: left;background-color: #f0f8ff;}#sk-container-id-1 div.sk-toggleable__content pre {margin: 0.2em;color: black;border-radius: 0.25em;background-color: #f0f8ff;}#sk-container-id-1 input.sk-toggleable__control:checked~div.sk-toggleable__content {max-height: 200px;max-width: 100%;overflow: auto;}#sk-container-id-1 input.sk-toggleable__control:checked~label.sk-toggleable__label-arrow:before {content: \"▾\";}#sk-container-id-1 div.sk-estimator input.sk-toggleable__control:checked~label.sk-toggleable__label {background-color: #d4ebff;}#sk-container-id-1 div.sk-label input.sk-toggleable__control:checked~label.sk-toggleable__label {background-color: #d4ebff;}#sk-container-id-1 input.sk-hidden--visually {border: 0;clip: rect(1px 1px 1px 1px);clip: rect(1px, 1px, 1px, 1px);height: 1px;margin: -1px;overflow: hidden;padding: 0;position: absolute;width: 1px;}#sk-container-id-1 div.sk-estimator {font-family: monospace;background-color: #f0f8ff;border: 1px dotted black;border-radius: 0.25em;box-sizing: border-box;margin-bottom: 0.5em;}#sk-container-id-1 div.sk-estimator:hover {background-color: #d4ebff;}#sk-container-id-1 div.sk-parallel-item::after {content: \"\";width: 100%;border-bottom: 1px solid gray;flex-grow: 1;}#sk-container-id-1 div.sk-label:hover label.sk-toggleable__label {background-color: #d4ebff;}#sk-container-id-1 div.sk-serial::before {content: \"\";position: absolute;border-left: 1px solid gray;box-sizing: border-box;top: 0;bottom: 0;left: 50%;z-index: 0;}#sk-container-id-1 div.sk-serial {display: flex;flex-direction: column;align-items: center;background-color: white;padding-right: 0.2em;padding-left: 0.2em;position: relative;}#sk-container-id-1 div.sk-item {position: relative;z-index: 1;}#sk-container-id-1 div.sk-parallel {display: flex;align-items: stretch;justify-content: center;background-color: white;position: relative;}#sk-container-id-1 div.sk-item::before, #sk-container-id-1 div.sk-parallel-item::before {content: \"\";position: absolute;border-left: 1px solid gray;box-sizing: border-box;top: 0;bottom: 0;left: 50%;z-index: -1;}#sk-container-id-1 div.sk-parallel-item {display: flex;flex-direction: column;z-index: 1;position: relative;background-color: white;}#sk-container-id-1 div.sk-parallel-item:first-child::after {align-self: flex-end;width: 50%;}#sk-container-id-1 div.sk-parallel-item:last-child::after {align-self: flex-start;width: 50%;}#sk-container-id-1 div.sk-parallel-item:only-child::after {width: 0;}#sk-container-id-1 div.sk-dashed-wrapped {border: 1px dashed gray;margin: 0 0.4em 0.5em 0.4em;box-sizing: border-box;padding-bottom: 0.4em;background-color: white;}#sk-container-id-1 div.sk-label label {font-family: monospace;font-weight: bold;display: inline-block;line-height: 1.2em;}#sk-container-id-1 div.sk-label-container {text-align: center;}#sk-container-id-1 div.sk-container {/* jupyter's `normalize.less` sets `[hidden] { display: none; }` but bootstrap.min.css set `[hidden] { display: none !important; }` so we also need the `!important` here to be able to override the default hidden behavior on the sphinx rendered scikit-learn.org. See: https://github.com/scikit-learn/scikit-learn/issues/21755 */display: inline-block !important;position: relative;}#sk-container-id-1 div.sk-text-repr-fallback {display: none;}</style><div id=\"sk-container-id-1\" class=\"sk-top-container\"><div class=\"sk-text-repr-fallback\"><pre>XGBRegressor(base_score=None, booster=None, callbacks=None,\n             colsample_bylevel=None, colsample_bynode=None,\n             colsample_bytree=None, device=None, early_stopping_rounds=None,\n             enable_categorical=False, eval_metric=None, feature_types=None,\n             gamma=0.0735050709385231, grow_policy=None, importance_type=None,\n             interaction_constraints=None, learning_rate=0.024401343807493238,\n             max_bin=None, max_cat_threshold=None, max_cat_to_onehot=None,\n             max_delta_step=None, max_depth=6, max_leaves=None,\n             min_child_weight=None, missing=nan, monotone_constraints=None,\n             multi_strategy=None, n_estimators=186, n_jobs=None,\n             num_parallel_tree=None, random_state=None, ...)</pre><b>In a Jupyter environment, please rerun this cell to show the HTML representation or trust the notebook. <br />On GitHub, the HTML representation is unable to render, please try loading this page with nbviewer.org.</b></div><div class=\"sk-container\" hidden><div class=\"sk-item\"><div class=\"sk-estimator sk-toggleable\"><input class=\"sk-toggleable__control sk-hidden--visually\" id=\"sk-estimator-id-1\" type=\"checkbox\" checked><label for=\"sk-estimator-id-1\" class=\"sk-toggleable__label sk-toggleable__label-arrow\">XGBRegressor</label><div class=\"sk-toggleable__content\"><pre>XGBRegressor(base_score=None, booster=None, callbacks=None,\n             colsample_bylevel=None, colsample_bynode=None,\n             colsample_bytree=None, device=None, early_stopping_rounds=None,\n             enable_categorical=False, eval_metric=None, feature_types=None,\n             gamma=0.0735050709385231, grow_policy=None, importance_type=None,\n             interaction_constraints=None, learning_rate=0.024401343807493238,\n             max_bin=None, max_cat_threshold=None, max_cat_to_onehot=None,\n             max_delta_step=None, max_depth=6, max_leaves=None,\n             min_child_weight=None, missing=nan, monotone_constraints=None,\n             multi_strategy=None, n_estimators=186, n_jobs=None,\n             num_parallel_tree=None, random_state=None, ...)</pre></div></div></div></div></div>"
     },
     "execution_count": 24,
     "metadata": {},
     "output_type": "execute_result"
    }
   ],
   "source": [
    "import xgboost as xgb\n",
    "from hyperopt import fmin, tpe, hp\n",
    "from sklearn.model_selection import cross_val_score\n",
    "from sklearn.metrics import mean_squared_error\n",
    "import numpy as np\n",
    "\n",
    "# Load your features (X) and target variable (y) here\n",
    "# X, y = ...\n",
    "\n",
    "# Define the objective function to minimize (mean squared error)\n",
    "def objective(params):\n",
    "    # Convert float hyperparameters to integer where necessary\n",
    "    params['max_depth'] = int(params['max_depth'])\n",
    "    params['n_estimators'] = int(params['n_estimators'])\n",
    "    \n",
    "    # Create XGBRegressor with given hyperparameters\n",
    "    xgboost_regressor = xgb.XGBRegressor(**params)\n",
    "    \n",
    "    # Use cross-validation to estimate performance\n",
    "    mse = -np.mean(cross_val_score(xgboost_regressor, X, y, cv=2, scoring='neg_mean_squared_error'))\n",
    "    return mse\n",
    "\n",
    "# Define the hyperparameter search space\n",
    "space = {\n",
    "    'n_estimators': hp.quniform('n_estimators', 50, 200, 1),  # Discrete uniform distribution\n",
    "    'max_depth': hp.quniform('max_depth', 3, 10, 1),            # Discrete uniform distribution\n",
    "    'learning_rate': hp.loguniform('learning_rate', -5, 0),      # Log uniform distribution\n",
    "    'subsample': hp.uniform('subsample', 0.1, 1),                # Uniform distribution\n",
    "    'gamma': hp.uniform('gamma', 0, 1)                           # Uniform distribution\n",
    "}\n",
    "\n",
    "# Perform Bayesian Optimization\n",
    "best = fmin(fn=objective,\n",
    "            space=space,\n",
    "            algo=tpe.suggest,\n",
    "            max_evals=10)  # Number of evaluations\n",
    "\n",
    "# Print the best hyperparameters found by Bayesian Optimization\n",
    "print(\"Best Hyperparameters: \", best)\n",
    "\n",
    "# Train the final XGBRegressor with the best hyperparameters\n",
    "best_xgboost_regressor = xgb.XGBRegressor(n_estimators=int(best['n_estimators']),\n",
    "                                          max_depth=int(best['max_depth']),\n",
    "                                          learning_rate=best['learning_rate'],\n",
    "                                          subsample=best['subsample'],\n",
    "                                          gamma=best['gamma'])\n",
    "\n",
    "best_xgboost_regressor.fit(X, y)\n",
    "\n",
    "# Now you can use this best_xgboost_regressor for predictions.\n"
   ],
   "metadata": {
    "collapsed": false,
    "ExecuteTime": {
     "end_time": "2023-10-22T20:37:46.159828703Z",
     "start_time": "2023-10-22T20:30:02.750179225Z"
    }
   },
   "id": "5826e61133b29c01"
  },
  {
   "cell_type": "code",
   "execution_count": null,
   "outputs": [],
   "source": [],
   "metadata": {
    "collapsed": false
   },
   "id": "b59ccbf4aa719f5"
  }
 ],
 "metadata": {
  "kernelspec": {
   "display_name": "Python 3",
   "language": "python",
   "name": "python3"
  },
  "language_info": {
   "codemirror_mode": {
    "name": "ipython",
    "version": 2
   },
   "file_extension": ".py",
   "mimetype": "text/x-python",
   "name": "python",
   "nbconvert_exporter": "python",
   "pygments_lexer": "ipython2",
   "version": "2.7.6"
  }
 },
 "nbformat": 4,
 "nbformat_minor": 5
}
