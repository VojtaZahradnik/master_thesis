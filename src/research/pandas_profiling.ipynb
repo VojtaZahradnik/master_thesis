{
 "cells": [
  {
   "cell_type": "code",
   "execution_count": 5,
   "outputs": [],
   "source": [
    "from src.modules import conf, fit, raw_data, preprocess, df_columns\n",
    "import pandas as pd\n",
    "import numpy as np\n",
    "from pandas_profiling import ProfileReport"
   ],
   "metadata": {
    "collapsed": false
   }
  },
  {
   "cell_type": "code",
   "execution_count": 2,
   "outputs": [],
   "source": [
    "%load_ext autoreload\n",
    "%autoreload 2"
   ],
   "metadata": {
    "collapsed": false
   }
  },
  {
   "cell_type": "code",
   "execution_count": 23,
   "outputs": [
    {
     "name": "stderr",
     "output_type": "stream",
     "text": [
      "100%|██████████| 361/361 [00:00<00:00, 2798.17it/s]\n"
     ]
    }
   ],
   "source": [
    "data = fit.load_pcls(\n",
    "        'zahradnik',\n",
    "        'running',\n",
    "        conf[\"Paths\"][\"pcl\"],\n",
    "    )\n",
    "data = pd.concat(data)"
   ],
   "metadata": {
    "collapsed": false
   }
  },
  {
   "cell_type": "code",
   "execution_count": 25,
   "outputs": [
    {
     "data": {
      "text/plain": "                     heart_rate  enhanced_speed  distance  enhanced_altitude  \\\ntimestamp                                                                      \n2021-11-22 08:05:16        85.0          6.5160      2.00              249.4   \n2021-11-22 08:05:22        87.0         11.1528     23.28              249.4   \n2021-11-22 08:05:26        90.0         14.6448     39.91              249.4   \n2021-11-22 08:05:29        93.0         14.1084     52.04              249.0   \n2021-11-22 08:05:30        96.0         13.1328     56.29              249.2   \n...                         ...             ...       ...                ...   \n2022-11-01 07:29:50       161.0         14.5800  11184.18              245.2   \n2022-11-01 07:29:51       160.0         14.5440  11188.23              245.4   \n2022-11-01 07:29:52       161.0         14.6124  11192.28              245.4   \n2022-11-01 07:29:53       162.0         14.6448  11196.35              245.8   \n2022-11-01 07:29:54       161.0         14.3784  11200.34              246.0   \n\n                     cadence  temp  wind_speed  wind_direct  rain  \\\ntimestamp                                                           \n2021-11-22 08:05:16     56.0   5.3         8.7        320.0   0.5   \n2021-11-22 08:05:22     86.0   5.3         8.7        320.0   0.5   \n2021-11-22 08:05:26     86.0   5.3         8.7        320.0   0.5   \n2021-11-22 08:05:29     86.0   5.3         8.7        320.0   0.5   \n2021-11-22 08:05:30     85.0   5.3         8.7        320.0   0.5   \n...                      ...   ...         ...          ...   ...   \n2022-11-01 07:29:50     90.0  12.6         4.8        307.0   1.4   \n2022-11-01 07:29:51     90.0  12.6         4.8        307.0   1.4   \n2022-11-01 07:29:52     91.0  12.6         4.8        307.0   1.4   \n2022-11-01 07:29:53     90.0  12.6         4.8        307.0   1.4   \n2022-11-01 07:29:54     89.0  12.6         4.8        307.0   1.4   \n\n                     slope_steep  slope_ascent  slope_descent  \ntimestamp                                                      \n2021-11-22 08:05:16     0.000000           0.0            0.0  \n2021-11-22 08:05:22     0.000000           0.0            0.0  \n2021-11-22 08:05:26     0.000000           0.0            0.0  \n2021-11-22 08:05:29     3.297609           0.0            0.4  \n2021-11-22 08:05:30     4.705882           0.2            0.0  \n...                          ...           ...            ...  \n2022-11-01 07:29:50     4.950495           0.2            0.0  \n2022-11-01 07:29:51     4.938272           0.2            0.0  \n2022-11-01 07:29:52     0.000000           0.0            0.0  \n2022-11-01 07:29:53     9.828010           0.4            0.0  \n2022-11-01 07:29:54     5.012531           0.2            0.0  \n\n[725607 rows x 12 columns]",
      "text/html": "<div>\n<style scoped>\n    .dataframe tbody tr th:only-of-type {\n        vertical-align: middle;\n    }\n\n    .dataframe tbody tr th {\n        vertical-align: top;\n    }\n\n    .dataframe thead th {\n        text-align: right;\n    }\n</style>\n<table border=\"1\" class=\"dataframe\">\n  <thead>\n    <tr style=\"text-align: right;\">\n      <th></th>\n      <th>heart_rate</th>\n      <th>enhanced_speed</th>\n      <th>distance</th>\n      <th>enhanced_altitude</th>\n      <th>cadence</th>\n      <th>temp</th>\n      <th>wind_speed</th>\n      <th>wind_direct</th>\n      <th>rain</th>\n      <th>slope_steep</th>\n      <th>slope_ascent</th>\n      <th>slope_descent</th>\n    </tr>\n    <tr>\n      <th>timestamp</th>\n      <th></th>\n      <th></th>\n      <th></th>\n      <th></th>\n      <th></th>\n      <th></th>\n      <th></th>\n      <th></th>\n      <th></th>\n      <th></th>\n      <th></th>\n      <th></th>\n    </tr>\n  </thead>\n  <tbody>\n    <tr>\n      <th>2021-11-22 08:05:16</th>\n      <td>85.0</td>\n      <td>6.5160</td>\n      <td>2.00</td>\n      <td>249.4</td>\n      <td>56.0</td>\n      <td>5.3</td>\n      <td>8.7</td>\n      <td>320.0</td>\n      <td>0.5</td>\n      <td>0.000000</td>\n      <td>0.0</td>\n      <td>0.0</td>\n    </tr>\n    <tr>\n      <th>2021-11-22 08:05:22</th>\n      <td>87.0</td>\n      <td>11.1528</td>\n      <td>23.28</td>\n      <td>249.4</td>\n      <td>86.0</td>\n      <td>5.3</td>\n      <td>8.7</td>\n      <td>320.0</td>\n      <td>0.5</td>\n      <td>0.000000</td>\n      <td>0.0</td>\n      <td>0.0</td>\n    </tr>\n    <tr>\n      <th>2021-11-22 08:05:26</th>\n      <td>90.0</td>\n      <td>14.6448</td>\n      <td>39.91</td>\n      <td>249.4</td>\n      <td>86.0</td>\n      <td>5.3</td>\n      <td>8.7</td>\n      <td>320.0</td>\n      <td>0.5</td>\n      <td>0.000000</td>\n      <td>0.0</td>\n      <td>0.0</td>\n    </tr>\n    <tr>\n      <th>2021-11-22 08:05:29</th>\n      <td>93.0</td>\n      <td>14.1084</td>\n      <td>52.04</td>\n      <td>249.0</td>\n      <td>86.0</td>\n      <td>5.3</td>\n      <td>8.7</td>\n      <td>320.0</td>\n      <td>0.5</td>\n      <td>3.297609</td>\n      <td>0.0</td>\n      <td>0.4</td>\n    </tr>\n    <tr>\n      <th>2021-11-22 08:05:30</th>\n      <td>96.0</td>\n      <td>13.1328</td>\n      <td>56.29</td>\n      <td>249.2</td>\n      <td>85.0</td>\n      <td>5.3</td>\n      <td>8.7</td>\n      <td>320.0</td>\n      <td>0.5</td>\n      <td>4.705882</td>\n      <td>0.2</td>\n      <td>0.0</td>\n    </tr>\n    <tr>\n      <th>...</th>\n      <td>...</td>\n      <td>...</td>\n      <td>...</td>\n      <td>...</td>\n      <td>...</td>\n      <td>...</td>\n      <td>...</td>\n      <td>...</td>\n      <td>...</td>\n      <td>...</td>\n      <td>...</td>\n      <td>...</td>\n    </tr>\n    <tr>\n      <th>2022-11-01 07:29:50</th>\n      <td>161.0</td>\n      <td>14.5800</td>\n      <td>11184.18</td>\n      <td>245.2</td>\n      <td>90.0</td>\n      <td>12.6</td>\n      <td>4.8</td>\n      <td>307.0</td>\n      <td>1.4</td>\n      <td>4.950495</td>\n      <td>0.2</td>\n      <td>0.0</td>\n    </tr>\n    <tr>\n      <th>2022-11-01 07:29:51</th>\n      <td>160.0</td>\n      <td>14.5440</td>\n      <td>11188.23</td>\n      <td>245.4</td>\n      <td>90.0</td>\n      <td>12.6</td>\n      <td>4.8</td>\n      <td>307.0</td>\n      <td>1.4</td>\n      <td>4.938272</td>\n      <td>0.2</td>\n      <td>0.0</td>\n    </tr>\n    <tr>\n      <th>2022-11-01 07:29:52</th>\n      <td>161.0</td>\n      <td>14.6124</td>\n      <td>11192.28</td>\n      <td>245.4</td>\n      <td>91.0</td>\n      <td>12.6</td>\n      <td>4.8</td>\n      <td>307.0</td>\n      <td>1.4</td>\n      <td>0.000000</td>\n      <td>0.0</td>\n      <td>0.0</td>\n    </tr>\n    <tr>\n      <th>2022-11-01 07:29:53</th>\n      <td>162.0</td>\n      <td>14.6448</td>\n      <td>11196.35</td>\n      <td>245.8</td>\n      <td>90.0</td>\n      <td>12.6</td>\n      <td>4.8</td>\n      <td>307.0</td>\n      <td>1.4</td>\n      <td>9.828010</td>\n      <td>0.4</td>\n      <td>0.0</td>\n    </tr>\n    <tr>\n      <th>2022-11-01 07:29:54</th>\n      <td>161.0</td>\n      <td>14.3784</td>\n      <td>11200.34</td>\n      <td>246.0</td>\n      <td>89.0</td>\n      <td>12.6</td>\n      <td>4.8</td>\n      <td>307.0</td>\n      <td>1.4</td>\n      <td>5.012531</td>\n      <td>0.2</td>\n      <td>0.0</td>\n    </tr>\n  </tbody>\n</table>\n<p>725607 rows × 12 columns</p>\n</div>"
     },
     "execution_count": 25,
     "metadata": {},
     "output_type": "execute_result"
    }
   ],
   "source": [
    "data = data[df_columns]\n",
    "data"
   ],
   "metadata": {
    "collapsed": false
   }
  },
  {
   "cell_type": "code",
   "execution_count": 26,
   "outputs": [
    {
     "name": "stdout",
     "output_type": "stream",
     "text": [
      "0\n",
      "False\n",
      "False\n"
     ]
    }
   ],
   "source": [
    "data.replace([np.inf, -np.inf], np.nan, inplace=True)\n",
    "print(data.isna().sum().sum())\n",
    "data.dropna(inplace=True)\n",
    "print(data.isnull().values.any())\n",
    "print(data.isin([np.inf, -np.inf]).values.any())"
   ],
   "metadata": {
    "collapsed": false
   }
  },
  {
   "cell_type": "code",
   "execution_count": 27,
   "outputs": [],
   "source": [
    "profile = ProfileReport(data, title=\"Pandas Profiling Report\")"
   ],
   "metadata": {
    "collapsed": false
   }
  },
  {
   "cell_type": "code",
   "execution_count": null,
   "outputs": [],
   "source": [
    "profile.to_notebook_iframe()"
   ],
   "metadata": {
    "collapsed": false
   }
  },
  {
   "cell_type": "code",
   "execution_count": 30,
   "outputs": [
    {
     "data": {
      "text/plain": "Export report to file:   0%|          | 0/1 [00:00<?, ?it/s]",
      "application/vnd.jupyter.widget-view+json": {
       "version_major": 2,
       "version_minor": 0,
       "model_id": "91c5300f387a4746be1694b0e9b55bbd"
      }
     },
     "metadata": {},
     "output_type": "display_data"
    }
   ],
   "source": [
    "profile.to_file(\"pandas_profiling.html\")"
   ],
   "metadata": {
    "collapsed": false
   }
  }
 ],
 "metadata": {
  "kernelspec": {
   "display_name": "Python 3",
   "language": "python",
   "name": "python3"
  },
  "language_info": {
   "codemirror_mode": {
    "name": "ipython",
    "version": 2
   },
   "file_extension": ".py",
   "mimetype": "text/x-python",
   "name": "python",
   "nbconvert_exporter": "python",
   "pygments_lexer": "ipython2",
   "version": "2.7.6"
  }
 },
 "nbformat": 4,
 "nbformat_minor": 0
}
