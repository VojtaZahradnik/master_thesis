{
 "cells": [
  {
   "cell_type": "code",
   "execution_count": 18,
   "outputs": [],
   "source": [
    "import sys\n",
    "sys.path.insert(0, '/home/zahradnik/PycharmProjects/master_thesis')"
   ],
   "metadata": {
    "collapsed": false
   }
  },
  {
   "cell_type": "code",
   "execution_count": 19,
   "outputs": [],
   "source": [
    "from src.modules import conf, fit, df_columns, evl, preprocess\n",
    "import pandas as pd\n",
    "import warnings\n",
    "import matplotlib.pyplot as plt\n",
    "\n",
    "from sklearn.pipeline import Pipeline\n",
    "from sklearn.impute import SimpleImputer\n",
    "from sklearn.preprocessing import FunctionTransformer\n",
    "from scipy.ndimage import uniform_filter1d\n",
    "\n",
    "import numpy as np\n",
    "from feature_engine.datetime import DatetimeFeatures\n",
    "from feature_engine.timeseries.forecasting import WindowFeatures\n",
    "from sklearn.linear_model import Ridge, LinearRegression, RidgeCV,ElasticNetCV, LassoCV\n",
    "from tqdm import tqdm\n",
    "warnings.simplefilter(\"ignore\")"
   ],
   "metadata": {
    "collapsed": false
   }
  },
  {
   "cell_type": "code",
   "execution_count": 20,
   "outputs": [
    {
     "name": "stdout",
     "output_type": "stream",
     "text": [
      "The autoreload extension is already loaded. To reload it, use:\n",
      "  %reload_ext autoreload\n"
     ]
    }
   ],
   "source": [
    "%load_ext autoreload\n",
    "%autoreload 2"
   ],
   "metadata": {
    "collapsed": false
   }
  },
  {
   "cell_type": "code",
   "execution_count": 21,
   "outputs": [
    {
     "data": {
      "text/plain": "100.0"
     },
     "execution_count": 21,
     "metadata": {},
     "output_type": "execute_result"
    }
   ],
   "source": [
    "%matplotlib inline\n",
    "plt.rcParams['figure.figsize'] = [24, 8]\n",
    "plt.rcParams['figure.dpi']"
   ],
   "metadata": {
    "collapsed": false
   }
  },
  {
   "cell_type": "code",
   "execution_count": 195,
   "outputs": [
    {
     "name": "stderr",
     "output_type": "stream",
     "text": [
      "100%|██████████| 386/386 [00:00<00:00, 2264.53it/s]\n"
     ]
    }
   ],
   "source": [
    "data = fit.load_pcls(\n",
    "    athlete_name='zahradnik',\n",
    "    activity_type='running',\n",
    "    path_to_load=conf[\"Paths\"][\"pcl\"],\n",
    ")"
   ],
   "metadata": {
    "collapsed": false
   }
  },
  {
   "cell_type": "code",
   "execution_count": 196,
   "outputs": [],
   "source": [
    "# ZONES ADD\n",
    "for x in range(len(data)):\n",
    "    data[x] = data[x][df_columns]\n",
    "    mean_hr = np.mean(data[x].heart_rate)\n",
    "    if mean_hr < 140:\n",
    "        zone = 1\n",
    "    elif mean_hr > 140 and mean_hr < 156:\n",
    "        zone = 2\n",
    "    elif mean_hr > 156 and mean_hr < 166:\n",
    "        zone = 3\n",
    "    elif mean_hr > 166 and mean_hr < 175:\n",
    "        zone = 4\n",
    "    elif mean_hr > 175:\n",
    "        zone = 5\n",
    "    data[x]['hr_zone'] = zone"
   ],
   "metadata": {
    "collapsed": false
   }
  },
  {
   "cell_type": "code",
   "execution_count": 197,
   "outputs": [
    {
     "data": {
      "text/plain": "(149, 237)"
     },
     "execution_count": 197,
     "metadata": {},
     "output_type": "execute_result"
    }
   ],
   "source": [
    "low_dist = []\n",
    "high_dist = []\n",
    "for act in data:\n",
    "    if np.max(act.distance) > 10000:\n",
    "        high_dist.append(act)\n",
    "    else:\n",
    "        low_dist.append(act)\n",
    "len(low_dist),len(high_dist)"
   ],
   "metadata": {
    "collapsed": false
   }
  },
  {
   "cell_type": "code",
   "execution_count": 198,
   "outputs": [
    {
     "name": "stdout",
     "output_type": "stream",
     "text": [
      "224\n"
     ]
    },
    {
     "data": {
      "text/plain": "(701542, 1037)"
     },
     "execution_count": 198,
     "metadata": {},
     "output_type": "execute_result"
    }
   ],
   "source": [
    "# race_index = fit.get_race_index(high_dist, \"2022-10-02-10-30\") # HRADEC - 1:16 - 1:14\n",
    "# race_index = fit.get_race_index(low_dist, \"2022-11-13-10-59\") # VELKA KUNRATICKA 15:20 - 13:20\n",
    "# race_index = fit.get_race_index(high_dist, \"2022-10-08-11-18\") # BEROUNKA RUN 90:30 - 95:30\n",
    "race_index = fit.get_race_index(high_dist, \"2022-12-31-11-00\") # SILVESTRAK 18:20 - 17:20\n",
    "print(race_index)\n",
    "train_df = fit.clean_data(pd.concat(high_dist[0:race_index]))\n",
    "test_df = data[fit.get_race_index(data, \"2022-12-31-11-00\")]\n",
    "len(train_df),len(test_df)"
   ],
   "metadata": {
    "collapsed": false
   }
  },
  {
   "cell_type": "code",
   "execution_count": 199,
   "outputs": [],
   "source": [
    "def drop_features(df: pd.DataFrame, endog: str):\n",
    "\n",
    "    true_values = df[endog]\n",
    "    df.drop(endog,axis=1,inplace=True)\n",
    "    return df, true_values"
   ],
   "metadata": {
    "collapsed": false
   }
  },
  {
   "cell_type": "code",
   "execution_count": 200,
   "outputs": [],
   "source": [
    "train_df, speed_train = drop_features(train_df, \"enhanced_speed\")\n",
    "test_df, speed_test = drop_features(test_df, \"enhanced_speed\")\n",
    "\n",
    "train_df ,heart_train = drop_features(train_df, \"heart_rate\")\n",
    "test_df, heart_test = drop_features(test_df, \"heart_rate\")\n",
    "\n",
    "train_df ,cad_train = drop_features(train_df, \"cadence\")\n",
    "test_df, cad_test = drop_features(test_df, \"cadence\")"
   ],
   "metadata": {
    "collapsed": false
   }
  },
  {
   "cell_type": "code",
   "execution_count": 201,
   "outputs": [],
   "source": [
    "train_df['date'] = train_df.index\n",
    "test_df['date'] = test_df.index"
   ],
   "metadata": {
    "collapsed": false
   }
  },
  {
   "cell_type": "code",
   "execution_count": 202,
   "outputs": [],
   "source": [
    "proc_pipeline = Pipeline([\n",
    "    (\"dt_features\",\n",
    "     DatetimeFeatures(features_to_extract=['month','week','hour','minute','second']))\n",
    "])"
   ],
   "metadata": {
    "collapsed": false
   }
  },
  {
   "cell_type": "code",
   "execution_count": 203,
   "outputs": [],
   "source": [
    "lagged_cols = ['slope_steep','slope_ascent','slope_descent']\n",
    "lagged = 18\n",
    "for lag in range(1,lagged):\n",
    "    proc_pipeline.steps.append([f\"lag_feature_{lag}\",\n",
    "                           WindowFeatures(\n",
    "                           variables=lagged_cols,\n",
    "                           window=lag)])"
   ],
   "metadata": {
    "collapsed": false
   }
  },
  {
   "cell_type": "code",
   "execution_count": 282,
   "outputs": [],
   "source": [
    "pipelined_train_df = proc_pipeline.fit_transform(train_df)\n",
    "pipelined_test_df = proc_pipeline.fit_transform(test_df)"
   ],
   "metadata": {
    "collapsed": false
   }
  },
  {
   "cell_type": "code",
   "execution_count": 283,
   "outputs": [],
   "source": [
    "imputer = SimpleImputer(strategy=\"constant\",fill_value=0)\n",
    "\n",
    "pipelined_train_df = pd.DataFrame(imputer.fit_transform(pipelined_train_df),columns=pipelined_train_df.columns)\n",
    "pipelined_test_df = pd.DataFrame(imputer.fit_transform(pipelined_test_df),columns=pipelined_test_df.columns)"
   ],
   "metadata": {
    "collapsed": false
   }
  },
  {
   "cell_type": "code",
   "execution_count": 263,
   "outputs": [],
   "source": [
    "import itertools\n",
    "models = [\n",
    "    ['LassoCV', LassoCV],\n",
    "    ['RidgeCV', RidgeCV],\n",
    "    ['ElasticNetCV', ElasticNetCV]]\n",
    "\n",
    "\n",
    "pred_cols = [\n",
    "    ['cadence', cad_train, cad_test],\n",
    "    ['heart_rate', heart_train, heart_test],\n",
    "    ['enhanced_speed', speed_train, speed_test]]\n",
    "percent_delay = int(len(test_df) * 0.02)"
   ],
   "metadata": {
    "collapsed": false
   }
  },
  {
   "cell_type": "code",
   "execution_count": 264,
   "outputs": [],
   "source": [
    "def get_comb(comb: list, pred_cols: list):\n",
    "    return [sub[item] for item in range(len(pred_cols)) for sub in [comb, pred_cols]]"
   ],
   "metadata": {
    "collapsed": false
   }
  },
  {
   "cell_type": "code",
   "execution_count": 305,
   "outputs": [],
   "source": [
    "# heart_rate_window_17_mean_x\n",
    "def calc_lag(df: pd.DataFrame, col: list, lagged = 18):\n",
    "    for lag in range(1,lagged):\n",
    "        wft = WindowFeatures(variables=col,\n",
    "                         window=lag)\n",
    "        df = wft.fit_transform(df)\n",
    "    return df"
   ],
   "metadata": {
    "collapsed": false
   }
  },
  {
   "cell_type": "code",
   "execution_count": 266,
   "outputs": [],
   "source": [
    "def fillna_df(train: pd.DataFrame):\n",
    "    return pd.DataFrame(imputer.fit_transform(train),columns=train.columns)"
   ],
   "metadata": {
    "collapsed": false
   }
  },
  {
   "cell_type": "markdown",
   "source": [
    "# Cadence"
   ],
   "metadata": {
    "collapsed": false
   }
  },
  {
   "cell_type": "code",
   "execution_count": 267,
   "outputs": [
    {
     "data": {
      "text/plain": "[(6.880891292715592,), (1.7506372782594255,), (6.880742863450284,)]"
     },
     "execution_count": 267,
     "metadata": {},
     "output_type": "execute_result"
    }
   ],
   "source": [
    "rmse_cad = []\n",
    "pred_cad = []\n",
    "for model_name, model_type in models:\n",
    "    model = model_type()\n",
    "    model.fit(pipelined_train_df, cad_train)\n",
    "    y_pred = model.predict(pipelined_test_df)\n",
    "    rmse_cad.append(evl.rmse(actual=cad_test,predicted=y_pred))\n",
    "    pred_cad.append(y_pred)\n",
    "list(zip(rmse_cad))"
   ],
   "metadata": {
    "collapsed": false
   }
  },
  {
   "cell_type": "code",
   "execution_count": 284,
   "outputs": [],
   "source": [
    "pipelined_train_df['cadence'] = cad_train\n",
    "pipelined_train_df = fillna_df(pipelined_train_df)\n",
    "pipelined_train_df = calc_lag(pipelined_train_df, ['cadence'])\n",
    "pipelined_train_df = fillna_df(pipelined_train_df)"
   ],
   "metadata": {
    "collapsed": false
   }
  },
  {
   "cell_type": "markdown",
   "source": [
    "# Heart Rate"
   ],
   "metadata": {
    "collapsed": false
   }
  },
  {
   "cell_type": "code",
   "execution_count": 274,
   "outputs": [
    {
     "data": {
      "text/plain": "[42.22019426863714,\n 42.22019426863714,\n 42.22019426863714,\n 10.509164244160708,\n 10.509164244160708,\n 10.509164244160708,\n 42.22017617281818,\n 42.22017617281818,\n 42.22017617281818]"
     },
     "execution_count": 274,
     "metadata": {},
     "output_type": "execute_result"
    }
   ],
   "source": [
    "rmse_hr = []\n",
    "pred_hr = []\n",
    "#  pred_cad[rmse_cad.index(np.min(rmse))]\n",
    "for model_name, model_type in models:\n",
    "    for pred in pred_cad:\n",
    "\n",
    "        model_test_df = pipelined_test_df\n",
    "\n",
    "        model_test_df['cadence'] = pred\n",
    "        model_test_df = fillna_df(model_test_df)\n",
    "        model_test_df = calc_lag(model_test_df, ['cadence'])\n",
    "        model_test_df = fillna_df(model_test_df)\n",
    "\n",
    "        model = model_type()\n",
    "        model.fit(pipelined_train_df, heart_train)\n",
    "        y_pred = model.predict(model_test_df)\n",
    "        rmse_hr.append(evl.rmse(actual=heart_test,predicted=y_pred))\n",
    "        pred_hr.append(y_pred)\n",
    "list(rmse_hr)"
   ],
   "metadata": {
    "collapsed": false
   }
  },
  {
   "cell_type": "code",
   "execution_count": 285,
   "outputs": [],
   "source": [
    "pipelined_train_df['heart_rate'] = heart_train\n",
    "pipelined_train_df = fillna_df(pipelined_train_df)\n",
    "pipelined_train_df = calc_lag(pipelined_train_df, ['heart_rate'])\n",
    "pipelined_train_df = fillna_df(pipelined_train_df)\n",
    "for x in range(10,110,10):\n",
    "    pipelined_train_df[f'moved_heart_rate_{x}'] = uniform_filter1d(pipelined_train_df.heart_rate, size=x)"
   ],
   "metadata": {
    "collapsed": false
   }
  },
  {
   "cell_type": "code",
   "execution_count": 306,
   "outputs": [
    {
     "data": {
      "text/plain": "[123.99995967087614,\n 123.99995967087614,\n 123.99995967087614,\n 123.99995967087614,\n 123.99995967087614,\n 123.99995967087614,\n 123.99995967087614,\n 123.99995967087614,\n 123.99995967087614,\n 123.99995967087614,\n 123.99995967087614,\n 123.99995967087614,\n 123.99995967087614,\n 123.99995967087614,\n 123.99995967087614,\n 123.99995967087614,\n 123.99995967087614,\n 123.99995967087614,\n 123.99995967087614,\n 123.99995967087614,\n 123.99995967087614,\n 123.99995967087614,\n 123.99995967087614,\n 123.99995967087614,\n 123.99995967087614,\n 123.99995967087614,\n 123.99995967087614]"
     },
     "execution_count": 306,
     "metadata": {},
     "output_type": "execute_result"
    }
   ],
   "source": [
    "rmse_speed = []\n",
    "pred_speed = []\n",
    "\n",
    "for model_name, model_type in models:\n",
    "    for pred_c in pred_cad:\n",
    "\n",
    "        model_test_df = pipelined_test_df\n",
    "\n",
    "        model_test_df['cadence'] = pred_c\n",
    "        model_test_df = fillna_df(model_test_df)\n",
    "        model_test_df = calc_lag(model_test_df, ['cadence'])\n",
    "        model_test_df = fillna_df(model_test_df)\n",
    "\n",
    "        for pred in pred_hr:\n",
    "\n",
    "            model_test_df_hr = model_test_df\n",
    "\n",
    "            model_test_df_hr['heart_rate'] = pred\n",
    "            model_test_df_hr = fillna_df(model_test_df_hr)\n",
    "            model_test_df_hr = calc_lag(model_test_df_hr, ['heart_rate'])\n",
    "            model_test_df_hr = fillna_df(model_test_df_hr)\n",
    "\n",
    "            for x in range(10,110,10):\n",
    "                model_test_df_hr[f'moved_heart_rate_{x}'] = uniform_filter1d(model_test_df_hr.heart_rate, size=x)\n",
    "\n",
    "            model = model_type()\n",
    "            model.fit(pipelined_train_df, heart_train)\n",
    "            y_pred = model.predict(model_test_df_hr)\n",
    "            rmse_speed.append(evl.rmse(actual=speed_test,predicted=y_pred))\n",
    "            pred_speed.append(y_pred)\n",
    "    break\n",
    "list(rmse_speed)"
   ],
   "metadata": {
    "collapsed": false
   }
  },
  {
   "cell_type": "code",
   "execution_count": null,
   "outputs": [],
   "source": [
    "import math\n",
    "np.mean(speed_test),np.mean(pred_speed),max(test_df.distance)\n",
    "time = ((max(test_df.distance)/1000) / np.mean(pred_speed))*60\n",
    "minutes = math.floor(time)\n",
    "seconds = round((time-minutes)*60)\n",
    "f'Final time: {minutes}:{seconds}'"
   ],
   "metadata": {
    "collapsed": false
   }
  }
 ],
 "metadata": {
  "kernelspec": {
   "display_name": "Python 3",
   "language": "python",
   "name": "python3"
  },
  "language_info": {
   "codemirror_mode": {
    "name": "ipython",
    "version": 2
   },
   "file_extension": ".py",
   "mimetype": "text/x-python",
   "name": "python",
   "nbconvert_exporter": "python",
   "pygments_lexer": "ipython2",
   "version": "2.7.6"
  }
 },
 "nbformat": 4,
 "nbformat_minor": 0
}
