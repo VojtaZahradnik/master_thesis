{
 "cells": [
  {
   "cell_type": "code",
   "execution_count": 1,
   "metadata": {
    "pycharm": {
     "name": "#%%\n"
    }
   },
   "outputs": [],
   "source": [
    "import pandas as pd\n",
    "import numpy as np\n",
    "import os\n",
    "from pathlib import Path\n",
    "import sys\n",
    "from src.modules import conf, fit, spec"
   ]
  },
  {
   "cell_type": "code",
   "execution_count": 1,
   "metadata": {
    "pycharm": {
     "name": "#%%\n"
    }
   },
   "outputs": [],
   "source": [
    "%load_ext autoreload\n",
    "%autoreload 2"
   ]
  },
  {
   "cell_type": "code",
   "execution_count": 2,
   "outputs": [
    {
     "name": "stderr",
     "output_type": "stream",
     "text": [
      "100%|██████████| 957/957 [00:02<00:00, 437.80it/s]\n"
     ]
    }
   ],
   "source": [
    "data = fit.load_pcls(\n",
    "        conf[\"Athlete\"][\"name\"],\n",
    "        conf[\"Athlete\"][\"activity_type\"],\n",
    "        conf[\"Paths\"][\"pcl\"],\n",
    "    )"
   ],
   "metadata": {
    "collapsed": false,
    "pycharm": {
     "name": "#%%\n"
    }
   }
  },
  {
   "cell_type": "code",
   "execution_count": 5,
   "outputs": [],
   "source": [
    "from src.heuristics import random_shooting\n",
    "from src.heuristics import genetic_optimization"
   ],
   "metadata": {
    "collapsed": false,
    "pycharm": {
     "name": "#%%\n"
    }
   }
  },
  {
   "cell_type": "code",
   "execution_count": 15,
   "outputs": [],
   "source": [
    "r_cross = conf['GO']['r_cross']\n",
    "r_mut = conf['GO']['r_mut']"
   ],
   "metadata": {
    "collapsed": false,
    "pycharm": {
     "name": "#%%\n"
    }
   }
  },
  {
   "cell_type": "code",
   "execution_count": 3,
   "outputs": [],
   "source": [
    "train_df = fit.get_train_df(data)\n",
    "test_df = fit.get_test_df(data)"
   ],
   "metadata": {
    "collapsed": false,
    "pycharm": {
     "name": "#%%\n"
    }
   }
  },
  {
   "cell_type": "code",
   "execution_count": 7,
   "outputs": [],
   "source": [
    "full_columns = train_df.columns"
   ],
   "metadata": {
    "collapsed": false,
    "pycharm": {
     "name": "#%%\n"
    }
   }
  },
  {
   "cell_type": "code",
   "execution_count": 10,
   "outputs": [
    {
     "name": "stderr",
     "output_type": "stream",
     "text": [
      "100%|██████████| 5/5 [00:28<00:00,  5.72s/it]\n"
     ]
    }
   ],
   "source": [
    "_,_,rmse,cols = random_shooting.random_shoot(train_df=train_df,\n",
    "                          test_df=test_df,\n",
    "                          hmax=5,\n",
    "                          endog='enhanced_speed',\n",
    "                          )"
   ],
   "metadata": {
    "collapsed": false,
    "pycharm": {
     "name": "#%%\n"
    }
   }
  },
  {
   "cell_type": "code",
   "execution_count": 11,
   "outputs": [
    {
     "name": "stderr",
     "output_type": "stream",
     "text": [
      "  0%|          | 0/1 [00:32<?, ?it/s]"
     ]
    },
    {
     "name": "stdout",
     "output_type": "stream",
     "text": [
      "New best: 1.837819334568845\n"
     ]
    },
    {
     "name": "stderr",
     "output_type": "stream",
     "text": [
      "\n"
     ]
    },
    {
     "ename": "NameError",
     "evalue": "name 'selection' is not defined",
     "output_type": "error",
     "traceback": [
      "\u001B[1;31m---------------------------------------------------------------------------\u001B[0m",
      "\u001B[1;31mNameError\u001B[0m                                 Traceback (most recent call last)",
      "Cell \u001B[1;32mIn [11], line 1\u001B[0m\n\u001B[1;32m----> 1\u001B[0m genetic_optimization\u001B[38;5;241m.\u001B[39mgenetic_algorithm(\u001B[38;5;241m1\u001B[39m, conf[\u001B[38;5;124m'\u001B[39m\u001B[38;5;124mGO\u001B[39m\u001B[38;5;124m'\u001B[39m][\u001B[38;5;124m'\u001B[39m\u001B[38;5;124mr_cross\u001B[39m\u001B[38;5;124m'\u001B[39m], conf[\u001B[38;5;124m'\u001B[39m\u001B[38;5;124mGO\u001B[39m\u001B[38;5;124m'\u001B[39m][\u001B[38;5;124m'\u001B[39m\u001B[38;5;124mr_mut\u001B[39m\u001B[38;5;124m'\u001B[39m],cols,train_df,test_df,full_columns,\u001B[38;5;124m'\u001B[39m\u001B[38;5;124menhanced_speed\u001B[39m\u001B[38;5;124m'\u001B[39m)\n",
      "File \u001B[1;32m~\\PycharmProjects\\master_thesis\\src\\heuristics\\genetic_optimization.py:130\u001B[0m, in \u001B[0;36mgenetic_algorithm\u001B[1;34m(n_iter, r_cross, r_mut, pop, train_df, test_df, full_col, endog)\u001B[0m\n\u001B[0;32m    128\u001B[0m children \u001B[38;5;241m=\u001B[39m []\n\u001B[0;32m    129\u001B[0m \u001B[38;5;28;01mfor\u001B[39;00m i \u001B[38;5;129;01min\u001B[39;00m \u001B[38;5;28mrange\u001B[39m(\u001B[38;5;241m0\u001B[39m, \u001B[38;5;28mlen\u001B[39m(pop), \u001B[38;5;241m2\u001B[39m):\n\u001B[1;32m--> 130\u001B[0m     p1, p2 \u001B[38;5;241m=\u001B[39m proportionate_selection(pop, scores), \u001B[43mselection\u001B[49m(pop, scores)\n\u001B[0;32m    131\u001B[0m     \u001B[38;5;28;01mfor\u001B[39;00m c \u001B[38;5;129;01min\u001B[39;00m crossover(p1, p2, r_cross):\n\u001B[0;32m    132\u001B[0m         children\u001B[38;5;241m.\u001B[39mappend(mutation(c, r_mut, full_col))\n",
      "\u001B[1;31mNameError\u001B[0m: name 'selection' is not defined"
     ]
    }
   ],
   "source": [
    "genetic_optimization.genetic_algorithm(1, r_cross,r_mut ,cols,train_df,test_df,full_columns,'enhanced_speed')"
   ],
   "metadata": {
    "collapsed": false,
    "pycharm": {
     "name": "#%%\n"
    }
   }
  },
  {
   "cell_type": "code",
   "execution_count": 50,
   "outputs": [
    {
     "data": {
      "text/plain": "['sin_wind_direct',\n 'log_heart_rate',\n 'tan_slope_steep',\n 'cadence_delayed',\n 'cos_dist_diff',\n 'rain',\n 'diff_heart_rate',\n 'tan_distance',\n 'diff_enhanced_altitude',\n 'temp',\n 'wind_speed',\n 'cos_distance',\n 'cos_enhanced_altitude',\n 'sin_temp',\n 'cos_wind_speed',\n 'tan_enhanced_altitude_delayed',\n 'cos_slope_ascent',\n 'distance',\n 'cadence',\n 'slope_steep',\n 'sin_heart_rate',\n 'tan_heart_rate',\n 'diff_temp',\n 'diff_wind_speed',\n 'tan_wind_direct',\n 'diff_wind_direct',\n 'cos_rain',\n 'tan_rain',\n 'diff_rain',\n 'sin_dist_diff',\n 'tan_dist_diff',\n 'diff_dist_diff',\n 'log_cadence_delayed',\n 'sin_cadence_delayed',\n 'diff_cadence_delayed',\n 'cos_enhanced_altitude_delayed',\n 'diff_enhanced_altitude_delayed',\n 'sin_slope_steep',\n 'cos_slope_steep']"
     },
     "execution_count": 50,
     "metadata": {},
     "output_type": "execute_result"
    }
   ],
   "source": [
    "genetic_optimization.mutation(cols[0],r_mut,full_columns)\n"
   ],
   "metadata": {
    "collapsed": false,
    "pycharm": {
     "name": "#%%\n"
    }
   }
  },
  {
   "cell_type": "code",
   "execution_count": 20,
   "outputs": [],
   "source": [
    "def Diff(li1, li2):\n",
    "    li_dif = [i for i in li1 + li2 if i not in li1 or i not in li2]\n",
    "    return li_dif"
   ],
   "metadata": {
    "collapsed": false,
    "pycharm": {
     "name": "#%%\n"
    }
   }
  },
  {
   "cell_type": "code",
   "execution_count": 51,
   "outputs": [
    {
     "data": {
      "text/plain": "['sin_wind_direct',\n 'log_heart_rate',\n 'tan_slope_steep',\n 'cadence_delayed',\n 'cos_dist_diff',\n 'rain',\n 'diff_heart_rate',\n 'tan_distance',\n 'diff_enhanced_altitude',\n 'temp',\n 'wind_speed',\n 'cos_distance',\n 'cos_enhanced_altitude',\n 'sin_temp',\n 'cos_wind_speed',\n 'tan_enhanced_altitude_delayed',\n 'cos_slope_ascent',\n 'distance',\n 'cadence',\n 'slope_steep',\n 'sin_heart_rate',\n 'tan_heart_rate',\n 'diff_temp',\n 'diff_wind_speed',\n 'tan_wind_direct',\n 'diff_wind_direct',\n 'cos_rain',\n 'tan_rain',\n 'diff_rain',\n 'sin_dist_diff',\n 'tan_dist_diff',\n 'diff_dist_diff',\n 'log_cadence_delayed',\n 'sin_cadence_delayed',\n 'diff_cadence_delayed',\n 'cos_enhanced_altitude_delayed',\n 'diff_enhanced_altitude_delayed',\n 'sin_slope_steep',\n 'cos_slope_steep']"
     },
     "execution_count": 51,
     "metadata": {},
     "output_type": "execute_result"
    }
   ],
   "source": [
    "cols[0]"
   ],
   "metadata": {
    "collapsed": false,
    "pycharm": {
     "name": "#%%\n"
    }
   }
  },
  {
   "cell_type": "markdown",
   "source": [],
   "metadata": {
    "collapsed": false,
    "pycharm": {
     "name": "#%% md\n"
    }
   }
  }
 ],
 "metadata": {
  "kernelspec": {
   "name": "venv",
   "language": "python",
   "display_name": "venv"
  },
  "language_info": {
   "codemirror_mode": {
    "name": "ipython",
    "version": 3
   },
   "file_extension": ".py",
   "mimetype": "text/x-python",
   "name": "python",
   "nbconvert_exporter": "python",
   "pygments_lexer": "ipython3",
   "version": "3.10.7"
  }
 },
 "nbformat": 4,
 "nbformat_minor": 1
}