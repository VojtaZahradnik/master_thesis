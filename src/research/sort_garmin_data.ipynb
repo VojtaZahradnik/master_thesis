{
 "cells": [
  {
   "cell_type": "code",
   "execution_count": 1,
   "outputs": [],
   "source": [
    "import sys\n",
    "sys.path.insert(0,'/home/zahradnik/PycharmProjects/master_thesis')"
   ],
   "metadata": {
    "collapsed": false,
    "ExecuteTime": {
     "end_time": "2023-11-09T20:04:47.730873156Z",
     "start_time": "2023-11-09T20:04:47.730549306Z"
    }
   },
   "id": "906e3858e57bbdde"
  },
  {
   "cell_type": "code",
   "execution_count": 2,
   "outputs": [
    {
     "name": "stdout",
     "output_type": "stream",
     "text": [
      "/home/zahradnik/PycharmProjects/master_thesis/src/modules/__init__.py\n",
      "/home/zahradnik/PycharmProjects/master_thesis\n"
     ]
    }
   ],
   "source": [
    "from src.modules import conf, fit, evl, preprocess\n",
    "import pandas as pd\n",
    "import warnings\n",
    "import matplotlib.pyplot as plt\n",
    "import fitparse\n",
    "import tqdm\n",
    "import numpy as np\n",
    "from xgboost import XGBRegressor, XGBRFRegressor\n",
    "warnings.simplefilter(\"ignore\")\n",
    "from feature_engine.creation import MathFeatures"
   ],
   "metadata": {
    "collapsed": false,
    "ExecuteTime": {
     "end_time": "2023-11-09T20:04:49.442658093Z",
     "start_time": "2023-11-09T20:04:47.730767104Z"
    }
   },
   "id": "d1a0922b902d1acd"
  },
  {
   "cell_type": "code",
   "execution_count": 3,
   "outputs": [],
   "source": [
    "%load_ext autoreload\n",
    "%autoreload 2"
   ],
   "metadata": {
    "collapsed": false,
    "ExecuteTime": {
     "end_time": "2023-11-09T20:04:49.473248676Z",
     "start_time": "2023-11-09T20:04:49.444062443Z"
    }
   },
   "id": "8619034c64c332ba"
  },
  {
   "cell_type": "code",
   "execution_count": 4,
   "outputs": [
    {
     "data": {
      "text/plain": "100.0"
     },
     "execution_count": 4,
     "metadata": {},
     "output_type": "execute_result"
    }
   ],
   "source": [
    "%matplotlib inline\n",
    "plt.rcParams['figure.figsize'] = [24, 8]\n",
    "plt.rcParams['figure.dpi']"
   ],
   "metadata": {
    "collapsed": false,
    "ExecuteTime": {
     "end_time": "2023-11-09T20:04:49.510109495Z",
     "start_time": "2023-11-09T20:04:49.474191255Z"
    }
   },
   "id": "bb9d400395ee5c81"
  },
  {
   "cell_type": "code",
   "execution_count": 5,
   "outputs": [
    {
     "data": {
      "text/plain": "['raw_files/raw_petr/zimolap_101955746936.fit',\n 'raw_files/raw_petr/zimolap_77762555443.fit',\n 'raw_files/raw_petr/zimolap_18481615563.fit',\n 'raw_files/raw_petr/zimolap_28572458883.fit',\n 'raw_files/raw_petr/zimolap_147319978599.fit']"
     },
     "execution_count": 5,
     "metadata": {},
     "output_type": "execute_result"
    }
   ],
   "source": [
    "import glob\n",
    "\n",
    "files = glob.glob(\"raw_files/raw_petr/*.fit\")\n",
    "files[:5]"
   ],
   "metadata": {
    "collapsed": false,
    "ExecuteTime": {
     "end_time": "2023-11-09T20:04:49.659560273Z",
     "start_time": "2023-11-09T20:04:49.504114910Z"
    }
   },
   "id": "88d095ab5cec55d2"
  },
  {
   "cell_type": "markdown",
   "source": [],
   "metadata": {
    "collapsed": false
   },
   "id": "927e19fb8c2eb08c"
  },
  {
   "cell_type": "code",
   "execution_count": 6,
   "outputs": [],
   "source": [
    "from datetime import datetime\n",
    "string_date = '2022-09-01'\n",
    "import os\n",
    "import shutil\n",
    "# Parse the string into a datetime object\n",
    "compare_date = datetime.strptime(string_date, '%Y-%m-%d')"
   ],
   "metadata": {
    "collapsed": false,
    "ExecuteTime": {
     "end_time": "2023-11-09T20:04:51.485693672Z",
     "start_time": "2023-11-09T20:04:50.381575950Z"
    }
   },
   "id": "b6333835d4df1cc7"
  },
  {
   "cell_type": "code",
   "execution_count": 7,
   "outputs": [
    {
     "name": "stderr",
     "output_type": "stream",
     "text": [
      " 34%|███▍      | 9862/29047 [07:48<16:11, 19.76it/s]  "
     ]
    },
    {
     "name": "stdout",
     "output_type": "stream",
     "text": [
      "CRC Mismatch [computed: 0x4ED8, read: 0x0040]\n"
     ]
    },
    {
     "name": "stderr",
     "output_type": "stream",
     "text": [
      "100%|██████████| 29047/29047 [23:03<00:00, 20.99it/s]  \n"
     ]
    }
   ],
   "source": [
    "for x in tqdm.tqdm(range(len(files))):\n",
    "    try:\n",
    "        fitfile = fitparse.FitFile(files[x])\n",
    "        for record in fitfile.get_messages(\"file_id\"):\n",
    "            if record.get_value(\"time_created\"):\n",
    "                if record.get_value(\"time_created\") > compare_date:\n",
    "                    shutil.copyfile(\n",
    "                            files[x],\n",
    "                            os.path.join(\n",
    "                                \"raw_files/zimola\",\n",
    "                                os.path.split(files[x])[-1],\n",
    "                            ),\n",
    "                        )\n",
    "                    #os.remove(files[x])\n",
    "                    \n",
    "    except BaseException as e:\n",
    "        print(e)"
   ],
   "metadata": {
    "collapsed": false,
    "ExecuteTime": {
     "end_time": "2023-11-09T20:27:55.570942088Z",
     "start_time": "2023-11-09T20:04:51.916989449Z"
    }
   },
   "id": "90352137f24f0811"
  },
  {
   "cell_type": "code",
   "execution_count": null,
   "outputs": [],
   "source": [
    "os.rmdir(\"raw_files/raw_petr\")"
   ],
   "metadata": {
    "collapsed": false,
    "ExecuteTime": {
     "end_time": "2023-11-09T19:02:32.877918708Z",
     "start_time": "2023-11-09T19:02:32.877788805Z"
    }
   },
   "id": "638b2ca6c303786c"
  }
 ],
 "metadata": {
  "kernelspec": {
   "display_name": "Python 3",
   "language": "python",
   "name": "python3"
  },
  "language_info": {
   "codemirror_mode": {
    "name": "ipython",
    "version": 2
   },
   "file_extension": ".py",
   "mimetype": "text/x-python",
   "name": "python",
   "nbconvert_exporter": "python",
   "pygments_lexer": "ipython2",
   "version": "2.7.6"
  }
 },
 "nbformat": 4,
 "nbformat_minor": 5
}
