{
 "cells": [
  {
   "cell_type": "code",
   "execution_count": 54,
   "metadata": {
    "collapsed": true
   },
   "outputs": [],
   "source": [
    "from tsfresh import select_features, extract_features\n",
    "from tsfresh.utilities.dataframe_functions import impute\n",
    "from src.modules import conf, fit, raw_data, preprocess, df_columns\n",
    "import pandas as pd\n",
    "import numpy as np\n",
    "import warnings\n",
    "warnings.simplefilter(\"ignore\")"
   ]
  },
  {
   "cell_type": "code",
   "execution_count": 5,
   "outputs": [
    {
     "name": "stdout",
     "output_type": "stream",
     "text": [
      "The autoreload extension is already loaded. To reload it, use:\n",
      "  %reload_ext autoreload\n"
     ]
    }
   ],
   "source": [
    "%load_ext autoreload\n",
    "%autoreload 2"
   ],
   "metadata": {
    "collapsed": false
   }
  },
  {
   "cell_type": "code",
   "execution_count": 6,
   "outputs": [
    {
     "name": "stderr",
     "output_type": "stream",
     "text": [
      "100%|██████████| 361/361 [00:00<00:00, 1628.28it/s]\n"
     ]
    }
   ],
   "source": [
    "data = fit.load_pcls(\n",
    "        'zahradnik',\n",
    "        'running',\n",
    "        conf[\"Paths\"][\"pcl\"],\n",
    "    )\n",
    "data = pd.concat(data)"
   ],
   "metadata": {
    "collapsed": false
   }
  },
  {
   "cell_type": "code",
   "execution_count": 39,
   "outputs": [
    {
     "data": {
      "text/plain": "['heart_rate',\n 'distance',\n 'enhanced_altitude',\n 'cadence',\n 'temp',\n 'wind_speed',\n 'wind_direct',\n 'rain',\n 'slope_steep',\n 'slope_ascent',\n 'slope_descent']"
     },
     "execution_count": 39,
     "metadata": {},
     "output_type": "execute_result"
    }
   ],
   "source": [
    "label = \"enhanced_speed\"\n",
    "features = [x for x in data.columns if x != label and x!= 'timestamp']\n",
    "features"
   ],
   "metadata": {
    "collapsed": false
   }
  },
  {
   "cell_type": "code",
   "execution_count": 8,
   "outputs": [
    {
     "data": {
      "text/plain": "12"
     },
     "execution_count": 8,
     "metadata": {},
     "output_type": "execute_result"
    }
   ],
   "source": [
    "data = data[df_columns]\n",
    "len(data.columns)"
   ],
   "metadata": {
    "collapsed": false
   }
  },
  {
   "cell_type": "code",
   "execution_count": 9,
   "outputs": [],
   "source": [
    "data.reset_index(inplace=True)"
   ],
   "metadata": {
    "collapsed": false
   }
  },
  {
   "cell_type": "code",
   "execution_count": 12,
   "outputs": [
    {
     "data": {
      "text/plain": "                 timestamp  heart_rate  enhanced_speed  distance  \\\n0      2021-11-22 08:05:16        85.0          6.5160      2.00   \n1      2021-11-22 08:05:22        87.0         11.1528     23.28   \n2      2021-11-22 08:05:26        90.0         14.6448     39.91   \n3      2021-11-22 08:05:29        93.0         14.1084     52.04   \n4      2021-11-22 08:05:30        96.0         13.1328     56.29   \n...                    ...         ...             ...       ...   \n725602 2022-11-01 07:29:50       161.0         14.5800  11184.18   \n725603 2022-11-01 07:29:51       160.0         14.5440  11188.23   \n725604 2022-11-01 07:29:52       161.0         14.6124  11192.28   \n725605 2022-11-01 07:29:53       162.0         14.6448  11196.35   \n725606 2022-11-01 07:29:54       161.0         14.3784  11200.34   \n\n        enhanced_altitude  cadence  temp  wind_speed  wind_direct  rain  \\\n0                   249.4     56.0   5.3         8.7        320.0   0.5   \n1                   249.4     86.0   5.3         8.7        320.0   0.5   \n2                   249.4     86.0   5.3         8.7        320.0   0.5   \n3                   249.0     86.0   5.3         8.7        320.0   0.5   \n4                   249.2     85.0   5.3         8.7        320.0   0.5   \n...                   ...      ...   ...         ...          ...   ...   \n725602              245.2     90.0  12.6         4.8        307.0   1.4   \n725603              245.4     90.0  12.6         4.8        307.0   1.4   \n725604              245.4     91.0  12.6         4.8        307.0   1.4   \n725605              245.8     90.0  12.6         4.8        307.0   1.4   \n725606              246.0     89.0  12.6         4.8        307.0   1.4   \n\n        slope_steep  slope_ascent  slope_descent  \n0          0.000000           0.0            0.0  \n1          0.000000           0.0            0.0  \n2          0.000000           0.0            0.0  \n3          3.297609           0.0            0.4  \n4          4.705882           0.2            0.0  \n...             ...           ...            ...  \n725602     4.950495           0.2            0.0  \n725603     4.938272           0.2            0.0  \n725604     0.000000           0.0            0.0  \n725605     9.828010           0.4            0.0  \n725606     5.012531           0.2            0.0  \n\n[725607 rows x 13 columns]",
      "text/html": "<div>\n<style scoped>\n    .dataframe tbody tr th:only-of-type {\n        vertical-align: middle;\n    }\n\n    .dataframe tbody tr th {\n        vertical-align: top;\n    }\n\n    .dataframe thead th {\n        text-align: right;\n    }\n</style>\n<table border=\"1\" class=\"dataframe\">\n  <thead>\n    <tr style=\"text-align: right;\">\n      <th></th>\n      <th>timestamp</th>\n      <th>heart_rate</th>\n      <th>enhanced_speed</th>\n      <th>distance</th>\n      <th>enhanced_altitude</th>\n      <th>cadence</th>\n      <th>temp</th>\n      <th>wind_speed</th>\n      <th>wind_direct</th>\n      <th>rain</th>\n      <th>slope_steep</th>\n      <th>slope_ascent</th>\n      <th>slope_descent</th>\n    </tr>\n  </thead>\n  <tbody>\n    <tr>\n      <th>0</th>\n      <td>2021-11-22 08:05:16</td>\n      <td>85.0</td>\n      <td>6.5160</td>\n      <td>2.00</td>\n      <td>249.4</td>\n      <td>56.0</td>\n      <td>5.3</td>\n      <td>8.7</td>\n      <td>320.0</td>\n      <td>0.5</td>\n      <td>0.000000</td>\n      <td>0.0</td>\n      <td>0.0</td>\n    </tr>\n    <tr>\n      <th>1</th>\n      <td>2021-11-22 08:05:22</td>\n      <td>87.0</td>\n      <td>11.1528</td>\n      <td>23.28</td>\n      <td>249.4</td>\n      <td>86.0</td>\n      <td>5.3</td>\n      <td>8.7</td>\n      <td>320.0</td>\n      <td>0.5</td>\n      <td>0.000000</td>\n      <td>0.0</td>\n      <td>0.0</td>\n    </tr>\n    <tr>\n      <th>2</th>\n      <td>2021-11-22 08:05:26</td>\n      <td>90.0</td>\n      <td>14.6448</td>\n      <td>39.91</td>\n      <td>249.4</td>\n      <td>86.0</td>\n      <td>5.3</td>\n      <td>8.7</td>\n      <td>320.0</td>\n      <td>0.5</td>\n      <td>0.000000</td>\n      <td>0.0</td>\n      <td>0.0</td>\n    </tr>\n    <tr>\n      <th>3</th>\n      <td>2021-11-22 08:05:29</td>\n      <td>93.0</td>\n      <td>14.1084</td>\n      <td>52.04</td>\n      <td>249.0</td>\n      <td>86.0</td>\n      <td>5.3</td>\n      <td>8.7</td>\n      <td>320.0</td>\n      <td>0.5</td>\n      <td>3.297609</td>\n      <td>0.0</td>\n      <td>0.4</td>\n    </tr>\n    <tr>\n      <th>4</th>\n      <td>2021-11-22 08:05:30</td>\n      <td>96.0</td>\n      <td>13.1328</td>\n      <td>56.29</td>\n      <td>249.2</td>\n      <td>85.0</td>\n      <td>5.3</td>\n      <td>8.7</td>\n      <td>320.0</td>\n      <td>0.5</td>\n      <td>4.705882</td>\n      <td>0.2</td>\n      <td>0.0</td>\n    </tr>\n    <tr>\n      <th>...</th>\n      <td>...</td>\n      <td>...</td>\n      <td>...</td>\n      <td>...</td>\n      <td>...</td>\n      <td>...</td>\n      <td>...</td>\n      <td>...</td>\n      <td>...</td>\n      <td>...</td>\n      <td>...</td>\n      <td>...</td>\n      <td>...</td>\n    </tr>\n    <tr>\n      <th>725602</th>\n      <td>2022-11-01 07:29:50</td>\n      <td>161.0</td>\n      <td>14.5800</td>\n      <td>11184.18</td>\n      <td>245.2</td>\n      <td>90.0</td>\n      <td>12.6</td>\n      <td>4.8</td>\n      <td>307.0</td>\n      <td>1.4</td>\n      <td>4.950495</td>\n      <td>0.2</td>\n      <td>0.0</td>\n    </tr>\n    <tr>\n      <th>725603</th>\n      <td>2022-11-01 07:29:51</td>\n      <td>160.0</td>\n      <td>14.5440</td>\n      <td>11188.23</td>\n      <td>245.4</td>\n      <td>90.0</td>\n      <td>12.6</td>\n      <td>4.8</td>\n      <td>307.0</td>\n      <td>1.4</td>\n      <td>4.938272</td>\n      <td>0.2</td>\n      <td>0.0</td>\n    </tr>\n    <tr>\n      <th>725604</th>\n      <td>2022-11-01 07:29:52</td>\n      <td>161.0</td>\n      <td>14.6124</td>\n      <td>11192.28</td>\n      <td>245.4</td>\n      <td>91.0</td>\n      <td>12.6</td>\n      <td>4.8</td>\n      <td>307.0</td>\n      <td>1.4</td>\n      <td>0.000000</td>\n      <td>0.0</td>\n      <td>0.0</td>\n    </tr>\n    <tr>\n      <th>725605</th>\n      <td>2022-11-01 07:29:53</td>\n      <td>162.0</td>\n      <td>14.6448</td>\n      <td>11196.35</td>\n      <td>245.8</td>\n      <td>90.0</td>\n      <td>12.6</td>\n      <td>4.8</td>\n      <td>307.0</td>\n      <td>1.4</td>\n      <td>9.828010</td>\n      <td>0.4</td>\n      <td>0.0</td>\n    </tr>\n    <tr>\n      <th>725606</th>\n      <td>2022-11-01 07:29:54</td>\n      <td>161.0</td>\n      <td>14.3784</td>\n      <td>11200.34</td>\n      <td>246.0</td>\n      <td>89.0</td>\n      <td>12.6</td>\n      <td>4.8</td>\n      <td>307.0</td>\n      <td>1.4</td>\n      <td>5.012531</td>\n      <td>0.2</td>\n      <td>0.0</td>\n    </tr>\n  </tbody>\n</table>\n<p>725607 rows × 13 columns</p>\n</div>"
     },
     "execution_count": 12,
     "metadata": {},
     "output_type": "execute_result"
    }
   ],
   "source": [
    "data"
   ],
   "metadata": {
    "collapsed": false
   }
  },
  {
   "cell_type": "code",
   "execution_count": 11,
   "outputs": [
    {
     "name": "stdout",
     "output_type": "stream",
     "text": [
      "False\n",
      "False\n",
      "False\n"
     ]
    }
   ],
   "source": [
    "print(data.isnull().values.any())\n",
    "print(data.isin([np.inf, -np.inf]).values.any())\n",
    "print(data.isna().sum().any())"
   ],
   "metadata": {
    "collapsed": false
   }
  },
  {
   "cell_type": "code",
   "execution_count": 10,
   "outputs": [],
   "source": [
    "data['heart_rate'] = [int(x) for x in data.heart_rate]\n",
    "data['enhanced_speed'] = [int(x) for x in data.enhanced_speed]"
   ],
   "metadata": {
    "collapsed": false
   }
  },
  {
   "cell_type": "code",
   "execution_count": 14,
   "outputs": [],
   "source": [
    "data['timestamp'] = [x for x in range(len(data))]"
   ],
   "metadata": {
    "collapsed": false
   }
  },
  {
   "cell_type": "code",
   "execution_count": 15,
   "outputs": [],
   "source": [
    "for x in data:\n",
    "    data[x] = [int(y) for y in data[x]]"
   ],
   "metadata": {
    "collapsed": false
   }
  },
  {
   "cell_type": "code",
   "execution_count": 16,
   "outputs": [
    {
     "data": {
      "text/plain": "        timestamp  heart_rate  enhanced_speed  distance  enhanced_altitude  \\\n0               0          85               6         2                249   \n1               1          87              11        23                249   \n2               2          90              14        39                249   \n3               3          93              14        52                249   \n4               4          96              13        56                249   \n...           ...         ...             ...       ...                ...   \n725602     725602         161              14     11184                245   \n725603     725603         160              14     11188                245   \n725604     725604         161              14     11192                245   \n725605     725605         162              14     11196                245   \n725606     725606         161              14     11200                246   \n\n        cadence  temp  wind_speed  wind_direct  rain  slope_steep  \\\n0            56     5           8          320     0            0   \n1            86     5           8          320     0            0   \n2            86     5           8          320     0            0   \n3            86     5           8          320     0            3   \n4            85     5           8          320     0            4   \n...         ...   ...         ...          ...   ...          ...   \n725602       90    12           4          307     1            4   \n725603       90    12           4          307     1            4   \n725604       91    12           4          307     1            0   \n725605       90    12           4          307     1            9   \n725606       89    12           4          307     1            5   \n\n        slope_ascent  slope_descent  \n0                  0              0  \n1                  0              0  \n2                  0              0  \n3                  0              0  \n4                  0              0  \n...              ...            ...  \n725602             0              0  \n725603             0              0  \n725604             0              0  \n725605             0              0  \n725606             0              0  \n\n[725607 rows x 13 columns]",
      "text/html": "<div>\n<style scoped>\n    .dataframe tbody tr th:only-of-type {\n        vertical-align: middle;\n    }\n\n    .dataframe tbody tr th {\n        vertical-align: top;\n    }\n\n    .dataframe thead th {\n        text-align: right;\n    }\n</style>\n<table border=\"1\" class=\"dataframe\">\n  <thead>\n    <tr style=\"text-align: right;\">\n      <th></th>\n      <th>timestamp</th>\n      <th>heart_rate</th>\n      <th>enhanced_speed</th>\n      <th>distance</th>\n      <th>enhanced_altitude</th>\n      <th>cadence</th>\n      <th>temp</th>\n      <th>wind_speed</th>\n      <th>wind_direct</th>\n      <th>rain</th>\n      <th>slope_steep</th>\n      <th>slope_ascent</th>\n      <th>slope_descent</th>\n    </tr>\n  </thead>\n  <tbody>\n    <tr>\n      <th>0</th>\n      <td>0</td>\n      <td>85</td>\n      <td>6</td>\n      <td>2</td>\n      <td>249</td>\n      <td>56</td>\n      <td>5</td>\n      <td>8</td>\n      <td>320</td>\n      <td>0</td>\n      <td>0</td>\n      <td>0</td>\n      <td>0</td>\n    </tr>\n    <tr>\n      <th>1</th>\n      <td>1</td>\n      <td>87</td>\n      <td>11</td>\n      <td>23</td>\n      <td>249</td>\n      <td>86</td>\n      <td>5</td>\n      <td>8</td>\n      <td>320</td>\n      <td>0</td>\n      <td>0</td>\n      <td>0</td>\n      <td>0</td>\n    </tr>\n    <tr>\n      <th>2</th>\n      <td>2</td>\n      <td>90</td>\n      <td>14</td>\n      <td>39</td>\n      <td>249</td>\n      <td>86</td>\n      <td>5</td>\n      <td>8</td>\n      <td>320</td>\n      <td>0</td>\n      <td>0</td>\n      <td>0</td>\n      <td>0</td>\n    </tr>\n    <tr>\n      <th>3</th>\n      <td>3</td>\n      <td>93</td>\n      <td>14</td>\n      <td>52</td>\n      <td>249</td>\n      <td>86</td>\n      <td>5</td>\n      <td>8</td>\n      <td>320</td>\n      <td>0</td>\n      <td>3</td>\n      <td>0</td>\n      <td>0</td>\n    </tr>\n    <tr>\n      <th>4</th>\n      <td>4</td>\n      <td>96</td>\n      <td>13</td>\n      <td>56</td>\n      <td>249</td>\n      <td>85</td>\n      <td>5</td>\n      <td>8</td>\n      <td>320</td>\n      <td>0</td>\n      <td>4</td>\n      <td>0</td>\n      <td>0</td>\n    </tr>\n    <tr>\n      <th>...</th>\n      <td>...</td>\n      <td>...</td>\n      <td>...</td>\n      <td>...</td>\n      <td>...</td>\n      <td>...</td>\n      <td>...</td>\n      <td>...</td>\n      <td>...</td>\n      <td>...</td>\n      <td>...</td>\n      <td>...</td>\n      <td>...</td>\n    </tr>\n    <tr>\n      <th>725602</th>\n      <td>725602</td>\n      <td>161</td>\n      <td>14</td>\n      <td>11184</td>\n      <td>245</td>\n      <td>90</td>\n      <td>12</td>\n      <td>4</td>\n      <td>307</td>\n      <td>1</td>\n      <td>4</td>\n      <td>0</td>\n      <td>0</td>\n    </tr>\n    <tr>\n      <th>725603</th>\n      <td>725603</td>\n      <td>160</td>\n      <td>14</td>\n      <td>11188</td>\n      <td>245</td>\n      <td>90</td>\n      <td>12</td>\n      <td>4</td>\n      <td>307</td>\n      <td>1</td>\n      <td>4</td>\n      <td>0</td>\n      <td>0</td>\n    </tr>\n    <tr>\n      <th>725604</th>\n      <td>725604</td>\n      <td>161</td>\n      <td>14</td>\n      <td>11192</td>\n      <td>245</td>\n      <td>91</td>\n      <td>12</td>\n      <td>4</td>\n      <td>307</td>\n      <td>1</td>\n      <td>0</td>\n      <td>0</td>\n      <td>0</td>\n    </tr>\n    <tr>\n      <th>725605</th>\n      <td>725605</td>\n      <td>162</td>\n      <td>14</td>\n      <td>11196</td>\n      <td>245</td>\n      <td>90</td>\n      <td>12</td>\n      <td>4</td>\n      <td>307</td>\n      <td>1</td>\n      <td>9</td>\n      <td>0</td>\n      <td>0</td>\n    </tr>\n    <tr>\n      <th>725606</th>\n      <td>725606</td>\n      <td>161</td>\n      <td>14</td>\n      <td>11200</td>\n      <td>246</td>\n      <td>89</td>\n      <td>12</td>\n      <td>4</td>\n      <td>307</td>\n      <td>1</td>\n      <td>5</td>\n      <td>0</td>\n      <td>0</td>\n    </tr>\n  </tbody>\n</table>\n<p>725607 rows × 13 columns</p>\n</div>"
     },
     "execution_count": 16,
     "metadata": {},
     "output_type": "execute_result"
    }
   ],
   "source": [
    "data"
   ],
   "metadata": {
    "collapsed": false
   }
  },
  {
   "cell_type": "code",
   "execution_count": 17,
   "outputs": [
    {
     "name": "stderr",
     "output_type": "stream",
     "text": [
      "Feature Extraction: 100%|██████████| 330/330 [00:00<00:00, 1686.13it/s]\n"
     ]
    }
   ],
   "source": [
    "from tsfresh.feature_extraction import extract_features, MinimalFCParameters, EfficientFCParameters, ComprehensiveFCParameters\n",
    "\n",
    "extracted_features = extract_features(data, column_id=\"enhanced_speed\",column_sort=\"timestamp\", n_jobs=0,default_fc_parameters= MinimalFCParameters())"
   ],
   "metadata": {
    "collapsed": false
   }
  },
  {
   "cell_type": "code",
   "execution_count": 18,
   "outputs": [
    {
     "data": {
      "text/plain": "    heart_rate__sum_values  heart_rate__median  heart_rate__mean  \\\n3                 765782.0               118.0        123.652834   \n4                1388525.0               125.0        128.151823   \n5                1077429.0               134.0        135.219503   \n6                 836576.0               140.0        139.965869   \n7                1260315.0               144.0        142.892857   \n8                2997340.0               141.0        141.137637   \n9                8108328.0               138.0        138.675013   \n10              19149583.0               135.0        136.007493   \n11              28245059.0               136.0        136.758092   \n12              12746124.0               139.0        139.204535   \n13               3552507.0               145.0        147.120015   \n14               3132124.0               162.0        159.883818   \n15               5480755.0               169.0        167.545702   \n16               5015287.0               174.0        171.779936   \n17               4609338.0               178.0        174.292445   \n18               3116194.0               177.0        172.613638   \n19               1233838.0               171.0        166.554806   \n20                669572.0               170.0        166.767621   \n21                348098.0               169.0        165.603235   \n22                266174.0               163.0        160.345783   \n23                160723.0               163.0        160.562438   \n24                 58561.0               162.0        158.701897   \n25                 35559.0               165.0        160.900452   \n26                 18984.0               160.0        153.096774   \n27                 11127.0               145.0        148.360000   \n28                  9510.0               144.0        144.090909   \n29                  2248.0               141.5        140.500000   \n30                  1274.0               147.0        141.555556   \n33                   148.0               148.0        148.000000   \n37                   145.0               145.0        145.000000   \n\n    heart_rate__length  heart_rate__standard_deviation  heart_rate__variance  \\\n3               6193.0                       21.146012            447.153818   \n4              10835.0                       22.151893            490.706345   \n5               7968.0                       22.120713            489.325940   \n6               5977.0                       22.382005            500.954164   \n7               8820.0                       19.300235            372.499065   \n8              21237.0                       17.004677            289.159047   \n9              58470.0                       14.460943            209.118875   \n10            140798.0                       11.556463            133.551848   \n11            206533.0                        9.949734             98.997205   \n12             91564.0                       11.379221            129.486670   \n13             24147.0                       16.455633            270.787849   \n14             19590.0                       13.888441            192.888799   \n15             32712.0                        9.673490             93.576415   \n16             29196.0                       10.533354            110.951537   \n17             26446.0                       13.037080            169.965448   \n18             18053.0                       14.298931            204.459432   \n19              7408.0                       16.371306            268.019675   \n20              4015.0                       16.322025            266.408516   \n21              2102.0                       16.347660            267.246003   \n22              1660.0                       15.320935            234.731036   \n23              1001.0                       13.239677            175.289059   \n24               369.0                       14.871738            221.168587   \n25               221.0                       15.205651            231.211810   \n26               124.0                       21.322568            454.651925   \n27                75.0                       20.381456            415.403733   \n28                66.0                       17.985455            323.476584   \n29                16.0                       19.439007            377.875000   \n30                 9.0                       20.854582            434.913580   \n33                 1.0                        0.000000              0.000000   \n37                 1.0                        0.000000              0.000000   \n\n    heart_rate__root_mean_square  heart_rate__maximum  \\\n3                     125.447906                183.0   \n4                     130.052282                186.0   \n5                     137.016933                185.0   \n6                     141.744131                186.0   \n7                     144.190387                185.0   \n8                     142.158333                186.0   \n9                     139.426963                189.0   \n10                    136.497582                189.0   \n11                    137.119557                190.0   \n12                    139.668855                190.0   \n13                    148.037450                191.0   \n14                    160.485900                193.0   \n15                    167.824726                190.0   \n16                    172.102579                193.0   \n17                    174.779352                196.0   \n18                    173.204871                195.0   \n19                    167.357471                195.0   \n20                    167.564459                193.0   \n21                    166.408165                193.0   \n22                    161.076073                192.0   \n23                    161.107372                192.0   \n24                    159.397179                181.0   \n25                    161.617349                181.0   \n26                    154.574494                180.0   \n27                    149.753442                178.0   \n28                    145.209045                174.0   \n29                    141.838376                167.0   \n30                    143.083503                164.0   \n33                    148.000000                148.0   \n37                    145.000000                145.0   \n\n    heart_rate__absolute_maximum  heart_rate__minimum  ...  \\\n3                          183.0                 62.0  ...   \n4                          186.0                 63.0  ...   \n5                          185.0                 58.0  ...   \n6                          186.0                 62.0  ...   \n7                          185.0                 60.0  ...   \n8                          186.0                 63.0  ...   \n9                          189.0                 65.0  ...   \n10                         189.0                 67.0  ...   \n11                         190.0                 71.0  ...   \n12                         190.0                 70.0  ...   \n13                         191.0                 71.0  ...   \n14                         193.0                 72.0  ...   \n15                         190.0                 71.0  ...   \n16                         193.0                 71.0  ...   \n17                         196.0                 72.0  ...   \n18                         195.0                 60.0  ...   \n19                         195.0                 78.0  ...   \n20                         193.0                 91.0  ...   \n21                         193.0                 62.0  ...   \n22                         192.0                 75.0  ...   \n23                         192.0                 95.0  ...   \n24                         181.0                105.0  ...   \n25                         181.0                103.0  ...   \n26                         180.0                103.0  ...   \n27                         178.0                106.0  ...   \n28                         174.0                107.0  ...   \n29                         167.0                 90.0  ...   \n30                         164.0                 90.0  ...   \n33                         148.0                148.0  ...   \n37                         145.0                145.0  ...   \n\n    slope_descent__sum_values  slope_descent__median  slope_descent__mean  \\\n3                       169.0                    0.0             0.027289   \n4                       319.0                    0.0             0.029442   \n5                       253.0                    0.0             0.031752   \n6                       230.0                    0.0             0.038481   \n7                       241.0                    0.0             0.027324   \n8                       419.0                    0.0             0.019730   \n9                       713.0                    0.0             0.012194   \n10                     1183.0                    0.0             0.008402   \n11                     1614.0                    0.0             0.007815   \n12                      944.0                    0.0             0.010310   \n13                      351.0                    0.0             0.014536   \n14                      329.0                    0.0             0.016794   \n15                      534.0                    0.0             0.016324   \n16                      373.0                    0.0             0.012776   \n17                      411.0                    0.0             0.015541   \n18                      359.0                    0.0             0.019886   \n19                      118.0                    0.0             0.015929   \n20                       58.0                    0.0             0.014446   \n21                       35.0                    0.0             0.016651   \n22                       25.0                    0.0             0.015060   \n23                       20.0                    0.0             0.019980   \n24                        3.0                    0.0             0.008130   \n25                        6.0                    0.0             0.027149   \n26                        1.0                    0.0             0.008065   \n27                        0.0                    0.0             0.000000   \n28                        1.0                    0.0             0.015152   \n29                        0.0                    0.0             0.000000   \n30                        0.0                    0.0             0.000000   \n33                        0.0                    0.0             0.000000   \n37                        0.0                    0.0             0.000000   \n\n    slope_descent__length  slope_descent__standard_deviation  \\\n3                  6193.0                           0.228160   \n4                 10835.0                           0.228477   \n5                  7968.0                           0.228758   \n6                  5977.0                           0.201695   \n7                  8820.0                           0.168498   \n8                 21237.0                           0.147930   \n9                 58470.0                           0.118012   \n10               140798.0                           0.095980   \n11               206533.0                           0.092034   \n12                91564.0                           0.107405   \n13                24147.0                           0.122423   \n14                19590.0                           0.134706   \n15                32712.0                           0.136923   \n16                29196.0                           0.132198   \n17                26446.0                           0.135368   \n18                18053.0                           0.159949   \n19                 7408.0                           0.130479   \n20                 4015.0                           0.121389   \n21                 2102.0                           0.127959   \n22                 1660.0                           0.131313   \n23                 1001.0                           0.139931   \n24                  369.0                           0.089800   \n25                  221.0                           0.162518   \n26                  124.0                           0.089440   \n27                   75.0                           0.000000   \n28                   66.0                           0.122155   \n29                   16.0                           0.000000   \n30                    9.0                           0.000000   \n33                    1.0                           0.000000   \n37                    1.0                           0.000000   \n\n    slope_descent__variance  slope_descent__root_mean_square  \\\n3                  0.052057                         0.229786   \n4                  0.052202                         0.230367   \n5                  0.052330                         0.230951   \n6                  0.040681                         0.205333   \n7                  0.028392                         0.170700   \n8                  0.021883                         0.149240   \n9                  0.013927                         0.118641   \n10                 0.009212                         0.096347   \n11                 0.008470                         0.092365   \n12                 0.011536                         0.107899   \n13                 0.014987                         0.123283   \n14                 0.018146                         0.135749   \n15                 0.018748                         0.137893   \n16                 0.017476                         0.132813   \n17                 0.018325                         0.136258   \n18                 0.025584                         0.161180   \n19                 0.017025                         0.131448   \n20                 0.014735                         0.122245   \n21                 0.016374                         0.129038   \n22                 0.017243                         0.132174   \n23                 0.019581                         0.141351   \n24                 0.008064                         0.090167   \n25                 0.026412                         0.164771   \n26                 0.007999                         0.089803   \n27                 0.000000                         0.000000   \n28                 0.014922                         0.123091   \n29                 0.000000                         0.000000   \n30                 0.000000                         0.000000   \n33                 0.000000                         0.000000   \n37                 0.000000                         0.000000   \n\n    slope_descent__maximum  slope_descent__absolute_maximum  \\\n3                      6.0                              6.0   \n4                      8.0                              8.0   \n5                     10.0                             10.0   \n6                      3.0                              3.0   \n7                      2.0                              2.0   \n8                      3.0                              3.0   \n9                      6.0                              6.0   \n10                     5.0                              5.0   \n11                     8.0                              8.0   \n12                     7.0                              7.0   \n13                     2.0                              2.0   \n14                     2.0                              2.0   \n15                     3.0                              3.0   \n16                    10.0                             10.0   \n17                     4.0                              4.0   \n18                     7.0                              7.0   \n19                     2.0                              2.0   \n20                     2.0                              2.0   \n21                     1.0                              1.0   \n22                     2.0                              2.0   \n23                     1.0                              1.0   \n24                     1.0                              1.0   \n25                     1.0                              1.0   \n26                     1.0                              1.0   \n27                     0.0                              0.0   \n28                     1.0                              1.0   \n29                     0.0                              0.0   \n30                     0.0                              0.0   \n33                     0.0                              0.0   \n37                     0.0                              0.0   \n\n    slope_descent__minimum  \n3                      0.0  \n4                      0.0  \n5                      0.0  \n6                      0.0  \n7                      0.0  \n8                      0.0  \n9                      0.0  \n10                     0.0  \n11                     0.0  \n12                     0.0  \n13                     0.0  \n14                     0.0  \n15                     0.0  \n16                     0.0  \n17                     0.0  \n18                     0.0  \n19                     0.0  \n20                     0.0  \n21                     0.0  \n22                     0.0  \n23                     0.0  \n24                     0.0  \n25                     0.0  \n26                     0.0  \n27                     0.0  \n28                     0.0  \n29                     0.0  \n30                     0.0  \n33                     0.0  \n37                     0.0  \n\n[30 rows x 110 columns]",
      "text/html": "<div>\n<style scoped>\n    .dataframe tbody tr th:only-of-type {\n        vertical-align: middle;\n    }\n\n    .dataframe tbody tr th {\n        vertical-align: top;\n    }\n\n    .dataframe thead th {\n        text-align: right;\n    }\n</style>\n<table border=\"1\" class=\"dataframe\">\n  <thead>\n    <tr style=\"text-align: right;\">\n      <th></th>\n      <th>heart_rate__sum_values</th>\n      <th>heart_rate__median</th>\n      <th>heart_rate__mean</th>\n      <th>heart_rate__length</th>\n      <th>heart_rate__standard_deviation</th>\n      <th>heart_rate__variance</th>\n      <th>heart_rate__root_mean_square</th>\n      <th>heart_rate__maximum</th>\n      <th>heart_rate__absolute_maximum</th>\n      <th>heart_rate__minimum</th>\n      <th>...</th>\n      <th>slope_descent__sum_values</th>\n      <th>slope_descent__median</th>\n      <th>slope_descent__mean</th>\n      <th>slope_descent__length</th>\n      <th>slope_descent__standard_deviation</th>\n      <th>slope_descent__variance</th>\n      <th>slope_descent__root_mean_square</th>\n      <th>slope_descent__maximum</th>\n      <th>slope_descent__absolute_maximum</th>\n      <th>slope_descent__minimum</th>\n    </tr>\n  </thead>\n  <tbody>\n    <tr>\n      <th>3</th>\n      <td>765782.0</td>\n      <td>118.0</td>\n      <td>123.652834</td>\n      <td>6193.0</td>\n      <td>21.146012</td>\n      <td>447.153818</td>\n      <td>125.447906</td>\n      <td>183.0</td>\n      <td>183.0</td>\n      <td>62.0</td>\n      <td>...</td>\n      <td>169.0</td>\n      <td>0.0</td>\n      <td>0.027289</td>\n      <td>6193.0</td>\n      <td>0.228160</td>\n      <td>0.052057</td>\n      <td>0.229786</td>\n      <td>6.0</td>\n      <td>6.0</td>\n      <td>0.0</td>\n    </tr>\n    <tr>\n      <th>4</th>\n      <td>1388525.0</td>\n      <td>125.0</td>\n      <td>128.151823</td>\n      <td>10835.0</td>\n      <td>22.151893</td>\n      <td>490.706345</td>\n      <td>130.052282</td>\n      <td>186.0</td>\n      <td>186.0</td>\n      <td>63.0</td>\n      <td>...</td>\n      <td>319.0</td>\n      <td>0.0</td>\n      <td>0.029442</td>\n      <td>10835.0</td>\n      <td>0.228477</td>\n      <td>0.052202</td>\n      <td>0.230367</td>\n      <td>8.0</td>\n      <td>8.0</td>\n      <td>0.0</td>\n    </tr>\n    <tr>\n      <th>5</th>\n      <td>1077429.0</td>\n      <td>134.0</td>\n      <td>135.219503</td>\n      <td>7968.0</td>\n      <td>22.120713</td>\n      <td>489.325940</td>\n      <td>137.016933</td>\n      <td>185.0</td>\n      <td>185.0</td>\n      <td>58.0</td>\n      <td>...</td>\n      <td>253.0</td>\n      <td>0.0</td>\n      <td>0.031752</td>\n      <td>7968.0</td>\n      <td>0.228758</td>\n      <td>0.052330</td>\n      <td>0.230951</td>\n      <td>10.0</td>\n      <td>10.0</td>\n      <td>0.0</td>\n    </tr>\n    <tr>\n      <th>6</th>\n      <td>836576.0</td>\n      <td>140.0</td>\n      <td>139.965869</td>\n      <td>5977.0</td>\n      <td>22.382005</td>\n      <td>500.954164</td>\n      <td>141.744131</td>\n      <td>186.0</td>\n      <td>186.0</td>\n      <td>62.0</td>\n      <td>...</td>\n      <td>230.0</td>\n      <td>0.0</td>\n      <td>0.038481</td>\n      <td>5977.0</td>\n      <td>0.201695</td>\n      <td>0.040681</td>\n      <td>0.205333</td>\n      <td>3.0</td>\n      <td>3.0</td>\n      <td>0.0</td>\n    </tr>\n    <tr>\n      <th>7</th>\n      <td>1260315.0</td>\n      <td>144.0</td>\n      <td>142.892857</td>\n      <td>8820.0</td>\n      <td>19.300235</td>\n      <td>372.499065</td>\n      <td>144.190387</td>\n      <td>185.0</td>\n      <td>185.0</td>\n      <td>60.0</td>\n      <td>...</td>\n      <td>241.0</td>\n      <td>0.0</td>\n      <td>0.027324</td>\n      <td>8820.0</td>\n      <td>0.168498</td>\n      <td>0.028392</td>\n      <td>0.170700</td>\n      <td>2.0</td>\n      <td>2.0</td>\n      <td>0.0</td>\n    </tr>\n    <tr>\n      <th>8</th>\n      <td>2997340.0</td>\n      <td>141.0</td>\n      <td>141.137637</td>\n      <td>21237.0</td>\n      <td>17.004677</td>\n      <td>289.159047</td>\n      <td>142.158333</td>\n      <td>186.0</td>\n      <td>186.0</td>\n      <td>63.0</td>\n      <td>...</td>\n      <td>419.0</td>\n      <td>0.0</td>\n      <td>0.019730</td>\n      <td>21237.0</td>\n      <td>0.147930</td>\n      <td>0.021883</td>\n      <td>0.149240</td>\n      <td>3.0</td>\n      <td>3.0</td>\n      <td>0.0</td>\n    </tr>\n    <tr>\n      <th>9</th>\n      <td>8108328.0</td>\n      <td>138.0</td>\n      <td>138.675013</td>\n      <td>58470.0</td>\n      <td>14.460943</td>\n      <td>209.118875</td>\n      <td>139.426963</td>\n      <td>189.0</td>\n      <td>189.0</td>\n      <td>65.0</td>\n      <td>...</td>\n      <td>713.0</td>\n      <td>0.0</td>\n      <td>0.012194</td>\n      <td>58470.0</td>\n      <td>0.118012</td>\n      <td>0.013927</td>\n      <td>0.118641</td>\n      <td>6.0</td>\n      <td>6.0</td>\n      <td>0.0</td>\n    </tr>\n    <tr>\n      <th>10</th>\n      <td>19149583.0</td>\n      <td>135.0</td>\n      <td>136.007493</td>\n      <td>140798.0</td>\n      <td>11.556463</td>\n      <td>133.551848</td>\n      <td>136.497582</td>\n      <td>189.0</td>\n      <td>189.0</td>\n      <td>67.0</td>\n      <td>...</td>\n      <td>1183.0</td>\n      <td>0.0</td>\n      <td>0.008402</td>\n      <td>140798.0</td>\n      <td>0.095980</td>\n      <td>0.009212</td>\n      <td>0.096347</td>\n      <td>5.0</td>\n      <td>5.0</td>\n      <td>0.0</td>\n    </tr>\n    <tr>\n      <th>11</th>\n      <td>28245059.0</td>\n      <td>136.0</td>\n      <td>136.758092</td>\n      <td>206533.0</td>\n      <td>9.949734</td>\n      <td>98.997205</td>\n      <td>137.119557</td>\n      <td>190.0</td>\n      <td>190.0</td>\n      <td>71.0</td>\n      <td>...</td>\n      <td>1614.0</td>\n      <td>0.0</td>\n      <td>0.007815</td>\n      <td>206533.0</td>\n      <td>0.092034</td>\n      <td>0.008470</td>\n      <td>0.092365</td>\n      <td>8.0</td>\n      <td>8.0</td>\n      <td>0.0</td>\n    </tr>\n    <tr>\n      <th>12</th>\n      <td>12746124.0</td>\n      <td>139.0</td>\n      <td>139.204535</td>\n      <td>91564.0</td>\n      <td>11.379221</td>\n      <td>129.486670</td>\n      <td>139.668855</td>\n      <td>190.0</td>\n      <td>190.0</td>\n      <td>70.0</td>\n      <td>...</td>\n      <td>944.0</td>\n      <td>0.0</td>\n      <td>0.010310</td>\n      <td>91564.0</td>\n      <td>0.107405</td>\n      <td>0.011536</td>\n      <td>0.107899</td>\n      <td>7.0</td>\n      <td>7.0</td>\n      <td>0.0</td>\n    </tr>\n    <tr>\n      <th>13</th>\n      <td>3552507.0</td>\n      <td>145.0</td>\n      <td>147.120015</td>\n      <td>24147.0</td>\n      <td>16.455633</td>\n      <td>270.787849</td>\n      <td>148.037450</td>\n      <td>191.0</td>\n      <td>191.0</td>\n      <td>71.0</td>\n      <td>...</td>\n      <td>351.0</td>\n      <td>0.0</td>\n      <td>0.014536</td>\n      <td>24147.0</td>\n      <td>0.122423</td>\n      <td>0.014987</td>\n      <td>0.123283</td>\n      <td>2.0</td>\n      <td>2.0</td>\n      <td>0.0</td>\n    </tr>\n    <tr>\n      <th>14</th>\n      <td>3132124.0</td>\n      <td>162.0</td>\n      <td>159.883818</td>\n      <td>19590.0</td>\n      <td>13.888441</td>\n      <td>192.888799</td>\n      <td>160.485900</td>\n      <td>193.0</td>\n      <td>193.0</td>\n      <td>72.0</td>\n      <td>...</td>\n      <td>329.0</td>\n      <td>0.0</td>\n      <td>0.016794</td>\n      <td>19590.0</td>\n      <td>0.134706</td>\n      <td>0.018146</td>\n      <td>0.135749</td>\n      <td>2.0</td>\n      <td>2.0</td>\n      <td>0.0</td>\n    </tr>\n    <tr>\n      <th>15</th>\n      <td>5480755.0</td>\n      <td>169.0</td>\n      <td>167.545702</td>\n      <td>32712.0</td>\n      <td>9.673490</td>\n      <td>93.576415</td>\n      <td>167.824726</td>\n      <td>190.0</td>\n      <td>190.0</td>\n      <td>71.0</td>\n      <td>...</td>\n      <td>534.0</td>\n      <td>0.0</td>\n      <td>0.016324</td>\n      <td>32712.0</td>\n      <td>0.136923</td>\n      <td>0.018748</td>\n      <td>0.137893</td>\n      <td>3.0</td>\n      <td>3.0</td>\n      <td>0.0</td>\n    </tr>\n    <tr>\n      <th>16</th>\n      <td>5015287.0</td>\n      <td>174.0</td>\n      <td>171.779936</td>\n      <td>29196.0</td>\n      <td>10.533354</td>\n      <td>110.951537</td>\n      <td>172.102579</td>\n      <td>193.0</td>\n      <td>193.0</td>\n      <td>71.0</td>\n      <td>...</td>\n      <td>373.0</td>\n      <td>0.0</td>\n      <td>0.012776</td>\n      <td>29196.0</td>\n      <td>0.132198</td>\n      <td>0.017476</td>\n      <td>0.132813</td>\n      <td>10.0</td>\n      <td>10.0</td>\n      <td>0.0</td>\n    </tr>\n    <tr>\n      <th>17</th>\n      <td>4609338.0</td>\n      <td>178.0</td>\n      <td>174.292445</td>\n      <td>26446.0</td>\n      <td>13.037080</td>\n      <td>169.965448</td>\n      <td>174.779352</td>\n      <td>196.0</td>\n      <td>196.0</td>\n      <td>72.0</td>\n      <td>...</td>\n      <td>411.0</td>\n      <td>0.0</td>\n      <td>0.015541</td>\n      <td>26446.0</td>\n      <td>0.135368</td>\n      <td>0.018325</td>\n      <td>0.136258</td>\n      <td>4.0</td>\n      <td>4.0</td>\n      <td>0.0</td>\n    </tr>\n    <tr>\n      <th>18</th>\n      <td>3116194.0</td>\n      <td>177.0</td>\n      <td>172.613638</td>\n      <td>18053.0</td>\n      <td>14.298931</td>\n      <td>204.459432</td>\n      <td>173.204871</td>\n      <td>195.0</td>\n      <td>195.0</td>\n      <td>60.0</td>\n      <td>...</td>\n      <td>359.0</td>\n      <td>0.0</td>\n      <td>0.019886</td>\n      <td>18053.0</td>\n      <td>0.159949</td>\n      <td>0.025584</td>\n      <td>0.161180</td>\n      <td>7.0</td>\n      <td>7.0</td>\n      <td>0.0</td>\n    </tr>\n    <tr>\n      <th>19</th>\n      <td>1233838.0</td>\n      <td>171.0</td>\n      <td>166.554806</td>\n      <td>7408.0</td>\n      <td>16.371306</td>\n      <td>268.019675</td>\n      <td>167.357471</td>\n      <td>195.0</td>\n      <td>195.0</td>\n      <td>78.0</td>\n      <td>...</td>\n      <td>118.0</td>\n      <td>0.0</td>\n      <td>0.015929</td>\n      <td>7408.0</td>\n      <td>0.130479</td>\n      <td>0.017025</td>\n      <td>0.131448</td>\n      <td>2.0</td>\n      <td>2.0</td>\n      <td>0.0</td>\n    </tr>\n    <tr>\n      <th>20</th>\n      <td>669572.0</td>\n      <td>170.0</td>\n      <td>166.767621</td>\n      <td>4015.0</td>\n      <td>16.322025</td>\n      <td>266.408516</td>\n      <td>167.564459</td>\n      <td>193.0</td>\n      <td>193.0</td>\n      <td>91.0</td>\n      <td>...</td>\n      <td>58.0</td>\n      <td>0.0</td>\n      <td>0.014446</td>\n      <td>4015.0</td>\n      <td>0.121389</td>\n      <td>0.014735</td>\n      <td>0.122245</td>\n      <td>2.0</td>\n      <td>2.0</td>\n      <td>0.0</td>\n    </tr>\n    <tr>\n      <th>21</th>\n      <td>348098.0</td>\n      <td>169.0</td>\n      <td>165.603235</td>\n      <td>2102.0</td>\n      <td>16.347660</td>\n      <td>267.246003</td>\n      <td>166.408165</td>\n      <td>193.0</td>\n      <td>193.0</td>\n      <td>62.0</td>\n      <td>...</td>\n      <td>35.0</td>\n      <td>0.0</td>\n      <td>0.016651</td>\n      <td>2102.0</td>\n      <td>0.127959</td>\n      <td>0.016374</td>\n      <td>0.129038</td>\n      <td>1.0</td>\n      <td>1.0</td>\n      <td>0.0</td>\n    </tr>\n    <tr>\n      <th>22</th>\n      <td>266174.0</td>\n      <td>163.0</td>\n      <td>160.345783</td>\n      <td>1660.0</td>\n      <td>15.320935</td>\n      <td>234.731036</td>\n      <td>161.076073</td>\n      <td>192.0</td>\n      <td>192.0</td>\n      <td>75.0</td>\n      <td>...</td>\n      <td>25.0</td>\n      <td>0.0</td>\n      <td>0.015060</td>\n      <td>1660.0</td>\n      <td>0.131313</td>\n      <td>0.017243</td>\n      <td>0.132174</td>\n      <td>2.0</td>\n      <td>2.0</td>\n      <td>0.0</td>\n    </tr>\n    <tr>\n      <th>23</th>\n      <td>160723.0</td>\n      <td>163.0</td>\n      <td>160.562438</td>\n      <td>1001.0</td>\n      <td>13.239677</td>\n      <td>175.289059</td>\n      <td>161.107372</td>\n      <td>192.0</td>\n      <td>192.0</td>\n      <td>95.0</td>\n      <td>...</td>\n      <td>20.0</td>\n      <td>0.0</td>\n      <td>0.019980</td>\n      <td>1001.0</td>\n      <td>0.139931</td>\n      <td>0.019581</td>\n      <td>0.141351</td>\n      <td>1.0</td>\n      <td>1.0</td>\n      <td>0.0</td>\n    </tr>\n    <tr>\n      <th>24</th>\n      <td>58561.0</td>\n      <td>162.0</td>\n      <td>158.701897</td>\n      <td>369.0</td>\n      <td>14.871738</td>\n      <td>221.168587</td>\n      <td>159.397179</td>\n      <td>181.0</td>\n      <td>181.0</td>\n      <td>105.0</td>\n      <td>...</td>\n      <td>3.0</td>\n      <td>0.0</td>\n      <td>0.008130</td>\n      <td>369.0</td>\n      <td>0.089800</td>\n      <td>0.008064</td>\n      <td>0.090167</td>\n      <td>1.0</td>\n      <td>1.0</td>\n      <td>0.0</td>\n    </tr>\n    <tr>\n      <th>25</th>\n      <td>35559.0</td>\n      <td>165.0</td>\n      <td>160.900452</td>\n      <td>221.0</td>\n      <td>15.205651</td>\n      <td>231.211810</td>\n      <td>161.617349</td>\n      <td>181.0</td>\n      <td>181.0</td>\n      <td>103.0</td>\n      <td>...</td>\n      <td>6.0</td>\n      <td>0.0</td>\n      <td>0.027149</td>\n      <td>221.0</td>\n      <td>0.162518</td>\n      <td>0.026412</td>\n      <td>0.164771</td>\n      <td>1.0</td>\n      <td>1.0</td>\n      <td>0.0</td>\n    </tr>\n    <tr>\n      <th>26</th>\n      <td>18984.0</td>\n      <td>160.0</td>\n      <td>153.096774</td>\n      <td>124.0</td>\n      <td>21.322568</td>\n      <td>454.651925</td>\n      <td>154.574494</td>\n      <td>180.0</td>\n      <td>180.0</td>\n      <td>103.0</td>\n      <td>...</td>\n      <td>1.0</td>\n      <td>0.0</td>\n      <td>0.008065</td>\n      <td>124.0</td>\n      <td>0.089440</td>\n      <td>0.007999</td>\n      <td>0.089803</td>\n      <td>1.0</td>\n      <td>1.0</td>\n      <td>0.0</td>\n    </tr>\n    <tr>\n      <th>27</th>\n      <td>11127.0</td>\n      <td>145.0</td>\n      <td>148.360000</td>\n      <td>75.0</td>\n      <td>20.381456</td>\n      <td>415.403733</td>\n      <td>149.753442</td>\n      <td>178.0</td>\n      <td>178.0</td>\n      <td>106.0</td>\n      <td>...</td>\n      <td>0.0</td>\n      <td>0.0</td>\n      <td>0.000000</td>\n      <td>75.0</td>\n      <td>0.000000</td>\n      <td>0.000000</td>\n      <td>0.000000</td>\n      <td>0.0</td>\n      <td>0.0</td>\n      <td>0.0</td>\n    </tr>\n    <tr>\n      <th>28</th>\n      <td>9510.0</td>\n      <td>144.0</td>\n      <td>144.090909</td>\n      <td>66.0</td>\n      <td>17.985455</td>\n      <td>323.476584</td>\n      <td>145.209045</td>\n      <td>174.0</td>\n      <td>174.0</td>\n      <td>107.0</td>\n      <td>...</td>\n      <td>1.0</td>\n      <td>0.0</td>\n      <td>0.015152</td>\n      <td>66.0</td>\n      <td>0.122155</td>\n      <td>0.014922</td>\n      <td>0.123091</td>\n      <td>1.0</td>\n      <td>1.0</td>\n      <td>0.0</td>\n    </tr>\n    <tr>\n      <th>29</th>\n      <td>2248.0</td>\n      <td>141.5</td>\n      <td>140.500000</td>\n      <td>16.0</td>\n      <td>19.439007</td>\n      <td>377.875000</td>\n      <td>141.838376</td>\n      <td>167.0</td>\n      <td>167.0</td>\n      <td>90.0</td>\n      <td>...</td>\n      <td>0.0</td>\n      <td>0.0</td>\n      <td>0.000000</td>\n      <td>16.0</td>\n      <td>0.000000</td>\n      <td>0.000000</td>\n      <td>0.000000</td>\n      <td>0.0</td>\n      <td>0.0</td>\n      <td>0.0</td>\n    </tr>\n    <tr>\n      <th>30</th>\n      <td>1274.0</td>\n      <td>147.0</td>\n      <td>141.555556</td>\n      <td>9.0</td>\n      <td>20.854582</td>\n      <td>434.913580</td>\n      <td>143.083503</td>\n      <td>164.0</td>\n      <td>164.0</td>\n      <td>90.0</td>\n      <td>...</td>\n      <td>0.0</td>\n      <td>0.0</td>\n      <td>0.000000</td>\n      <td>9.0</td>\n      <td>0.000000</td>\n      <td>0.000000</td>\n      <td>0.000000</td>\n      <td>0.0</td>\n      <td>0.0</td>\n      <td>0.0</td>\n    </tr>\n    <tr>\n      <th>33</th>\n      <td>148.0</td>\n      <td>148.0</td>\n      <td>148.000000</td>\n      <td>1.0</td>\n      <td>0.000000</td>\n      <td>0.000000</td>\n      <td>148.000000</td>\n      <td>148.0</td>\n      <td>148.0</td>\n      <td>148.0</td>\n      <td>...</td>\n      <td>0.0</td>\n      <td>0.0</td>\n      <td>0.000000</td>\n      <td>1.0</td>\n      <td>0.000000</td>\n      <td>0.000000</td>\n      <td>0.000000</td>\n      <td>0.0</td>\n      <td>0.0</td>\n      <td>0.0</td>\n    </tr>\n    <tr>\n      <th>37</th>\n      <td>145.0</td>\n      <td>145.0</td>\n      <td>145.000000</td>\n      <td>1.0</td>\n      <td>0.000000</td>\n      <td>0.000000</td>\n      <td>145.000000</td>\n      <td>145.0</td>\n      <td>145.0</td>\n      <td>145.0</td>\n      <td>...</td>\n      <td>0.0</td>\n      <td>0.0</td>\n      <td>0.000000</td>\n      <td>1.0</td>\n      <td>0.000000</td>\n      <td>0.000000</td>\n      <td>0.000000</td>\n      <td>0.0</td>\n      <td>0.0</td>\n      <td>0.0</td>\n    </tr>\n  </tbody>\n</table>\n<p>30 rows × 110 columns</p>\n</div>"
     },
     "execution_count": 18,
     "metadata": {},
     "output_type": "execute_result"
    }
   ],
   "source": [
    "extracted_features"
   ],
   "metadata": {
    "collapsed": false
   }
  },
  {
   "cell_type": "code",
   "execution_count": 16,
   "outputs": [],
   "source": [
    "extracted_features.to_csv(\"feature_eng.csv\")"
   ],
   "metadata": {
    "collapsed": false
   }
  },
  {
   "cell_type": "code",
   "execution_count": 20,
   "outputs": [],
   "source": [
    "from tsfresh.convenience.bindings import spark_feature_extraction_on_chunk\n",
    "from tsfresh.feature_extraction.settings import MinimalFCParameters\n",
    "import pyspark\n",
    "from pyspark.sql import SparkSession\n",
    "spark = SparkSession.builder.appName('spark') \\\n",
    "                    .getOrCreate()\n"
   ],
   "metadata": {
    "collapsed": false
   }
  },
  {
   "cell_type": "code",
   "execution_count": 21,
   "outputs": [],
   "source": [
    "df=spark.createDataFrame(data)"
   ],
   "metadata": {
    "collapsed": false
   }
  },
  {
   "cell_type": "code",
   "execution_count": 22,
   "outputs": [
    {
     "name": "stdout",
     "output_type": "stream",
     "text": [
      "22/11/18 22:22:18 WARN TaskSetManager: Stage 0 contains a task of very large size (2860 KiB). The maximum recommended task size is 1000 KiB.\n"
     ]
    },
    {
     "name": "stderr",
     "output_type": "stream",
     "text": [
      "                                                                                \r"
     ]
    },
    {
     "data": {
      "text/plain": "725607"
     },
     "execution_count": 22,
     "metadata": {},
     "output_type": "execute_result"
    }
   ],
   "source": [
    "df.count()"
   ],
   "metadata": {
    "collapsed": false
   }
  },
  {
   "cell_type": "code",
   "execution_count": 23,
   "outputs": [
    {
     "name": "stdout",
     "output_type": "stream",
     "text": [
      "root\n",
      " |-- timestamp: long (nullable = true)\n",
      " |-- heart_rate: long (nullable = true)\n",
      " |-- enhanced_speed: long (nullable = true)\n",
      " |-- distance: long (nullable = true)\n",
      " |-- enhanced_altitude: long (nullable = true)\n",
      " |-- cadence: long (nullable = true)\n",
      " |-- temp: long (nullable = true)\n",
      " |-- wind_speed: long (nullable = true)\n",
      " |-- wind_direct: long (nullable = true)\n",
      " |-- rain: long (nullable = true)\n",
      " |-- slope_steep: long (nullable = true)\n",
      " |-- slope_ascent: long (nullable = true)\n",
      " |-- slope_descent: long (nullable = true)\n",
      "\n"
     ]
    }
   ],
   "source": [
    "df.printSchema()"
   ],
   "metadata": {
    "collapsed": false
   }
  },
  {
   "cell_type": "code",
   "execution_count": 30,
   "outputs": [],
   "source": [
    "from pyspark.sql.functions import array, col, explode, lit, struct\n",
    "from pyspark.sql import DataFrame\n",
    "from typing import Iterable\n",
    "def melt(\n",
    "        df: DataFrame,\n",
    "        id_vars: Iterable[str], value_vars: Iterable[str],\n",
    "        var_name: str=\"variable\", value_name: str=\"value\") -> DataFrame:\n",
    "    \"\"\"Convert :class:`DataFrame` from wide to long format.\"\"\"\n",
    "\n",
    "    # Create array<struct<variable: str, value: ...>>\n",
    "    _vars_and_vals = array(*(\n",
    "        struct(lit(c).alias(var_name), col(c).alias(value_name))\n",
    "        for c in value_vars))\n",
    "\n",
    "    # Add to the DataFrame and explode\n",
    "    _tmp = df.withColumn(\"_vars_and_vals\", explode(_vars_and_vals))\n",
    "\n",
    "    cols = id_vars + [\n",
    "            col(\"_vars_and_vals\")[x].alias(x) for x in [var_name, value_name]]\n",
    "    return _tmp.select(*cols)"
   ],
   "metadata": {
    "collapsed": false
   }
  },
  {
   "cell_type": "code",
   "execution_count": 44,
   "outputs": [
    {
     "name": "stdout",
     "output_type": "stream",
     "text": [
      "22/11/18 22:35:05 WARN TaskSetManager: Stage 16 contains a task of very large size (2860 KiB). The maximum recommended task size is 1000 KiB.\n",
      "+--------------+---------+-----------------+-----+\n",
      "|enhanced_speed|timestamp|             kind|value|\n",
      "+--------------+---------+-----------------+-----+\n",
      "|             6|        0|       heart_rate|   85|\n",
      "|             6|        0|         distance|    2|\n",
      "|             6|        0|enhanced_altitude|  249|\n",
      "|             6|        0|          cadence|   56|\n",
      "|             6|        0|             temp|    5|\n",
      "|             6|        0|       wind_speed|    8|\n",
      "|             6|        0|      wind_direct|  320|\n",
      "|             6|        0|             rain|    0|\n",
      "|             6|        0|      slope_steep|    0|\n",
      "|             6|        0|     slope_ascent|    0|\n",
      "|             6|        0|    slope_descent|    0|\n",
      "|            11|        1|       heart_rate|   87|\n",
      "|            11|        1|         distance|   23|\n",
      "|            11|        1|enhanced_altitude|  249|\n",
      "|            11|        1|          cadence|   86|\n",
      "|            11|        1|             temp|    5|\n",
      "|            11|        1|       wind_speed|    8|\n",
      "|            11|        1|      wind_direct|  320|\n",
      "|            11|        1|             rain|    0|\n",
      "|            11|        1|      slope_steep|    0|\n",
      "+--------------+---------+-----------------+-----+\n",
      "only showing top 20 rows\n",
      "\n"
     ]
    }
   ],
   "source": [
    "df_melted = melt(df, id_vars=[\"enhanced_speed\", \"timestamp\"],\n",
    "                 value_vars=features,\n",
    "                 var_name=\"kind\", value_name=\"value\")\n",
    "df_melted.show()"
   ],
   "metadata": {
    "collapsed": false
   }
  },
  {
   "cell_type": "code",
   "execution_count": 45,
   "outputs": [],
   "source": [
    "df_grouped = df_melted.groupby([\"enhanced_speed\", \"kind\"])"
   ],
   "metadata": {
    "collapsed": false
   }
  },
  {
   "cell_type": "code",
   "execution_count": 49,
   "outputs": [
    {
     "name": "stderr",
     "output_type": "stream",
     "text": [
      "UserWarning: It is preferred to use 'applyInPandas' over this API. This API will be deprecated in the future releases. See SPARK-28264 for more details.\n"
     ]
    }
   ],
   "source": [
    "from tsfresh.convenience.bindings import spark_feature_extraction_on_chunk\n",
    "from tsfresh.feature_extraction import ComprehensiveFCParameters\n",
    "features = spark_feature_extraction_on_chunk(df_grouped, column_id=\"enhanced_speed\",\n",
    "                                            column_kind=\"kind\",\n",
    "                                            column_sort=\"timestamp\",\n",
    "                                            column_value=\"value\",\n",
    "                                            default_fc_parameters=ComprehensiveFCParameters())\n"
   ],
   "metadata": {
    "collapsed": false
   }
  },
  {
   "cell_type": "code",
   "execution_count": 50,
   "outputs": [
    {
     "name": "stdout",
     "output_type": "stream",
     "text": [
      "root\n",
      " |-- enhanced_speed: long (nullable = true)\n",
      " |-- variable: string (nullable = true)\n",
      " |-- value: double (nullable = true)\n",
      "\n"
     ]
    }
   ],
   "source": [
    "features.printSchema()"
   ],
   "metadata": {
    "collapsed": false
   }
  },
  {
   "cell_type": "code",
   "execution_count": 52,
   "outputs": [
    {
     "name": "stdout",
     "output_type": "stream",
     "text": [
      "22/11/18 22:39:05 WARN TaskSetManager: Stage 25 contains a task of very large size (2860 KiB). The maximum recommended task size is 1000 KiB.\n"
     ]
    },
    {
     "name": "stderr",
     "output_type": "stream",
     "text": [
      "/home/zahradnik/PycharmProjects/master_thesis/venv/lib/python3.10/site-packages/tsfresh/feature_extraction/extraction.py:354: UserWarning: linear_trend_timewise requires the data to have a index of type <class 'pandas.core.indexes.datetimes.DatetimeIndex'>. Results will not be calculated\n",
      "  warnings.warn(\n",
      "/home/zahradnik/PycharmProjects/master_thesis/venv/lib/python3.10/site-packages/tsfresh/feature_extraction/extraction.py:354: UserWarning: linear_trend_timewise requires the data to have a index of type <class 'pandas.core.indexes.datetimes.DatetimeIndex'>. Results will not be calculated\n",
      "  warnings.warn(\n"
     ]
    },
    {
     "name": "stdout",
     "output_type": "stream",
     "text": [
      "22/11/18 22:40:06 WARN ArrowPythonRunner: Detected deadlock while completing task 0.0 in stage 27 (TID 98): Attempting to kill Python Worker\n",
      "+--------------+----------------------------------------------------------+---------------------+\n",
      "|enhanced_speed|variable                                                  |value                |\n",
      "+--------------+----------------------------------------------------------+---------------------+\n",
      "|3             |enhanced_altitude__variance_larger_than_standard_deviation|1.0                  |\n",
      "|3             |enhanced_altitude__has_duplicate_max                      |1.0                  |\n",
      "|3             |enhanced_altitude__has_duplicate_min                      |0.0                  |\n",
      "|3             |enhanced_altitude__has_duplicate                          |1.0                  |\n",
      "|3             |enhanced_altitude__sum_values                             |3103255.0            |\n",
      "|3             |enhanced_altitude__abs_energy                             |3.341354909E9        |\n",
      "|3             |enhanced_altitude__mean_abs_change                        |5.822835917312662    |\n",
      "|3             |enhanced_altitude__mean_change                            |-0.008882428940568475|\n",
      "|3             |enhanced_altitude__mean_second_derivative_central         |5.653367791956065E-4 |\n",
      "|3             |enhanced_altitude__median                                 |259.0                |\n",
      "|3             |enhanced_altitude__mean                                   |501.0907476182787    |\n",
      "|3             |enhanced_altitude__length                                 |6193.0               |\n",
      "|3             |enhanced_altitude__standard_deviation                     |537.0711581078249    |\n",
      "|3             |enhanced_altitude__variation_coefficient                  |1.0718041805013636   |\n",
      "|3             |enhanced_altitude__variance                               |288445.4288712802    |\n",
      "|3             |enhanced_altitude__skewness                               |2.2895339240011543   |\n",
      "|3             |enhanced_altitude__kurtosis                               |3.981665253174781    |\n",
      "|3             |enhanced_altitude__root_mean_square                       |734.5320729688566    |\n",
      "|3             |enhanced_altitude__absolute_sum_of_changes                |36055.0              |\n",
      "|3             |enhanced_altitude__longest_strike_below_mean              |2771.0               |\n",
      "+--------------+----------------------------------------------------------+---------------------+\n",
      "only showing top 20 rows\n",
      "\n"
     ]
    },
    {
     "name": "stderr",
     "output_type": "stream",
     "text": [
      "                                                                                \r"
     ]
    }
   ],
   "source": [
    "features.show(truncate=False)"
   ],
   "metadata": {
    "collapsed": false
   }
  },
  {
   "cell_type": "code",
   "execution_count": null,
   "outputs": [
    {
     "name": "stderr",
     "output_type": "stream",
     "text": [
      "/home/zahradnik/PycharmProjects/master_thesis/venv/lib/python3.10/site-packages/scipy/signal/_peak_finding.py:1182: RuntimeWarning: divide by zero encountered in double_scalars\n",
      "  snr = abs(cwt[line[0][0], line[1][0]] / noises[line[1][0]])\n"
     ]
    }
   ],
   "source": [
    "features.count()"
   ],
   "metadata": {
    "collapsed": false,
    "pycharm": {
     "is_executing": true
    }
   }
  }
 ],
 "metadata": {
  "kernelspec": {
   "display_name": "Python 3",
   "language": "python",
   "name": "python3"
  },
  "language_info": {
   "codemirror_mode": {
    "name": "ipython",
    "version": 2
   },
   "file_extension": ".py",
   "mimetype": "text/x-python",
   "name": "python",
   "nbconvert_exporter": "python",
   "pygments_lexer": "ipython2",
   "version": "2.7.6"
  }
 },
 "nbformat": 4,
 "nbformat_minor": 0
}
