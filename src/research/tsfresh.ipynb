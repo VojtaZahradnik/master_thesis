{
 "cells": [
  {
   "cell_type": "code",
   "execution_count": 4,
   "metadata": {
    "collapsed": true
   },
   "outputs": [],
   "source": [
    "from tsfresh import select_features, extract_features\n",
    "from tsfresh.utilities.dataframe_functions import impute\n",
    "from src.modules import conf, fit, raw_data, preprocess, df_columns\n",
    "import pandas as pd\n",
    "import numpy as np"
   ]
  },
  {
   "cell_type": "code",
   "execution_count": 5,
   "outputs": [
    {
     "name": "stdout",
     "output_type": "stream",
     "text": [
      "The autoreload extension is already loaded. To reload it, use:\n",
      "  %reload_ext autoreload\n"
     ]
    }
   ],
   "source": [
    "%load_ext autoreload\n",
    "%autoreload 2"
   ],
   "metadata": {
    "collapsed": false
   }
  },
  {
   "cell_type": "code",
   "execution_count": 53,
   "outputs": [
    {
     "name": "stderr",
     "output_type": "stream",
     "text": [
      "100%|██████████| 361/361 [00:00<00:00, 3442.50it/s]\n"
     ]
    }
   ],
   "source": [
    "data = fit.load_pcls(\n",
    "        'zahradnik',\n",
    "        'running',\n",
    "        conf[\"Paths\"][\"pcl\"],\n",
    "    )\n",
    "data = pd.concat(data)"
   ],
   "metadata": {
    "collapsed": false
   }
  },
  {
   "cell_type": "code",
   "execution_count": 7,
   "outputs": [],
   "source": [
    "drop_columns = [x for x in data.columns if x not in df_columns]"
   ],
   "metadata": {
    "collapsed": false
   }
  },
  {
   "cell_type": "code",
   "execution_count": 23,
   "outputs": [],
   "source": [
    "data = data[['heart_rate','enhanced_speed']]"
   ],
   "metadata": {
    "collapsed": false
   }
  },
  {
   "cell_type": "code",
   "execution_count": 54,
   "outputs": [],
   "source": [
    "data = data[df_columns]"
   ],
   "metadata": {
    "collapsed": false
   }
  },
  {
   "cell_type": "code",
   "execution_count": 55,
   "outputs": [],
   "source": [
    "data.reset_index(inplace=True)"
   ],
   "metadata": {
    "collapsed": false
   }
  },
  {
   "cell_type": "code",
   "execution_count": 11,
   "outputs": [
    {
     "data": {
      "text/plain": "                 timestamp  heart_rate  enhanced_speed  distance  \\\n0      2021-11-22 08:05:16        85.0          6.5160      2.00   \n1      2021-11-22 08:05:22        87.0         11.1528     23.28   \n2      2021-11-22 08:05:26        90.0         14.6448     39.91   \n3      2021-11-22 08:05:29        93.0         14.1084     52.04   \n4      2021-11-22 08:05:30        96.0         13.1328     56.29   \n...                    ...         ...             ...       ...   \n725602 2022-11-01 07:29:50       161.0         14.5800  11184.18   \n725603 2022-11-01 07:29:51       160.0         14.5440  11188.23   \n725604 2022-11-01 07:29:52       161.0         14.6124  11192.28   \n725605 2022-11-01 07:29:53       162.0         14.6448  11196.35   \n725606 2022-11-01 07:29:54       161.0         14.3784  11200.34   \n\n        enhanced_altitude  cadence  temp  wind_speed  wind_direct  rain  \\\n0                   249.4     56.0   5.3         8.7        320.0   0.5   \n1                   249.4     86.0   5.3         8.7        320.0   0.5   \n2                   249.4     86.0   5.3         8.7        320.0   0.5   \n3                   249.0     86.0   5.3         8.7        320.0   0.5   \n4                   249.2     85.0   5.3         8.7        320.0   0.5   \n...                   ...      ...   ...         ...          ...   ...   \n725602              245.2     90.0  12.6         4.8        307.0   1.4   \n725603              245.4     90.0  12.6         4.8        307.0   1.4   \n725604              245.4     91.0  12.6         4.8        307.0   1.4   \n725605              245.8     90.0  12.6         4.8        307.0   1.4   \n725606              246.0     89.0  12.6         4.8        307.0   1.4   \n\n        slope_steep  slope_ascent  slope_descent  \n0          0.000000           0.0            0.0  \n1          0.000000           0.0            0.0  \n2          0.000000           0.0            0.0  \n3          3.297609           0.0            0.4  \n4          4.705882           0.2            0.0  \n...             ...           ...            ...  \n725602     4.950495           0.2            0.0  \n725603     4.938272           0.2            0.0  \n725604     0.000000           0.0            0.0  \n725605     9.828010           0.4            0.0  \n725606     5.012531           0.2            0.0  \n\n[725607 rows x 13 columns]",
      "text/html": "<div>\n<style scoped>\n    .dataframe tbody tr th:only-of-type {\n        vertical-align: middle;\n    }\n\n    .dataframe tbody tr th {\n        vertical-align: top;\n    }\n\n    .dataframe thead th {\n        text-align: right;\n    }\n</style>\n<table border=\"1\" class=\"dataframe\">\n  <thead>\n    <tr style=\"text-align: right;\">\n      <th></th>\n      <th>timestamp</th>\n      <th>heart_rate</th>\n      <th>enhanced_speed</th>\n      <th>distance</th>\n      <th>enhanced_altitude</th>\n      <th>cadence</th>\n      <th>temp</th>\n      <th>wind_speed</th>\n      <th>wind_direct</th>\n      <th>rain</th>\n      <th>slope_steep</th>\n      <th>slope_ascent</th>\n      <th>slope_descent</th>\n    </tr>\n  </thead>\n  <tbody>\n    <tr>\n      <th>0</th>\n      <td>2021-11-22 08:05:16</td>\n      <td>85.0</td>\n      <td>6.5160</td>\n      <td>2.00</td>\n      <td>249.4</td>\n      <td>56.0</td>\n      <td>5.3</td>\n      <td>8.7</td>\n      <td>320.0</td>\n      <td>0.5</td>\n      <td>0.000000</td>\n      <td>0.0</td>\n      <td>0.0</td>\n    </tr>\n    <tr>\n      <th>1</th>\n      <td>2021-11-22 08:05:22</td>\n      <td>87.0</td>\n      <td>11.1528</td>\n      <td>23.28</td>\n      <td>249.4</td>\n      <td>86.0</td>\n      <td>5.3</td>\n      <td>8.7</td>\n      <td>320.0</td>\n      <td>0.5</td>\n      <td>0.000000</td>\n      <td>0.0</td>\n      <td>0.0</td>\n    </tr>\n    <tr>\n      <th>2</th>\n      <td>2021-11-22 08:05:26</td>\n      <td>90.0</td>\n      <td>14.6448</td>\n      <td>39.91</td>\n      <td>249.4</td>\n      <td>86.0</td>\n      <td>5.3</td>\n      <td>8.7</td>\n      <td>320.0</td>\n      <td>0.5</td>\n      <td>0.000000</td>\n      <td>0.0</td>\n      <td>0.0</td>\n    </tr>\n    <tr>\n      <th>3</th>\n      <td>2021-11-22 08:05:29</td>\n      <td>93.0</td>\n      <td>14.1084</td>\n      <td>52.04</td>\n      <td>249.0</td>\n      <td>86.0</td>\n      <td>5.3</td>\n      <td>8.7</td>\n      <td>320.0</td>\n      <td>0.5</td>\n      <td>3.297609</td>\n      <td>0.0</td>\n      <td>0.4</td>\n    </tr>\n    <tr>\n      <th>4</th>\n      <td>2021-11-22 08:05:30</td>\n      <td>96.0</td>\n      <td>13.1328</td>\n      <td>56.29</td>\n      <td>249.2</td>\n      <td>85.0</td>\n      <td>5.3</td>\n      <td>8.7</td>\n      <td>320.0</td>\n      <td>0.5</td>\n      <td>4.705882</td>\n      <td>0.2</td>\n      <td>0.0</td>\n    </tr>\n    <tr>\n      <th>...</th>\n      <td>...</td>\n      <td>...</td>\n      <td>...</td>\n      <td>...</td>\n      <td>...</td>\n      <td>...</td>\n      <td>...</td>\n      <td>...</td>\n      <td>...</td>\n      <td>...</td>\n      <td>...</td>\n      <td>...</td>\n      <td>...</td>\n    </tr>\n    <tr>\n      <th>725602</th>\n      <td>2022-11-01 07:29:50</td>\n      <td>161.0</td>\n      <td>14.5800</td>\n      <td>11184.18</td>\n      <td>245.2</td>\n      <td>90.0</td>\n      <td>12.6</td>\n      <td>4.8</td>\n      <td>307.0</td>\n      <td>1.4</td>\n      <td>4.950495</td>\n      <td>0.2</td>\n      <td>0.0</td>\n    </tr>\n    <tr>\n      <th>725603</th>\n      <td>2022-11-01 07:29:51</td>\n      <td>160.0</td>\n      <td>14.5440</td>\n      <td>11188.23</td>\n      <td>245.4</td>\n      <td>90.0</td>\n      <td>12.6</td>\n      <td>4.8</td>\n      <td>307.0</td>\n      <td>1.4</td>\n      <td>4.938272</td>\n      <td>0.2</td>\n      <td>0.0</td>\n    </tr>\n    <tr>\n      <th>725604</th>\n      <td>2022-11-01 07:29:52</td>\n      <td>161.0</td>\n      <td>14.6124</td>\n      <td>11192.28</td>\n      <td>245.4</td>\n      <td>91.0</td>\n      <td>12.6</td>\n      <td>4.8</td>\n      <td>307.0</td>\n      <td>1.4</td>\n      <td>0.000000</td>\n      <td>0.0</td>\n      <td>0.0</td>\n    </tr>\n    <tr>\n      <th>725605</th>\n      <td>2022-11-01 07:29:53</td>\n      <td>162.0</td>\n      <td>14.6448</td>\n      <td>11196.35</td>\n      <td>245.8</td>\n      <td>90.0</td>\n      <td>12.6</td>\n      <td>4.8</td>\n      <td>307.0</td>\n      <td>1.4</td>\n      <td>9.828010</td>\n      <td>0.4</td>\n      <td>0.0</td>\n    </tr>\n    <tr>\n      <th>725606</th>\n      <td>2022-11-01 07:29:54</td>\n      <td>161.0</td>\n      <td>14.3784</td>\n      <td>11200.34</td>\n      <td>246.0</td>\n      <td>89.0</td>\n      <td>12.6</td>\n      <td>4.8</td>\n      <td>307.0</td>\n      <td>1.4</td>\n      <td>5.012531</td>\n      <td>0.2</td>\n      <td>0.0</td>\n    </tr>\n  </tbody>\n</table>\n<p>725607 rows × 13 columns</p>\n</div>"
     },
     "execution_count": 11,
     "metadata": {},
     "output_type": "execute_result"
    }
   ],
   "source": [
    "data"
   ],
   "metadata": {
    "collapsed": false
   }
  },
  {
   "cell_type": "code",
   "execution_count": 56,
   "outputs": [
    {
     "name": "stdout",
     "output_type": "stream",
     "text": [
      "False\n",
      "False\n",
      "False\n"
     ]
    }
   ],
   "source": [
    "print(data.isnull().values.any())\n",
    "print(data.isin([np.inf, -np.inf]).values.any())\n",
    "print(data.isna().sum().any())"
   ],
   "metadata": {
    "collapsed": false
   }
  },
  {
   "cell_type": "code",
   "execution_count": 26,
   "outputs": [],
   "source": [
    "data['heart_rate'] = [int(x) for x in data.heart_rate]\n",
    "data['enhanced_speed'] = [int(x) for x in data.enhanced_speed]"
   ],
   "metadata": {
    "collapsed": false
   }
  },
  {
   "cell_type": "code",
   "execution_count": 63,
   "outputs": [
    {
     "name": "stderr",
     "output_type": "stream",
     "text": [
      "SettingWithCopyWarning: \n",
      "A value is trying to be set on a copy of a slice from a DataFrame.\n",
      "Try using .loc[row_indexer,col_indexer] = value instead\n",
      "\n",
      "See the caveats in the documentation: https://pandas.pydata.org/pandas-docs/stable/user_guide/indexing.html#returning-a-view-versus-a-copy\n"
     ]
    }
   ],
   "source": [
    "data['timestamp'] = [x for x in range(len(data))]"
   ],
   "metadata": {
    "collapsed": false
   }
  },
  {
   "cell_type": "code",
   "execution_count": 22,
   "outputs": [],
   "source": [
    "data =data[0:100]"
   ],
   "metadata": {
    "collapsed": false
   }
  },
  {
   "cell_type": "code",
   "execution_count": 58,
   "outputs": [],
   "source": [
    "for x in data:\n",
    "    data[x] = [int(y) for y in data[x]]"
   ],
   "metadata": {
    "collapsed": false
   }
  },
  {
   "cell_type": "code",
   "execution_count": 37,
   "outputs": [
    {
     "name": "stdout",
     "output_type": "stream",
     "text": [
      "100\n",
      "100\n"
     ]
    }
   ],
   "source": [
    "print(len(data))\n",
    "data.dropna(inplace=True)\n",
    "print(len(data))"
   ],
   "metadata": {
    "collapsed": false
   }
  },
  {
   "cell_type": "code",
   "execution_count": 60,
   "outputs": [],
   "source": [
    "data = data[['heart_rate','cadence','enhanced_speed']]"
   ],
   "metadata": {
    "collapsed": false
   }
  },
  {
   "cell_type": "code",
   "execution_count": 64,
   "outputs": [
    {
     "data": {
      "text/plain": "        heart_rate  cadence  enhanced_speed  timestamp\n0               85       56               6          0\n1               87       86              11          1\n2               90       86              14          2\n3               93       86              14          3\n4               96       85              13          4\n...            ...      ...             ...        ...\n725602         161       90              14     725602\n725603         160       90              14     725603\n725604         161       91              14     725604\n725605         162       90              14     725605\n725606         161       89              14     725606\n\n[725607 rows x 4 columns]",
      "text/html": "<div>\n<style scoped>\n    .dataframe tbody tr th:only-of-type {\n        vertical-align: middle;\n    }\n\n    .dataframe tbody tr th {\n        vertical-align: top;\n    }\n\n    .dataframe thead th {\n        text-align: right;\n    }\n</style>\n<table border=\"1\" class=\"dataframe\">\n  <thead>\n    <tr style=\"text-align: right;\">\n      <th></th>\n      <th>heart_rate</th>\n      <th>cadence</th>\n      <th>enhanced_speed</th>\n      <th>timestamp</th>\n    </tr>\n  </thead>\n  <tbody>\n    <tr>\n      <th>0</th>\n      <td>85</td>\n      <td>56</td>\n      <td>6</td>\n      <td>0</td>\n    </tr>\n    <tr>\n      <th>1</th>\n      <td>87</td>\n      <td>86</td>\n      <td>11</td>\n      <td>1</td>\n    </tr>\n    <tr>\n      <th>2</th>\n      <td>90</td>\n      <td>86</td>\n      <td>14</td>\n      <td>2</td>\n    </tr>\n    <tr>\n      <th>3</th>\n      <td>93</td>\n      <td>86</td>\n      <td>14</td>\n      <td>3</td>\n    </tr>\n    <tr>\n      <th>4</th>\n      <td>96</td>\n      <td>85</td>\n      <td>13</td>\n      <td>4</td>\n    </tr>\n    <tr>\n      <th>...</th>\n      <td>...</td>\n      <td>...</td>\n      <td>...</td>\n      <td>...</td>\n    </tr>\n    <tr>\n      <th>725602</th>\n      <td>161</td>\n      <td>90</td>\n      <td>14</td>\n      <td>725602</td>\n    </tr>\n    <tr>\n      <th>725603</th>\n      <td>160</td>\n      <td>90</td>\n      <td>14</td>\n      <td>725603</td>\n    </tr>\n    <tr>\n      <th>725604</th>\n      <td>161</td>\n      <td>91</td>\n      <td>14</td>\n      <td>725604</td>\n    </tr>\n    <tr>\n      <th>725605</th>\n      <td>162</td>\n      <td>90</td>\n      <td>14</td>\n      <td>725605</td>\n    </tr>\n    <tr>\n      <th>725606</th>\n      <td>161</td>\n      <td>89</td>\n      <td>14</td>\n      <td>725606</td>\n    </tr>\n  </tbody>\n</table>\n<p>725607 rows × 4 columns</p>\n</div>"
     },
     "execution_count": 64,
     "metadata": {},
     "output_type": "execute_result"
    }
   ],
   "source": [
    "data"
   ],
   "metadata": {
    "collapsed": false
   }
  },
  {
   "cell_type": "code",
   "execution_count": null,
   "outputs": [
    {
     "name": "stderr",
     "output_type": "stream",
     "text": [
      "Feature Extraction:  17%|█▋        | 10/60 [04:29<22:40, 27.21s/it]"
     ]
    }
   ],
   "source": [
    "from tsfresh.feature_extraction import extract_features, MinimalFCParameters\n",
    "extracted_features = extract_features(data, column_id=\"enhanced_speed\",column_sort=\"timestamp\",n_jobs=0)"
   ],
   "metadata": {
    "collapsed": false,
    "pycharm": {
     "is_executing": true
    }
   }
  },
  {
   "cell_type": "code",
   "execution_count": 16,
   "outputs": [
    {
     "data": {
      "text/plain": "         heart_rate__sum_values  heart_rate__median  heart_rate__mean  \\\n3.0060                    532.0               134.5        133.000000   \n3.0132                    111.0               111.0        111.000000   \n3.0240                  11918.0               121.0        125.452632   \n3.0276                    430.0               110.5        107.500000   \n3.0312                     95.0                95.0         95.000000   \n...                         ...                 ...               ...   \n30.6000                   143.0               143.0        143.000000   \n30.8376                   147.0               147.0        147.000000   \n30.9024                   142.0               142.0        142.000000   \n33.5916                   148.0               148.0        148.000000   \n37.3536                   145.0               145.0        145.000000   \n\n         heart_rate__length  heart_rate__standard_deviation  \\\n3.0060                  4.0                        2.915476   \n3.0132                  1.0                        0.000000   \n3.0240                 95.0                       18.591321   \n3.0276                  4.0                        6.103278   \n3.0312                  1.0                        0.000000   \n...                     ...                             ...   \n30.6000                 1.0                        0.000000   \n30.8376                 1.0                        0.000000   \n30.9024                 1.0                        0.000000   \n33.5916                 1.0                        0.000000   \n37.3536                 1.0                        0.000000   \n\n         heart_rate__variance  heart_rate__root_mean_square  \\\n3.0060                8.50000                    133.031951   \n3.0132                0.00000                    111.000000   \n3.0240              345.63723                    126.822711   \n3.0276               37.25000                    107.673116   \n3.0312                0.00000                     95.000000   \n...                       ...                           ...   \n30.6000               0.00000                    143.000000   \n30.8376               0.00000                    147.000000   \n30.9024               0.00000                    142.000000   \n33.5916               0.00000                    148.000000   \n37.3536               0.00000                    145.000000   \n\n         heart_rate__maximum  heart_rate__absolute_maximum  \\\n3.0060                 135.0                         135.0   \n3.0132                 111.0                         111.0   \n3.0240                 179.0                         179.0   \n3.0276                 112.0                         112.0   \n3.0312                  95.0                          95.0   \n...                      ...                           ...   \n30.6000                143.0                         143.0   \n30.8376                147.0                         147.0   \n30.9024                142.0                         142.0   \n33.5916                148.0                         148.0   \n37.3536                145.0                         145.0   \n\n         heart_rate__minimum  ...  slope_descent__sum_values  \\\n3.0060                 128.0  ...                        1.0   \n3.0132                 111.0  ...                        0.0   \n3.0240                  98.0  ...                       10.4   \n3.0276                  97.0  ...                        0.2   \n3.0312                  95.0  ...                        0.0   \n...                      ...  ...                        ...   \n30.6000                143.0  ...                        0.2   \n30.8376                147.0  ...                        0.0   \n30.9024                142.0  ...                        0.0   \n33.5916                148.0  ...                        0.2   \n37.3536                145.0  ...                        0.8   \n\n         slope_descent__median  slope_descent__mean  slope_descent__length  \\\n3.0060                     0.2             0.250000                    4.0   \n3.0132                     0.0             0.000000                    1.0   \n3.0240                     0.0             0.109474                   95.0   \n3.0276                     0.0             0.050000                    4.0   \n3.0312                     0.0             0.000000                    1.0   \n...                        ...                  ...                    ...   \n30.6000                    0.2             0.200000                    1.0   \n30.8376                    0.0             0.000000                    1.0   \n30.9024                    0.0             0.000000                    1.0   \n33.5916                    0.2             0.200000                    1.0   \n37.3536                    0.8             0.800000                    1.0   \n\n         slope_descent__standard_deviation  slope_descent__variance  \\\n3.0060                            0.217945                 0.047500   \n3.0132                            0.000000                 0.000000   \n3.0240                            0.329297                 0.108437   \n3.0276                            0.086603                 0.007500   \n3.0312                            0.000000                 0.000000   \n...                                    ...                      ...   \n30.6000                           0.000000                 0.000000   \n30.8376                           0.000000                 0.000000   \n30.9024                           0.000000                 0.000000   \n33.5916                           0.000000                 0.000000   \n37.3536                           0.000000                 0.000000   \n\n         slope_descent__root_mean_square  slope_descent__maximum  \\\n3.0060                          0.331662                     0.6   \n3.0132                          0.000000                     0.0   \n3.0240                          0.347017                     2.0   \n3.0276                          0.100000                     0.2   \n3.0312                          0.000000                     0.0   \n...                                  ...                     ...   \n30.6000                         0.200000                     0.2   \n30.8376                         0.000000                     0.0   \n30.9024                         0.000000                     0.0   \n33.5916                         0.200000                     0.2   \n37.3536                         0.800000                     0.8   \n\n         slope_descent__absolute_maximum  slope_descent__minimum  \n3.0060                               0.6                     0.0  \n3.0132                               0.0                     0.0  \n3.0240                               2.0                     0.0  \n3.0276                               0.2                     0.0  \n3.0312                               0.0                     0.0  \n...                                  ...                     ...  \n30.6000                              0.2                     0.2  \n30.8376                              0.0                     0.0  \n30.9024                              0.0                     0.0  \n33.5916                              0.2                     0.2  \n37.3536                              0.8                     0.8  \n\n[4592 rows x 110 columns]",
      "text/html": "<div>\n<style scoped>\n    .dataframe tbody tr th:only-of-type {\n        vertical-align: middle;\n    }\n\n    .dataframe tbody tr th {\n        vertical-align: top;\n    }\n\n    .dataframe thead th {\n        text-align: right;\n    }\n</style>\n<table border=\"1\" class=\"dataframe\">\n  <thead>\n    <tr style=\"text-align: right;\">\n      <th></th>\n      <th>heart_rate__sum_values</th>\n      <th>heart_rate__median</th>\n      <th>heart_rate__mean</th>\n      <th>heart_rate__length</th>\n      <th>heart_rate__standard_deviation</th>\n      <th>heart_rate__variance</th>\n      <th>heart_rate__root_mean_square</th>\n      <th>heart_rate__maximum</th>\n      <th>heart_rate__absolute_maximum</th>\n      <th>heart_rate__minimum</th>\n      <th>...</th>\n      <th>slope_descent__sum_values</th>\n      <th>slope_descent__median</th>\n      <th>slope_descent__mean</th>\n      <th>slope_descent__length</th>\n      <th>slope_descent__standard_deviation</th>\n      <th>slope_descent__variance</th>\n      <th>slope_descent__root_mean_square</th>\n      <th>slope_descent__maximum</th>\n      <th>slope_descent__absolute_maximum</th>\n      <th>slope_descent__minimum</th>\n    </tr>\n  </thead>\n  <tbody>\n    <tr>\n      <th>3.0060</th>\n      <td>532.0</td>\n      <td>134.5</td>\n      <td>133.000000</td>\n      <td>4.0</td>\n      <td>2.915476</td>\n      <td>8.50000</td>\n      <td>133.031951</td>\n      <td>135.0</td>\n      <td>135.0</td>\n      <td>128.0</td>\n      <td>...</td>\n      <td>1.0</td>\n      <td>0.2</td>\n      <td>0.250000</td>\n      <td>4.0</td>\n      <td>0.217945</td>\n      <td>0.047500</td>\n      <td>0.331662</td>\n      <td>0.6</td>\n      <td>0.6</td>\n      <td>0.0</td>\n    </tr>\n    <tr>\n      <th>3.0132</th>\n      <td>111.0</td>\n      <td>111.0</td>\n      <td>111.000000</td>\n      <td>1.0</td>\n      <td>0.000000</td>\n      <td>0.00000</td>\n      <td>111.000000</td>\n      <td>111.0</td>\n      <td>111.0</td>\n      <td>111.0</td>\n      <td>...</td>\n      <td>0.0</td>\n      <td>0.0</td>\n      <td>0.000000</td>\n      <td>1.0</td>\n      <td>0.000000</td>\n      <td>0.000000</td>\n      <td>0.000000</td>\n      <td>0.0</td>\n      <td>0.0</td>\n      <td>0.0</td>\n    </tr>\n    <tr>\n      <th>3.0240</th>\n      <td>11918.0</td>\n      <td>121.0</td>\n      <td>125.452632</td>\n      <td>95.0</td>\n      <td>18.591321</td>\n      <td>345.63723</td>\n      <td>126.822711</td>\n      <td>179.0</td>\n      <td>179.0</td>\n      <td>98.0</td>\n      <td>...</td>\n      <td>10.4</td>\n      <td>0.0</td>\n      <td>0.109474</td>\n      <td>95.0</td>\n      <td>0.329297</td>\n      <td>0.108437</td>\n      <td>0.347017</td>\n      <td>2.0</td>\n      <td>2.0</td>\n      <td>0.0</td>\n    </tr>\n    <tr>\n      <th>3.0276</th>\n      <td>430.0</td>\n      <td>110.5</td>\n      <td>107.500000</td>\n      <td>4.0</td>\n      <td>6.103278</td>\n      <td>37.25000</td>\n      <td>107.673116</td>\n      <td>112.0</td>\n      <td>112.0</td>\n      <td>97.0</td>\n      <td>...</td>\n      <td>0.2</td>\n      <td>0.0</td>\n      <td>0.050000</td>\n      <td>4.0</td>\n      <td>0.086603</td>\n      <td>0.007500</td>\n      <td>0.100000</td>\n      <td>0.2</td>\n      <td>0.2</td>\n      <td>0.0</td>\n    </tr>\n    <tr>\n      <th>3.0312</th>\n      <td>95.0</td>\n      <td>95.0</td>\n      <td>95.000000</td>\n      <td>1.0</td>\n      <td>0.000000</td>\n      <td>0.00000</td>\n      <td>95.000000</td>\n      <td>95.0</td>\n      <td>95.0</td>\n      <td>95.0</td>\n      <td>...</td>\n      <td>0.0</td>\n      <td>0.0</td>\n      <td>0.000000</td>\n      <td>1.0</td>\n      <td>0.000000</td>\n      <td>0.000000</td>\n      <td>0.000000</td>\n      <td>0.0</td>\n      <td>0.0</td>\n      <td>0.0</td>\n    </tr>\n    <tr>\n      <th>...</th>\n      <td>...</td>\n      <td>...</td>\n      <td>...</td>\n      <td>...</td>\n      <td>...</td>\n      <td>...</td>\n      <td>...</td>\n      <td>...</td>\n      <td>...</td>\n      <td>...</td>\n      <td>...</td>\n      <td>...</td>\n      <td>...</td>\n      <td>...</td>\n      <td>...</td>\n      <td>...</td>\n      <td>...</td>\n      <td>...</td>\n      <td>...</td>\n      <td>...</td>\n      <td>...</td>\n    </tr>\n    <tr>\n      <th>30.6000</th>\n      <td>143.0</td>\n      <td>143.0</td>\n      <td>143.000000</td>\n      <td>1.0</td>\n      <td>0.000000</td>\n      <td>0.00000</td>\n      <td>143.000000</td>\n      <td>143.0</td>\n      <td>143.0</td>\n      <td>143.0</td>\n      <td>...</td>\n      <td>0.2</td>\n      <td>0.2</td>\n      <td>0.200000</td>\n      <td>1.0</td>\n      <td>0.000000</td>\n      <td>0.000000</td>\n      <td>0.200000</td>\n      <td>0.2</td>\n      <td>0.2</td>\n      <td>0.2</td>\n    </tr>\n    <tr>\n      <th>30.8376</th>\n      <td>147.0</td>\n      <td>147.0</td>\n      <td>147.000000</td>\n      <td>1.0</td>\n      <td>0.000000</td>\n      <td>0.00000</td>\n      <td>147.000000</td>\n      <td>147.0</td>\n      <td>147.0</td>\n      <td>147.0</td>\n      <td>...</td>\n      <td>0.0</td>\n      <td>0.0</td>\n      <td>0.000000</td>\n      <td>1.0</td>\n      <td>0.000000</td>\n      <td>0.000000</td>\n      <td>0.000000</td>\n      <td>0.0</td>\n      <td>0.0</td>\n      <td>0.0</td>\n    </tr>\n    <tr>\n      <th>30.9024</th>\n      <td>142.0</td>\n      <td>142.0</td>\n      <td>142.000000</td>\n      <td>1.0</td>\n      <td>0.000000</td>\n      <td>0.00000</td>\n      <td>142.000000</td>\n      <td>142.0</td>\n      <td>142.0</td>\n      <td>142.0</td>\n      <td>...</td>\n      <td>0.0</td>\n      <td>0.0</td>\n      <td>0.000000</td>\n      <td>1.0</td>\n      <td>0.000000</td>\n      <td>0.000000</td>\n      <td>0.000000</td>\n      <td>0.0</td>\n      <td>0.0</td>\n      <td>0.0</td>\n    </tr>\n    <tr>\n      <th>33.5916</th>\n      <td>148.0</td>\n      <td>148.0</td>\n      <td>148.000000</td>\n      <td>1.0</td>\n      <td>0.000000</td>\n      <td>0.00000</td>\n      <td>148.000000</td>\n      <td>148.0</td>\n      <td>148.0</td>\n      <td>148.0</td>\n      <td>...</td>\n      <td>0.2</td>\n      <td>0.2</td>\n      <td>0.200000</td>\n      <td>1.0</td>\n      <td>0.000000</td>\n      <td>0.000000</td>\n      <td>0.200000</td>\n      <td>0.2</td>\n      <td>0.2</td>\n      <td>0.2</td>\n    </tr>\n    <tr>\n      <th>37.3536</th>\n      <td>145.0</td>\n      <td>145.0</td>\n      <td>145.000000</td>\n      <td>1.0</td>\n      <td>0.000000</td>\n      <td>0.00000</td>\n      <td>145.000000</td>\n      <td>145.0</td>\n      <td>145.0</td>\n      <td>145.0</td>\n      <td>...</td>\n      <td>0.8</td>\n      <td>0.8</td>\n      <td>0.800000</td>\n      <td>1.0</td>\n      <td>0.000000</td>\n      <td>0.000000</td>\n      <td>0.800000</td>\n      <td>0.8</td>\n      <td>0.8</td>\n      <td>0.8</td>\n    </tr>\n  </tbody>\n</table>\n<p>4592 rows × 110 columns</p>\n</div>"
     },
     "execution_count": 16,
     "metadata": {},
     "output_type": "execute_result"
    }
   ],
   "source": [
    "extracted_features"
   ],
   "metadata": {
    "collapsed": false
   }
  }
 ],
 "metadata": {
  "kernelspec": {
   "display_name": "Python 3",
   "language": "python",
   "name": "python3"
  },
  "language_info": {
   "codemirror_mode": {
    "name": "ipython",
    "version": 2
   },
   "file_extension": ".py",
   "mimetype": "text/x-python",
   "name": "python",
   "nbconvert_exporter": "python",
   "pygments_lexer": "ipython2",
   "version": "2.7.6"
  }
 },
 "nbformat": 4,
 "nbformat_minor": 0
}
